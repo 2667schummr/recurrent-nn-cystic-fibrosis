{
 "cells": [
  {
   "cell_type": "code",
   "execution_count": 99,
   "metadata": {},
   "outputs": [],
   "source": [
    "import pandas as pd\n",
    "import numpy as np\n",
    "import pickle"
   ]
  },
  {
   "cell_type": "code",
   "execution_count": 73,
   "metadata": {},
   "outputs": [
    {
     "name": "stdout",
     "output_type": "stream",
     "text": [
      "Feature Shape: (513452, 70)\n",
      "Patient Info Shape: (2993116, 12)\n"
     ]
    }
   ],
   "source": [
    "# Load patient physiological features and health outcomes\n",
    "patient_features = pd.read_csv('/home/ryan/dl-data-exploration/patient_features.csv')\n",
    "patient_info = pd.read_csv('/home/ryan/dl-data-exploration/patient_info.csv')\n",
    "\n",
    "# Drop index column\n",
    "patient_features = patient_features.drop(patient_features.columns[0], axis=1)\n",
    "patient_info = patient_info.drop(patient_info.columns[0], axis=1)\n",
    "\n",
    "print('Feature Shape: {}'.format(patient_features.shape))\n",
    "print('Patient Info Shape: {}'.format(patient_info.shape))"
   ]
  },
  {
   "cell_type": "code",
   "execution_count": 74,
   "metadata": {},
   "outputs": [
    {
     "data": {
      "text/html": [
       "<div>\n",
       "<style scoped>\n",
       "    .dataframe tbody tr th:only-of-type {\n",
       "        vertical-align: middle;\n",
       "    }\n",
       "\n",
       "    .dataframe tbody tr th {\n",
       "        vertical-align: top;\n",
       "    }\n",
       "\n",
       "    .dataframe thead th {\n",
       "        text-align: right;\n",
       "    }\n",
       "</style>\n",
       "<table border=\"1\" class=\"dataframe\">\n",
       "  <thead>\n",
       "    <tr style=\"text-align: right;\">\n",
       "      <th></th>\n",
       "      <th>eDWID</th>\n",
       "      <th>YRM</th>\n",
       "      <th>mssa</th>\n",
       "      <th>mrsa</th>\n",
       "      <th>h_flu</th>\n",
       "      <th>pseudo</th>\n",
       "      <th>burkho_complex</th>\n",
       "      <th>alcalig</th>\n",
       "      <th>steno</th>\n",
       "      <th>enterobacter</th>\n",
       "      <th>...</th>\n",
       "      <th>hypersaline</th>\n",
       "      <th>chronic_macrolide</th>\n",
       "      <th>oral_steroids</th>\n",
       "      <th>inh_steroids</th>\n",
       "      <th>inhsteroids_bronchodil</th>\n",
       "      <th>oral_other_abx</th>\n",
       "      <th>txflag</th>\n",
       "      <th>othertx</th>\n",
       "      <th>nexttxflag</th>\n",
       "      <th>nextothertx</th>\n",
       "    </tr>\n",
       "  </thead>\n",
       "  <tbody>\n",
       "    <tr>\n",
       "      <td>0</td>\n",
       "      <td>900000702</td>\n",
       "      <td>2003</td>\n",
       "      <td>0</td>\n",
       "      <td>0</td>\n",
       "      <td>0</td>\n",
       "      <td>1</td>\n",
       "      <td>0</td>\n",
       "      <td>0</td>\n",
       "      <td>0</td>\n",
       "      <td>0</td>\n",
       "      <td>...</td>\n",
       "      <td>0</td>\n",
       "      <td>1</td>\n",
       "      <td>0</td>\n",
       "      <td>0</td>\n",
       "      <td>0</td>\n",
       "      <td>0</td>\n",
       "      <td>0</td>\n",
       "      <td>0</td>\n",
       "      <td>0.0</td>\n",
       "      <td>0.0</td>\n",
       "    </tr>\n",
       "    <tr>\n",
       "      <td>1</td>\n",
       "      <td>900000702</td>\n",
       "      <td>2004</td>\n",
       "      <td>0</td>\n",
       "      <td>0</td>\n",
       "      <td>0</td>\n",
       "      <td>1</td>\n",
       "      <td>0</td>\n",
       "      <td>0</td>\n",
       "      <td>0</td>\n",
       "      <td>0</td>\n",
       "      <td>...</td>\n",
       "      <td>0</td>\n",
       "      <td>1</td>\n",
       "      <td>0</td>\n",
       "      <td>0</td>\n",
       "      <td>0</td>\n",
       "      <td>0</td>\n",
       "      <td>0</td>\n",
       "      <td>0</td>\n",
       "      <td>0.0</td>\n",
       "      <td>0.0</td>\n",
       "    </tr>\n",
       "    <tr>\n",
       "      <td>2</td>\n",
       "      <td>900000702</td>\n",
       "      <td>2005</td>\n",
       "      <td>0</td>\n",
       "      <td>0</td>\n",
       "      <td>0</td>\n",
       "      <td>1</td>\n",
       "      <td>0</td>\n",
       "      <td>0</td>\n",
       "      <td>0</td>\n",
       "      <td>0</td>\n",
       "      <td>...</td>\n",
       "      <td>0</td>\n",
       "      <td>1</td>\n",
       "      <td>0</td>\n",
       "      <td>0</td>\n",
       "      <td>0</td>\n",
       "      <td>0</td>\n",
       "      <td>0</td>\n",
       "      <td>0</td>\n",
       "      <td>0.0</td>\n",
       "      <td>0.0</td>\n",
       "    </tr>\n",
       "    <tr>\n",
       "      <td>3</td>\n",
       "      <td>900000702</td>\n",
       "      <td>2006</td>\n",
       "      <td>0</td>\n",
       "      <td>0</td>\n",
       "      <td>0</td>\n",
       "      <td>1</td>\n",
       "      <td>0</td>\n",
       "      <td>0</td>\n",
       "      <td>0</td>\n",
       "      <td>0</td>\n",
       "      <td>...</td>\n",
       "      <td>0</td>\n",
       "      <td>1</td>\n",
       "      <td>0</td>\n",
       "      <td>1</td>\n",
       "      <td>0</td>\n",
       "      <td>0</td>\n",
       "      <td>0</td>\n",
       "      <td>0</td>\n",
       "      <td>0.0</td>\n",
       "      <td>0.0</td>\n",
       "    </tr>\n",
       "    <tr>\n",
       "      <td>4</td>\n",
       "      <td>900000702</td>\n",
       "      <td>2007</td>\n",
       "      <td>0</td>\n",
       "      <td>0</td>\n",
       "      <td>0</td>\n",
       "      <td>1</td>\n",
       "      <td>0</td>\n",
       "      <td>0</td>\n",
       "      <td>0</td>\n",
       "      <td>0</td>\n",
       "      <td>...</td>\n",
       "      <td>0</td>\n",
       "      <td>1</td>\n",
       "      <td>0</td>\n",
       "      <td>1</td>\n",
       "      <td>0</td>\n",
       "      <td>0</td>\n",
       "      <td>0</td>\n",
       "      <td>0</td>\n",
       "      <td>0.0</td>\n",
       "      <td>0.0</td>\n",
       "    </tr>\n",
       "  </tbody>\n",
       "</table>\n",
       "<p>5 rows × 70 columns</p>\n",
       "</div>"
      ],
      "text/plain": [
       "       eDWID   YRM  mssa  mrsa  h_flu  pseudo  burkho_complex  alcalig  steno  \\\n",
       "0  900000702  2003     0     0      0       1               0        0      0   \n",
       "1  900000702  2004     0     0      0       1               0        0      0   \n",
       "2  900000702  2005     0     0      0       1               0        0      0   \n",
       "3  900000702  2006     0     0      0       1               0        0      0   \n",
       "4  900000702  2007     0     0      0       1               0        0      0   \n",
       "\n",
       "   enterobacter  ...  hypersaline  chronic_macrolide  oral_steroids  \\\n",
       "0             0  ...            0                  1              0   \n",
       "1             0  ...            0                  1              0   \n",
       "2             0  ...            0                  1              0   \n",
       "3             0  ...            0                  1              0   \n",
       "4             0  ...            0                  1              0   \n",
       "\n",
       "   inh_steroids  inhsteroids_bronchodil  oral_other_abx  txflag  othertx  \\\n",
       "0             0                       0               0       0        0   \n",
       "1             0                       0               0       0        0   \n",
       "2             0                       0               0       0        0   \n",
       "3             1                       0               0       0        0   \n",
       "4             1                       0               0       0        0   \n",
       "\n",
       "   nexttxflag  nextothertx  \n",
       "0         0.0          0.0  \n",
       "1         0.0          0.0  \n",
       "2         0.0          0.0  \n",
       "3         0.0          0.0  \n",
       "4         0.0          0.0  \n",
       "\n",
       "[5 rows x 70 columns]"
      ]
     },
     "execution_count": 74,
     "metadata": {},
     "output_type": "execute_result"
    }
   ],
   "source": [
    "patient_features.head()"
   ]
  },
  {
   "cell_type": "code",
   "execution_count": 75,
   "metadata": {},
   "outputs": [
    {
     "data": {
      "text/html": [
       "<div>\n",
       "<style scoped>\n",
       "    .dataframe tbody tr th:only-of-type {\n",
       "        vertical-align: middle;\n",
       "    }\n",
       "\n",
       "    .dataframe tbody tr th {\n",
       "        vertical-align: top;\n",
       "    }\n",
       "\n",
       "    .dataframe thead th {\n",
       "        text-align: right;\n",
       "    }\n",
       "</style>\n",
       "<table border=\"1\" class=\"dataframe\">\n",
       "  <thead>\n",
       "    <tr style=\"text-align: right;\">\n",
       "      <th></th>\n",
       "      <th>eDWID</th>\n",
       "      <th>YRM</th>\n",
       "      <th>jedate</th>\n",
       "      <th>jbdate</th>\n",
       "      <th>jddate</th>\n",
       "      <th>mut_name1</th>\n",
       "      <th>mut_name2</th>\n",
       "      <th>mut_name3</th>\n",
       "      <th>survdays</th>\n",
       "      <th>dflag</th>\n",
       "      <th>surv5</th>\n",
       "      <th>dflag5</th>\n",
       "    </tr>\n",
       "  </thead>\n",
       "  <tbody>\n",
       "    <tr>\n",
       "      <td>0</td>\n",
       "      <td>900000702</td>\n",
       "      <td>1997</td>\n",
       "      <td>13669</td>\n",
       "      <td>13623</td>\n",
       "      <td>NaN</td>\n",
       "      <td>F508del</td>\n",
       "      <td>F508del</td>\n",
       "      <td>NaN</td>\n",
       "      <td>6784</td>\n",
       "      <td>0</td>\n",
       "      <td>1826.21</td>\n",
       "      <td>0</td>\n",
       "    </tr>\n",
       "    <tr>\n",
       "      <td>1</td>\n",
       "      <td>900000702</td>\n",
       "      <td>1997</td>\n",
       "      <td>13696</td>\n",
       "      <td>13623</td>\n",
       "      <td>NaN</td>\n",
       "      <td>F508del</td>\n",
       "      <td>F508del</td>\n",
       "      <td>NaN</td>\n",
       "      <td>6757</td>\n",
       "      <td>0</td>\n",
       "      <td>1826.21</td>\n",
       "      <td>0</td>\n",
       "    </tr>\n",
       "    <tr>\n",
       "      <td>2</td>\n",
       "      <td>900000702</td>\n",
       "      <td>1997</td>\n",
       "      <td>13697</td>\n",
       "      <td>13623</td>\n",
       "      <td>NaN</td>\n",
       "      <td>F508del</td>\n",
       "      <td>F508del</td>\n",
       "      <td>NaN</td>\n",
       "      <td>6756</td>\n",
       "      <td>0</td>\n",
       "      <td>1826.21</td>\n",
       "      <td>0</td>\n",
       "    </tr>\n",
       "    <tr>\n",
       "      <td>3</td>\n",
       "      <td>900000702</td>\n",
       "      <td>1997</td>\n",
       "      <td>13788</td>\n",
       "      <td>13623</td>\n",
       "      <td>NaN</td>\n",
       "      <td>F508del</td>\n",
       "      <td>F508del</td>\n",
       "      <td>NaN</td>\n",
       "      <td>6665</td>\n",
       "      <td>0</td>\n",
       "      <td>1826.21</td>\n",
       "      <td>0</td>\n",
       "    </tr>\n",
       "    <tr>\n",
       "      <td>4</td>\n",
       "      <td>900000702</td>\n",
       "      <td>1998</td>\n",
       "      <td>13913</td>\n",
       "      <td>13623</td>\n",
       "      <td>NaN</td>\n",
       "      <td>F508del</td>\n",
       "      <td>F508del</td>\n",
       "      <td>NaN</td>\n",
       "      <td>6540</td>\n",
       "      <td>0</td>\n",
       "      <td>1826.21</td>\n",
       "      <td>0</td>\n",
       "    </tr>\n",
       "  </tbody>\n",
       "</table>\n",
       "</div>"
      ],
      "text/plain": [
       "       eDWID   YRM  jedate  jbdate  jddate mut_name1 mut_name2 mut_name3  \\\n",
       "0  900000702  1997   13669   13623     NaN   F508del   F508del       NaN   \n",
       "1  900000702  1997   13696   13623     NaN   F508del   F508del       NaN   \n",
       "2  900000702  1997   13697   13623     NaN   F508del   F508del       NaN   \n",
       "3  900000702  1997   13788   13623     NaN   F508del   F508del       NaN   \n",
       "4  900000702  1998   13913   13623     NaN   F508del   F508del       NaN   \n",
       "\n",
       "   survdays  dflag    surv5  dflag5  \n",
       "0      6784      0  1826.21       0  \n",
       "1      6757      0  1826.21       0  \n",
       "2      6756      0  1826.21       0  \n",
       "3      6665      0  1826.21       0  \n",
       "4      6540      0  1826.21       0  "
      ]
     },
     "execution_count": 75,
     "metadata": {},
     "output_type": "execute_result"
    }
   ],
   "source": [
    "patient_info.head()"
   ]
  },
  {
   "cell_type": "code",
   "execution_count": 76,
   "metadata": {},
   "outputs": [
    {
     "name": "stdout",
     "output_type": "stream",
     "text": [
      "Number of patients without features: 5522\n"
     ]
    }
   ],
   "source": [
    "# Find the difference between the number of patients in each table\n",
    "num_patients_no_feats = np.abs(patient_features['eDWID'].nunique() - patient_info['eDWID'].nunique())\n",
    "print('Number of patients without features: {}'.format(num_patients_no_feats))"
   ]
  },
  {
   "cell_type": "code",
   "execution_count": 78,
   "metadata": {},
   "outputs": [
    {
     "name": "stdout",
     "output_type": "stream",
     "text": [
      "dflags Shape: (43454, 2)\n"
     ]
    }
   ],
   "source": [
    "# Extract death outcomes\n",
    "dflags = patient_info[['eDWID', 'dflag']].drop_duplicates()\n",
    "dflags = dflags[dflags.eDWID.isin(patient_features.eDWID.unique())] # Remove patients with no features\n",
    "print('dflags Shape: {}'.format(dflags.shape))"
   ]
  },
  {
   "cell_type": "code",
   "execution_count": 79,
   "metadata": {},
   "outputs": [
    {
     "name": "stdout",
     "output_type": "stream",
     "text": [
      "Average number of recordings per patient: 11.8159893220417\n",
      "Standard deviation of the number of recordings per patient: 7.867254489336622\n",
      "Maximum number of recordings per patient: 30\n",
      "Minimum number of recordings per patient: 1\n"
     ]
    }
   ],
   "source": [
    "# Sort according to patient\n",
    "patient_features = patient_features.sort_values(by=['eDWID']) \n",
    "dflags = dflags.sort_values(by=['eDWID'])\n",
    "\n",
    "# Compute measurement frequency statistics\n",
    "tmp = patient_features.groupby('eDWID').count()['YRM']\n",
    "avg_recordings = tmp.mean()\n",
    "std_recordings = tmp.std()\n",
    "max_recordings = tmp.max()\n",
    "min_recordings = tmp.min()\n",
    "\n",
    "print('Average number of recordings per patient: {}'.format(avg_recordings))\n",
    "print('Standard deviation of the number of recordings per patient: {}'.format(std_recordings))\n",
    "print('Maximum number of recordings per patient: {}'.format(max_recordings))\n",
    "print('Minimum number of recordings per patient: {}'.format(min_recordings))"
   ]
  },
  {
   "cell_type": "code",
   "execution_count": 84,
   "metadata": {},
   "outputs": [
    {
     "name": "stdout",
     "output_type": "stream",
     "text": [
      "Number of incomplete rows: 513452\n",
      "Number of incomplete cols: 36\n"
     ]
    }
   ],
   "source": [
    "# Compute number of rows and columns with missing values\n",
    "def count_nan(x):\n",
    "    return np.isnan(x).sum() > 0\n",
    "\n",
    "num_incomplete_rows = patient_features.apply(count_nan, axis=1).sum()\n",
    "num_incomplete_cols = patient_features.apply(count_nan, axis=0).sum()\n",
    "\n",
    "print('Number of incomplete rows: {}'.format(num_incomplete_rows))\n",
    "print('Number of incomplete cols: {}'.format(num_incomplete_cols))"
   ]
  },
  {
   "cell_type": "code",
   "execution_count": 93,
   "metadata": {},
   "outputs": [],
   "source": [
    "# Drop incomplete features\n",
    "cols_to_drop = patient_features.apply(count_nan, axis=0)\n",
    "cols_to_drop = patient_features.columns[cols_to_drop]\n",
    "complete_patient_features = patient_features.drop(cols_to_drop, axis=1).sort_values(by=['eDWID', 'YRM'])"
   ]
  },
  {
   "cell_type": "code",
   "execution_count": 96,
   "metadata": {},
   "outputs": [
    {
     "name": "stdout",
     "output_type": "stream",
     "text": [
      "Number of binary categorical variables: 28\n"
     ]
    }
   ],
   "source": [
    "# Count the number of binary categorical variables\n",
    "is_binary = lambda x: x.nunique() <= 2\n",
    "num_binary_vars = complete_patient_features.apply(is_binary, axis=0).sum() - 2\n",
    "print('Number of binary categorical variables: {}'.format(num_binary_vars))"
   ]
  },
  {
   "cell_type": "code",
   "execution_count": 98,
   "metadata": {},
   "outputs": [
    {
     "data": {
      "text/plain": [
       "eDWID                     43454\n",
       "YRM                          30\n",
       "mssa                          2\n",
       "mrsa                          2\n",
       "h_flu                         2\n",
       "pseudo                        2\n",
       "burkho_complex                2\n",
       "alcalig                       2\n",
       "steno                         2\n",
       "enterobacter                  2\n",
       "serratia_marcescens           2\n",
       "aspergillus                   2\n",
       "candida                       2\n",
       "scedosporium                  2\n",
       "mabscessus                    2\n",
       "mai                           2\n",
       "bd_age                       82\n",
       "sex                           2\n",
       "suff                          2\n",
       "trunc03                       6\n",
       "all_tob                       2\n",
       "all_mod                       2\n",
       "all_bd                        2\n",
       "dnase                         2\n",
       "inhcolistin                   2\n",
       "inhaztreonam                  2\n",
       "hypersaline                   2\n",
       "chronic_macrolide             2\n",
       "oral_steroids                 2\n",
       "inh_steroids                  2\n",
       "inhsteroids_bronchodil        2\n",
       "oral_other_abx                2\n",
       "txflag                        2\n",
       "othertx                       2\n",
       "dtype: int64"
      ]
     },
     "execution_count": 98,
     "metadata": {},
     "output_type": "execute_result"
    }
   ],
   "source": [
    "# Evaluate the variable type of all complete features\n",
    "num_vals = lambda x: x.nunique() \n",
    "complete_patient_features.apply(num_vals, axis=0)"
   ]
  },
  {
   "cell_type": "code",
   "execution_count": 104,
   "metadata": {},
   "outputs": [],
   "source": [
    "# Create a pickle file for the processed data containing only complete features\n",
    "complete_patient_features.to_pickle('/home/ryan/dl-data-exploration/processed_data_complete_feats.pkl')"
   ]
  }
 ],
 "metadata": {
  "kernelspec": {
   "display_name": "Python 3",
   "language": "python",
   "name": "python3"
  },
  "language_info": {
   "codemirror_mode": {
    "name": "ipython",
    "version": 3
   },
   "file_extension": ".py",
   "mimetype": "text/x-python",
   "name": "python",
   "nbconvert_exporter": "python",
   "pygments_lexer": "ipython3",
   "version": "3.6.8"
  }
 },
 "nbformat": 4,
 "nbformat_minor": 2
}

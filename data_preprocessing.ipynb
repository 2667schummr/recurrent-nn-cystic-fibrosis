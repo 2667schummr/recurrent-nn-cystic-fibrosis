{
 "cells": [
  {
   "cell_type": "code",
   "execution_count": 12,
   "metadata": {},
   "outputs": [],
   "source": [
    "import pandas as pd\n",
    "import numpy as np"
   ]
  },
  {
   "cell_type": "code",
   "execution_count": 13,
   "metadata": {},
   "outputs": [],
   "source": [
    "# Load patient physiological features and health outcomes\n",
    "patient_features = pd.read_csv('/home/ryan/dl-data-exploration/patient_features.csv')\n",
    "patient_info = pd.read_csv('/home/ryan/dl-data-exploration/patient_info.csv')\n",
    "\n",
    "# Drop index column\n",
    "patient_features = patient_features.drop(patient_features.columns[0], axis=1)\n",
    "patient_info = patient_info.drop(patient_info.columns[0], axis=1)"
   ]
  },
  {
   "cell_type": "code",
   "execution_count": 14,
   "metadata": {},
   "outputs": [
    {
     "name": "stdout",
     "output_type": "stream",
     "text": [
      "Number of patients without features: 5522\n"
     ]
    }
   ],
   "source": [
    "# Find the difference between the number of patients in each table\n",
    "num_patients_no_feats = np.abs(patient_features['eDWID'].nunique() - patient_info['eDWID'].nunique())\n",
    "print('Number of patients without features: {}'.format(num_patients_no_feats))"
   ]
  },
  {
   "cell_type": "code",
   "execution_count": 15,
   "metadata": {},
   "outputs": [],
   "source": [
    "# Extract death outcomes\n",
    "dflags = patient_info[['eDWID', 'dflag']].drop_duplicates()\n",
    "dflags = dflags[dflags.eDWID.isin(patient_features.eDWID.unique())] # Remove patients with no features"
   ]
  },
  {
   "cell_type": "code",
   "execution_count": 20,
   "metadata": {},
   "outputs": [
    {
     "name": "stdout",
     "output_type": "stream",
     "text": [
      "Average number of recordings per patient: 11.8159893220417\n",
      "Standard deviation of the number of recordings per patient: 7.867254489336622\n",
      "Maximum number of recordings per patient: 30\n",
      "Minimum number of recordings per patient: 1\n"
     ]
    }
   ],
   "source": [
    "# Sort according to patient\n",
    "patient_features = patient_features.sort_values(by=['eDWID', 'YRM']) \n",
    "dflags = dflags.sort_values(by=['eDWID'])\n",
    "\n",
    "# Compute measurement frequency statistics\n",
    "tmp = patient_features.groupby('eDWID').count()['YRM']\n",
    "avg_recordings = tmp.mean()\n",
    "std_recordings = tmp.std()\n",
    "max_recordings = tmp.max()\n",
    "min_recordings = tmp.min()\n",
    "\n",
    "print('Average number of recordings per patient: {}'.format(avg_recordings))\n",
    "print('Standard deviation of the number of recordings per patient: {}'.format(std_recordings))\n",
    "print('Maximum number of recordings per patient: {}'.format(max_recordings))\n",
    "print('Minimum number of recordings per patient: {}'.format(min_recordings))"
   ]
  },
  {
   "cell_type": "code",
   "execution_count": 6,
   "metadata": {},
   "outputs": [
    {
     "name": "stdout",
     "output_type": "stream",
     "text": [
      "Number of incomplete rows: 513452\n",
      "Number of incomplete cols: 36\n"
     ]
    }
   ],
   "source": [
    "# Compute number of rows and columns with missing values\n",
    "def count_nan(x):\n",
    "    return np.isnan(x).sum() > 0\n",
    "\n",
    "num_incomplete_rows = patient_features.apply(count_nan, axis=1).sum()\n",
    "num_incomplete_cols = patient_features.apply(count_nan, axis=0).sum()\n",
    "\n",
    "num_rows = patient_features.shape[0]\n",
    "num_cols = patient_features.shape[1]\n",
    "\n",
    "print('Number of incomplete rows: {}'.format(num_incomplete_rows))\n",
    "print('Number of incomplete cols: {}'.format(num_incomplete_cols))"
   ]
  },
  {
   "cell_type": "code",
   "execution_count": 9,
   "metadata": {},
   "outputs": [],
   "source": [
    "# Drop incomplete features\n",
    "cols_to_drop = patient_features.apply(count_nan, axis=0)\n",
    "cols_to_drop = patient_features.columns[cols_to_drop]\n",
    "complete_patient_features = patient_features.drop(cols_to_drop, axis=1)"
   ]
  },
  {
   "cell_type": "code",
   "execution_count": 11,
   "metadata": {},
   "outputs": [
    {
     "data": {
      "text/plain": [
       "eDWID                     False\n",
       "YRM                       False\n",
       "mssa                       True\n",
       "mrsa                       True\n",
       "h_flu                      True\n",
       "pseudo                     True\n",
       "burkho_complex             True\n",
       "alcalig                    True\n",
       "steno                      True\n",
       "enterobacter               True\n",
       "serratia_marcescens        True\n",
       "aspergillus                True\n",
       "candida                    True\n",
       "scedosporium               True\n",
       "mabscessus                 True\n",
       "mai                        True\n",
       "bd_age                    False\n",
       "sex                        True\n",
       "suff                       True\n",
       "trunc03                   False\n",
       "all_tob                    True\n",
       "all_mod                    True\n",
       "all_bd                     True\n",
       "dnase                      True\n",
       "inhcolistin                True\n",
       "inhaztreonam               True\n",
       "hypersaline                True\n",
       "chronic_macrolide          True\n",
       "oral_steroids              True\n",
       "inh_steroids               True\n",
       "inhsteroids_bronchodil     True\n",
       "oral_other_abx             True\n",
       "txflag                     True\n",
       "othertx                    True\n",
       "dtype: bool"
      ]
     },
     "execution_count": 11,
     "metadata": {},
     "output_type": "execute_result"
    }
   ],
   "source": [
    "'''\n",
    "is_binary = lambda x: x.nunique() == 2\n",
    "num_binary_vars = complete_patient_features.apply(is_binary, axis=0) - 2 \n",
    "'''"
   ]
  }
 ],
 "metadata": {
  "kernelspec": {
   "display_name": "Python 3",
   "language": "python",
   "name": "python3"
  },
  "language_info": {
   "codemirror_mode": {
    "name": "ipython",
    "version": 3
   },
   "file_extension": ".py",
   "mimetype": "text/x-python",
   "name": "python",
   "nbconvert_exporter": "python",
   "pygments_lexer": "ipython3",
   "version": "3.6.8"
  }
 },
 "nbformat": 4,
 "nbformat_minor": 2
}

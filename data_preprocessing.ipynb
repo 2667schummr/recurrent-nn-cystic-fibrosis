{
 "cells": [
  {
   "cell_type": "code",
   "execution_count": 1,
   "metadata": {},
   "outputs": [],
   "source": [
    "import pandas as pd\n",
    "import numpy as np"
   ]
  },
  {
   "cell_type": "code",
   "execution_count": 2,
   "metadata": {},
   "outputs": [
    {
     "name": "stderr",
     "output_type": "stream",
     "text": [
      "/usr/local/lib/python3.6/dist-packages/IPython/core/interactiveshell.py:3058: DtypeWarning: Columns (8) have mixed types. Specify dtype option on import or set low_memory=False.\n",
      "  interactivity=interactivity, compiler=compiler, result=result)\n"
     ]
    }
   ],
   "source": [
    "# Load patient physiological features and health outcomes\n",
    "patient_features = pd.read_csv('/home/ryan/dl-data-exploration/patient_features.csv')\n",
    "patient_info = pd.read_csv('/home/ryan/dl-data-exploration/patient_info.csv')\n",
    "\n",
    "# Drop index column\n",
    "patient_features = patient_features.drop(patient_features.columns[0], axis=1)\n",
    "patient_info = patient_info.drop(patient_info.columns[0], axis=1)"
   ]
  },
  {
   "cell_type": "code",
   "execution_count": 3,
   "metadata": {},
   "outputs": [
    {
     "name": "stdout",
     "output_type": "stream",
     "text": [
      "Number of patients without features: 5522\n"
     ]
    }
   ],
   "source": [
    "# Find the difference between the number of patients in each table\n",
    "num_patients_no_feats = np.abs(patient_features['eDWID'].nunique() - patient_info['eDWID'].nunique())\n",
    "print('Number of patients without features: {}'.format(num_patients_no_feats))"
   ]
  },
  {
   "cell_type": "code",
   "execution_count": 4,
   "metadata": {},
   "outputs": [],
   "source": [
    "# Extract death outcomes\n",
    "dflags = patient_info[['eDWID', 'dflag']].drop_duplicates()\n",
    "dflags = dflags[dflags.eDWID.isin(patient_features.eDWID.unique())] # Remove patients with no features"
   ]
  }
 ],
 "metadata": {
  "kernelspec": {
   "display_name": "Python 3",
   "language": "python",
   "name": "python3"
  },
  "language_info": {
   "codemirror_mode": {
    "name": "ipython",
    "version": 3
   },
   "file_extension": ".py",
   "mimetype": "text/x-python",
   "name": "python",
   "nbconvert_exporter": "python",
   "pygments_lexer": "ipython3",
   "version": "3.6.8"
  }
 },
 "nbformat": 4,
 "nbformat_minor": 2
}

{
  "nbformat": 4,
  "nbformat_minor": 0,
  "metadata": {
    "colab": {
      "name": "cf_rnn_base.ipynb",
      "provenance": [],
      "collapsed_sections": [],
      "machine_shape": "hm",
      "include_colab_link": true
    },
    "kernelspec": {
      "name": "python3",
      "display_name": "Python 3"
    },
    "accelerator": "GPU"
  },
  "cells": [
    {
      "cell_type": "markdown",
      "metadata": {
        "id": "view-in-github",
        "colab_type": "text"
      },
      "source": [
        "<a href=\"https://colab.research.google.com/github/2667schummr/recurrent-nn-cystic-fibrosis/blob/modern-no-na/cf_rnn.ipynb\" target=\"_parent\"><img src=\"https://colab.research.google.com/assets/colab-badge.svg\" alt=\"Open In Colab\"/></a>"
      ]
    },
    {
      "cell_type": "code",
      "metadata": {
        "id": "I7QfOEzJbeM9",
        "colab_type": "code",
        "outputId": "59f0c51e-9d2c-44dc-db90-cba7930f4c12",
        "colab": {
          "base_uri": "https://localhost:8080/",
          "height": 121
        }
      },
      "source": [
        "import numpy as np\n",
        "import pandas as pd\n",
        "import os\n",
        "import tensorflow as tf\n",
        "from sklearn.model_selection import train_test_split\n",
        "from sklearn.metrics import precision_score\n",
        "from google.colab import drive\n",
        "from imblearn.over_sampling import RandomOverSampler\n",
        "import matplotlib.pyplot as plt"
      ],
      "execution_count": 1,
      "outputs": [
        {
          "output_type": "display_data",
          "data": {
            "text/html": [
              "<p style=\"color: red;\">\n",
              "The default version of TensorFlow in Colab will soon switch to TensorFlow 2.x.<br>\n",
              "We recommend you <a href=\"https://www.tensorflow.org/guide/migrate\" target=\"_blank\">upgrade</a> now \n",
              "or ensure your notebook will continue to use TensorFlow 1.x via the <code>%tensorflow_version 1.x</code> magic:\n",
              "<a href=\"https://colab.research.google.com/notebooks/tensorflow_version.ipynb\" target=\"_blank\">more info</a>.</p>\n"
            ],
            "text/plain": [
              "<IPython.core.display.HTML object>"
            ]
          },
          "metadata": {
            "tags": []
          }
        },
        {
          "output_type": "stream",
          "text": [
            "/usr/local/lib/python3.6/dist-packages/sklearn/externals/six.py:31: DeprecationWarning: The module is deprecated in version 0.21 and will be removed in version 0.23 since we've dropped support for Python 2.7. Please rely on the official version of six (https://pypi.org/project/six/).\n",
            "  \"(https://pypi.org/project/six/).\", DeprecationWarning)\n"
          ],
          "name": "stderr"
        }
      ]
    },
    {
      "cell_type": "code",
      "metadata": {
        "id": "GeZsGz_s9vvG",
        "colab_type": "code",
        "colab": {}
      },
      "source": [
        "# Specify training parameters\n",
        "device = '/device:GPU:0'\n",
        "print_every = 100\n",
        "batch_size = 100"
      ],
      "execution_count": 0,
      "outputs": []
    },
    {
      "cell_type": "code",
      "metadata": {
        "id": "7swofaj1bwWw",
        "colab_type": "code",
        "outputId": "d872bc9c-5758-4f3d-ceca-2b1a27bebbd7",
        "colab": {
          "base_uri": "https://localhost:8080/",
          "height": 146
        }
      },
      "source": [
        "# Make google drive files accessible\n",
        "drive.mount('/content/gdrive')\n",
        "path = '/content/gdrive/My Drive/Colab Notebooks'\n",
        "os.chdir(path)\n",
        "print('Current Working Directory: {}'.format(os.getcwd()))"
      ],
      "execution_count": 3,
      "outputs": [
        {
          "output_type": "stream",
          "text": [
            "Go to this URL in a browser: https://accounts.google.com/o/oauth2/auth?client_id=947318989803-6bn6qk8qdgf4n4g3pfee6491hc0brc4i.apps.googleusercontent.com&redirect_uri=urn%3aietf%3awg%3aoauth%3a2.0%3aoob&response_type=code&scope=email%20https%3a%2f%2fwww.googleapis.com%2fauth%2fdocs.test%20https%3a%2f%2fwww.googleapis.com%2fauth%2fdrive%20https%3a%2f%2fwww.googleapis.com%2fauth%2fdrive.photos.readonly%20https%3a%2f%2fwww.googleapis.com%2fauth%2fpeopleapi.readonly\n",
            "\n",
            "Enter your authorization code:\n",
            "··········\n",
            "Mounted at /content/gdrive\n",
            "Current Working Directory: /content/gdrive/My Drive/Colab Notebooks\n"
          ],
          "name": "stdout"
        }
      ]
    },
    {
      "cell_type": "code",
      "metadata": {
        "id": "ixUv7UjteJ7w",
        "colab_type": "code",
        "outputId": "d8e84234-5655-4d6d-8780-da3791bc58e0",
        "colab": {
          "base_uri": "https://localhost:8080/",
          "height": 236
        }
      },
      "source": [
        "# Load the panda dataframe containing the features\n",
        "feats = pd.read_pickle('./cf-data/processed_data_complete_feats.pkl')\n",
        "print('Feature Shape: {}'.format(feats.shape))\n",
        "\n",
        "drop_cols = ['eDWID', 'YRM'] # These are identification columns\n",
        "feats.head()"
      ],
      "execution_count": 4,
      "outputs": [
        {
          "output_type": "stream",
          "text": [
            "Feature Shape: (513452, 34)\n"
          ],
          "name": "stdout"
        },
        {
          "output_type": "execute_result",
          "data": {
            "text/html": [
              "<div>\n",
              "<style scoped>\n",
              "    .dataframe tbody tr th:only-of-type {\n",
              "        vertical-align: middle;\n",
              "    }\n",
              "\n",
              "    .dataframe tbody tr th {\n",
              "        vertical-align: top;\n",
              "    }\n",
              "\n",
              "    .dataframe thead th {\n",
              "        text-align: right;\n",
              "    }\n",
              "</style>\n",
              "<table border=\"1\" class=\"dataframe\">\n",
              "  <thead>\n",
              "    <tr style=\"text-align: right;\">\n",
              "      <th></th>\n",
              "      <th>eDWID</th>\n",
              "      <th>YRM</th>\n",
              "      <th>mssa</th>\n",
              "      <th>mrsa</th>\n",
              "      <th>h_flu</th>\n",
              "      <th>pseudo</th>\n",
              "      <th>burkho_complex</th>\n",
              "      <th>alcalig</th>\n",
              "      <th>steno</th>\n",
              "      <th>enterobacter</th>\n",
              "      <th>serratia_marcescens</th>\n",
              "      <th>aspergillus</th>\n",
              "      <th>candida</th>\n",
              "      <th>scedosporium</th>\n",
              "      <th>mabscessus</th>\n",
              "      <th>mai</th>\n",
              "      <th>bd_age</th>\n",
              "      <th>sex</th>\n",
              "      <th>suff</th>\n",
              "      <th>trunc03</th>\n",
              "      <th>all_tob</th>\n",
              "      <th>all_mod</th>\n",
              "      <th>all_bd</th>\n",
              "      <th>dnase</th>\n",
              "      <th>inhcolistin</th>\n",
              "      <th>inhaztreonam</th>\n",
              "      <th>hypersaline</th>\n",
              "      <th>chronic_macrolide</th>\n",
              "      <th>oral_steroids</th>\n",
              "      <th>inh_steroids</th>\n",
              "      <th>inhsteroids_bronchodil</th>\n",
              "      <th>oral_other_abx</th>\n",
              "      <th>txflag</th>\n",
              "      <th>othertx</th>\n",
              "    </tr>\n",
              "  </thead>\n",
              "  <tbody>\n",
              "    <tr>\n",
              "      <th>0</th>\n",
              "      <td>900000702</td>\n",
              "      <td>2003</td>\n",
              "      <td>0</td>\n",
              "      <td>0</td>\n",
              "      <td>0</td>\n",
              "      <td>1</td>\n",
              "      <td>0</td>\n",
              "      <td>0</td>\n",
              "      <td>0</td>\n",
              "      <td>0</td>\n",
              "      <td>0</td>\n",
              "      <td>1</td>\n",
              "      <td>0</td>\n",
              "      <td>0</td>\n",
              "      <td>0</td>\n",
              "      <td>0</td>\n",
              "      <td>6</td>\n",
              "      <td>0</td>\n",
              "      <td>0</td>\n",
              "      <td>1</td>\n",
              "      <td>1</td>\n",
              "      <td>0</td>\n",
              "      <td>0</td>\n",
              "      <td>1</td>\n",
              "      <td>0</td>\n",
              "      <td>0</td>\n",
              "      <td>0</td>\n",
              "      <td>1</td>\n",
              "      <td>0</td>\n",
              "      <td>0</td>\n",
              "      <td>0</td>\n",
              "      <td>0</td>\n",
              "      <td>0</td>\n",
              "      <td>0</td>\n",
              "    </tr>\n",
              "    <tr>\n",
              "      <th>1</th>\n",
              "      <td>900000702</td>\n",
              "      <td>2004</td>\n",
              "      <td>0</td>\n",
              "      <td>0</td>\n",
              "      <td>0</td>\n",
              "      <td>1</td>\n",
              "      <td>0</td>\n",
              "      <td>0</td>\n",
              "      <td>0</td>\n",
              "      <td>0</td>\n",
              "      <td>0</td>\n",
              "      <td>0</td>\n",
              "      <td>0</td>\n",
              "      <td>0</td>\n",
              "      <td>0</td>\n",
              "      <td>0</td>\n",
              "      <td>7</td>\n",
              "      <td>0</td>\n",
              "      <td>0</td>\n",
              "      <td>0</td>\n",
              "      <td>1</td>\n",
              "      <td>0</td>\n",
              "      <td>0</td>\n",
              "      <td>1</td>\n",
              "      <td>0</td>\n",
              "      <td>0</td>\n",
              "      <td>0</td>\n",
              "      <td>1</td>\n",
              "      <td>0</td>\n",
              "      <td>0</td>\n",
              "      <td>0</td>\n",
              "      <td>0</td>\n",
              "      <td>0</td>\n",
              "      <td>0</td>\n",
              "    </tr>\n",
              "    <tr>\n",
              "      <th>2</th>\n",
              "      <td>900000702</td>\n",
              "      <td>2005</td>\n",
              "      <td>0</td>\n",
              "      <td>0</td>\n",
              "      <td>0</td>\n",
              "      <td>1</td>\n",
              "      <td>0</td>\n",
              "      <td>0</td>\n",
              "      <td>0</td>\n",
              "      <td>0</td>\n",
              "      <td>0</td>\n",
              "      <td>1</td>\n",
              "      <td>0</td>\n",
              "      <td>0</td>\n",
              "      <td>0</td>\n",
              "      <td>0</td>\n",
              "      <td>8</td>\n",
              "      <td>0</td>\n",
              "      <td>0</td>\n",
              "      <td>0</td>\n",
              "      <td>1</td>\n",
              "      <td>0</td>\n",
              "      <td>0</td>\n",
              "      <td>1</td>\n",
              "      <td>0</td>\n",
              "      <td>0</td>\n",
              "      <td>0</td>\n",
              "      <td>1</td>\n",
              "      <td>0</td>\n",
              "      <td>0</td>\n",
              "      <td>0</td>\n",
              "      <td>0</td>\n",
              "      <td>0</td>\n",
              "      <td>0</td>\n",
              "    </tr>\n",
              "    <tr>\n",
              "      <th>3</th>\n",
              "      <td>900000702</td>\n",
              "      <td>2006</td>\n",
              "      <td>0</td>\n",
              "      <td>0</td>\n",
              "      <td>0</td>\n",
              "      <td>1</td>\n",
              "      <td>0</td>\n",
              "      <td>0</td>\n",
              "      <td>0</td>\n",
              "      <td>0</td>\n",
              "      <td>0</td>\n",
              "      <td>1</td>\n",
              "      <td>0</td>\n",
              "      <td>0</td>\n",
              "      <td>0</td>\n",
              "      <td>0</td>\n",
              "      <td>9</td>\n",
              "      <td>0</td>\n",
              "      <td>0</td>\n",
              "      <td>0</td>\n",
              "      <td>1</td>\n",
              "      <td>0</td>\n",
              "      <td>1</td>\n",
              "      <td>1</td>\n",
              "      <td>0</td>\n",
              "      <td>0</td>\n",
              "      <td>0</td>\n",
              "      <td>1</td>\n",
              "      <td>0</td>\n",
              "      <td>1</td>\n",
              "      <td>0</td>\n",
              "      <td>0</td>\n",
              "      <td>0</td>\n",
              "      <td>0</td>\n",
              "    </tr>\n",
              "    <tr>\n",
              "      <th>4</th>\n",
              "      <td>900000702</td>\n",
              "      <td>2007</td>\n",
              "      <td>0</td>\n",
              "      <td>0</td>\n",
              "      <td>0</td>\n",
              "      <td>1</td>\n",
              "      <td>0</td>\n",
              "      <td>0</td>\n",
              "      <td>0</td>\n",
              "      <td>0</td>\n",
              "      <td>0</td>\n",
              "      <td>1</td>\n",
              "      <td>0</td>\n",
              "      <td>0</td>\n",
              "      <td>0</td>\n",
              "      <td>0</td>\n",
              "      <td>10</td>\n",
              "      <td>0</td>\n",
              "      <td>0</td>\n",
              "      <td>0</td>\n",
              "      <td>1</td>\n",
              "      <td>0</td>\n",
              "      <td>1</td>\n",
              "      <td>1</td>\n",
              "      <td>0</td>\n",
              "      <td>0</td>\n",
              "      <td>0</td>\n",
              "      <td>1</td>\n",
              "      <td>0</td>\n",
              "      <td>1</td>\n",
              "      <td>0</td>\n",
              "      <td>0</td>\n",
              "      <td>0</td>\n",
              "      <td>0</td>\n",
              "    </tr>\n",
              "  </tbody>\n",
              "</table>\n",
              "</div>"
            ],
            "text/plain": [
              "       eDWID   YRM  mssa  ...  oral_other_abx  txflag  othertx\n",
              "0  900000702  2003     0  ...               0       0        0\n",
              "1  900000702  2004     0  ...               0       0        0\n",
              "2  900000702  2005     0  ...               0       0        0\n",
              "3  900000702  2006     0  ...               0       0        0\n",
              "4  900000702  2007     0  ...               0       0        0\n",
              "\n",
              "[5 rows x 34 columns]"
            ]
          },
          "metadata": {
            "tags": []
          },
          "execution_count": 4
        }
      ]
    },
    {
      "cell_type": "code",
      "metadata": {
        "id": "yDsVOuCNiYDP",
        "colab_type": "code",
        "colab": {
          "base_uri": "https://localhost:8080/",
          "height": 35
        },
        "outputId": "50904d7c-cf1f-42b7-96d9-4af2de10f191"
      },
      "source": [
        "data_train = pd.read_csv('./cf-data/modern_training_no_na.csv')\n",
        "data_test = pd.read_csv('./cf-data/modern_testing_no_na.csv')\n",
        "data_total = pd.concat([data_train, data_test], axis=0)\n",
        "print('Feature Shape: {}'.format(data_total.shape))"
      ],
      "execution_count": 5,
      "outputs": [
        {
          "output_type": "stream",
          "text": [
            "Feature Shape: (959345, 56)\n"
          ],
          "name": "stdout"
        }
      ]
    },
    {
      "cell_type": "code",
      "metadata": {
        "id": "q5X3mkP8iqGB",
        "colab_type": "code",
        "colab": {
          "base_uri": "https://localhost:8080/",
          "height": 35
        },
        "outputId": "81b00181-4abe-4873-935f-8bcb611dadff"
      },
      "source": [
        "# Keep only original features\n",
        "feats = data_total[feats.columns]\n",
        "max_seq_length = feats.groupby('eDWID').count()['YRM'].max()\n",
        "print(feats.shape)"
      ],
      "execution_count": 6,
      "outputs": [
        {
          "output_type": "stream",
          "text": [
            "(959345, 34)\n"
          ],
          "name": "stdout"
        }
      ]
    },
    {
      "cell_type": "code",
      "metadata": {
        "id": "W932-6hPwkkq",
        "colab_type": "code",
        "colab": {
          "base_uri": "https://localhost:8080/",
          "height": 126
        },
        "outputId": "f5ebbd57-691e-4b92-a5d4-978cfa01ccbc"
      },
      "source": [
        "# Extract the binary features\n",
        "excluded_cols = ['dflag', 'dflag5']\n",
        "for col in data_total.columns:\n",
        "  num_unique = data_total[col].nunique()\n",
        "  if col not in feats.columns and num_unique == 2 and col not in excluded_cols:\n",
        "    feats[col] = data_total[col]"
      ],
      "execution_count": 7,
      "outputs": [
        {
          "output_type": "stream",
          "text": [
            "/usr/local/lib/python3.6/dist-packages/ipykernel_launcher.py:5: SettingWithCopyWarning: \n",
            "A value is trying to be set on a copy of a slice from a DataFrame.\n",
            "Try using .loc[row_indexer,col_indexer] = value instead\n",
            "\n",
            "See the caveats in the documentation: http://pandas.pydata.org/pandas-docs/stable/user_guide/indexing.html#returning-a-view-versus-a-copy\n",
            "  \"\"\"\n"
          ],
          "name": "stderr"
        }
      ]
    },
    {
      "cell_type": "code",
      "metadata": {
        "id": "957TTC0PPfQD",
        "colab_type": "code",
        "colab": {
          "base_uri": "https://localhost:8080/",
          "height": 126
        },
        "outputId": "81c7db78-d94f-4fae-f629-2c3702d4d5c4"
      },
      "source": [
        "# Add non-categorical features\n",
        "cols = ['fev1pct_best', 'zscore_best', 'NumCult', 'nextNumCult']\n",
        "for col in cols:\n",
        "  feats[col] = data_total[col]"
      ],
      "execution_count": 8,
      "outputs": [
        {
          "output_type": "stream",
          "text": [
            "/usr/local/lib/python3.6/dist-packages/ipykernel_launcher.py:3: SettingWithCopyWarning: \n",
            "A value is trying to be set on a copy of a slice from a DataFrame.\n",
            "Try using .loc[row_indexer,col_indexer] = value instead\n",
            "\n",
            "See the caveats in the documentation: http://pandas.pydata.org/pandas-docs/stable/user_guide/indexing.html#returning-a-view-versus-a-copy\n",
            "  This is separate from the ipykernel package so we can avoid doing imports until\n"
          ],
          "name": "stderr"
        }
      ]
    },
    {
      "cell_type": "code",
      "metadata": {
        "id": "Er3cY74m3mE3",
        "colab_type": "code",
        "outputId": "83ac65e1-3154-4f3a-929e-e0bfddea4f4d",
        "colab": {
          "base_uri": "https://localhost:8080/",
          "height": 218
        }
      },
      "source": [
        "# one-hot-encode trunc03 feature\n",
        "feats = pd.get_dummies(feats, columns=['trunc03'])\n",
        "num_feats = feats.shape[1] - 2\n",
        "feats.head()"
      ],
      "execution_count": 9,
      "outputs": [
        {
          "output_type": "execute_result",
          "data": {
            "text/html": [
              "<div>\n",
              "<style scoped>\n",
              "    .dataframe tbody tr th:only-of-type {\n",
              "        vertical-align: middle;\n",
              "    }\n",
              "\n",
              "    .dataframe tbody tr th {\n",
              "        vertical-align: top;\n",
              "    }\n",
              "\n",
              "    .dataframe thead th {\n",
              "        text-align: right;\n",
              "    }\n",
              "</style>\n",
              "<table border=\"1\" class=\"dataframe\">\n",
              "  <thead>\n",
              "    <tr style=\"text-align: right;\">\n",
              "      <th></th>\n",
              "      <th>eDWID</th>\n",
              "      <th>YRM</th>\n",
              "      <th>mssa</th>\n",
              "      <th>mrsa</th>\n",
              "      <th>h_flu</th>\n",
              "      <th>pseudo</th>\n",
              "      <th>burkho_complex</th>\n",
              "      <th>alcalig</th>\n",
              "      <th>steno</th>\n",
              "      <th>enterobacter</th>\n",
              "      <th>serratia_marcescens</th>\n",
              "      <th>aspergillus</th>\n",
              "      <th>candida</th>\n",
              "      <th>scedosporium</th>\n",
              "      <th>mabscessus</th>\n",
              "      <th>mai</th>\n",
              "      <th>bd_age</th>\n",
              "      <th>sex</th>\n",
              "      <th>suff</th>\n",
              "      <th>all_tob</th>\n",
              "      <th>all_mod</th>\n",
              "      <th>all_bd</th>\n",
              "      <th>dnase</th>\n",
              "      <th>inhcolistin</th>\n",
              "      <th>inhaztreonam</th>\n",
              "      <th>hypersaline</th>\n",
              "      <th>chronic_macrolide</th>\n",
              "      <th>oral_steroids</th>\n",
              "      <th>inh_steroids</th>\n",
              "      <th>inhsteroids_bronchodil</th>\n",
              "      <th>oral_other_abx</th>\n",
              "      <th>txflag</th>\n",
              "      <th>othertx</th>\n",
              "      <th>diabet</th>\n",
              "      <th>impglu</th>\n",
              "      <th>gainburkho_complex</th>\n",
              "      <th>gainalcalig</th>\n",
              "      <th>gainenterobacter</th>\n",
              "      <th>gainserratia_marcescens</th>\n",
              "      <th>gainscedosporium</th>\n",
              "      <th>gainmabscessus</th>\n",
              "      <th>gainmai</th>\n",
              "      <th>fev1pct_best</th>\n",
              "      <th>zscore_best</th>\n",
              "      <th>NumCult</th>\n",
              "      <th>nextNumCult</th>\n",
              "      <th>trunc03_0</th>\n",
              "      <th>trunc03_1</th>\n",
              "      <th>trunc03_2</th>\n",
              "      <th>trunc03_3</th>\n",
              "      <th>trunc03_4</th>\n",
              "      <th>trunc03_5</th>\n",
              "    </tr>\n",
              "  </thead>\n",
              "  <tbody>\n",
              "    <tr>\n",
              "      <th>0</th>\n",
              "      <td>900000702</td>\n",
              "      <td>2003</td>\n",
              "      <td>0</td>\n",
              "      <td>0</td>\n",
              "      <td>0</td>\n",
              "      <td>1</td>\n",
              "      <td>0</td>\n",
              "      <td>0</td>\n",
              "      <td>0</td>\n",
              "      <td>0</td>\n",
              "      <td>0</td>\n",
              "      <td>1</td>\n",
              "      <td>0</td>\n",
              "      <td>0</td>\n",
              "      <td>0</td>\n",
              "      <td>0</td>\n",
              "      <td>6</td>\n",
              "      <td>0</td>\n",
              "      <td>0</td>\n",
              "      <td>1</td>\n",
              "      <td>0</td>\n",
              "      <td>0</td>\n",
              "      <td>1</td>\n",
              "      <td>0</td>\n",
              "      <td>0</td>\n",
              "      <td>0</td>\n",
              "      <td>1</td>\n",
              "      <td>0</td>\n",
              "      <td>0</td>\n",
              "      <td>0</td>\n",
              "      <td>0</td>\n",
              "      <td>0</td>\n",
              "      <td>0</td>\n",
              "      <td>0</td>\n",
              "      <td>0</td>\n",
              "      <td>0</td>\n",
              "      <td>0</td>\n",
              "      <td>0</td>\n",
              "      <td>0</td>\n",
              "      <td>0</td>\n",
              "      <td>0</td>\n",
              "      <td>0</td>\n",
              "      <td>135.283454</td>\n",
              "      <td>-0.673408</td>\n",
              "      <td>5</td>\n",
              "      <td>3</td>\n",
              "      <td>0</td>\n",
              "      <td>1</td>\n",
              "      <td>0</td>\n",
              "      <td>0</td>\n",
              "      <td>0</td>\n",
              "      <td>0</td>\n",
              "    </tr>\n",
              "    <tr>\n",
              "      <th>1</th>\n",
              "      <td>900000702</td>\n",
              "      <td>2003</td>\n",
              "      <td>0</td>\n",
              "      <td>0</td>\n",
              "      <td>0</td>\n",
              "      <td>1</td>\n",
              "      <td>0</td>\n",
              "      <td>0</td>\n",
              "      <td>0</td>\n",
              "      <td>0</td>\n",
              "      <td>0</td>\n",
              "      <td>1</td>\n",
              "      <td>0</td>\n",
              "      <td>0</td>\n",
              "      <td>0</td>\n",
              "      <td>0</td>\n",
              "      <td>6</td>\n",
              "      <td>0</td>\n",
              "      <td>0</td>\n",
              "      <td>1</td>\n",
              "      <td>0</td>\n",
              "      <td>0</td>\n",
              "      <td>1</td>\n",
              "      <td>0</td>\n",
              "      <td>0</td>\n",
              "      <td>0</td>\n",
              "      <td>1</td>\n",
              "      <td>0</td>\n",
              "      <td>0</td>\n",
              "      <td>0</td>\n",
              "      <td>0</td>\n",
              "      <td>0</td>\n",
              "      <td>0</td>\n",
              "      <td>0</td>\n",
              "      <td>0</td>\n",
              "      <td>0</td>\n",
              "      <td>0</td>\n",
              "      <td>0</td>\n",
              "      <td>0</td>\n",
              "      <td>0</td>\n",
              "      <td>0</td>\n",
              "      <td>0</td>\n",
              "      <td>135.283454</td>\n",
              "      <td>-0.673408</td>\n",
              "      <td>5</td>\n",
              "      <td>3</td>\n",
              "      <td>0</td>\n",
              "      <td>1</td>\n",
              "      <td>0</td>\n",
              "      <td>0</td>\n",
              "      <td>0</td>\n",
              "      <td>0</td>\n",
              "    </tr>\n",
              "    <tr>\n",
              "      <th>2</th>\n",
              "      <td>900000702</td>\n",
              "      <td>2003</td>\n",
              "      <td>0</td>\n",
              "      <td>0</td>\n",
              "      <td>0</td>\n",
              "      <td>1</td>\n",
              "      <td>0</td>\n",
              "      <td>0</td>\n",
              "      <td>0</td>\n",
              "      <td>0</td>\n",
              "      <td>0</td>\n",
              "      <td>1</td>\n",
              "      <td>0</td>\n",
              "      <td>0</td>\n",
              "      <td>0</td>\n",
              "      <td>0</td>\n",
              "      <td>6</td>\n",
              "      <td>0</td>\n",
              "      <td>0</td>\n",
              "      <td>1</td>\n",
              "      <td>0</td>\n",
              "      <td>0</td>\n",
              "      <td>1</td>\n",
              "      <td>0</td>\n",
              "      <td>0</td>\n",
              "      <td>0</td>\n",
              "      <td>1</td>\n",
              "      <td>0</td>\n",
              "      <td>0</td>\n",
              "      <td>0</td>\n",
              "      <td>0</td>\n",
              "      <td>0</td>\n",
              "      <td>0</td>\n",
              "      <td>0</td>\n",
              "      <td>0</td>\n",
              "      <td>0</td>\n",
              "      <td>0</td>\n",
              "      <td>0</td>\n",
              "      <td>0</td>\n",
              "      <td>0</td>\n",
              "      <td>0</td>\n",
              "      <td>0</td>\n",
              "      <td>135.283454</td>\n",
              "      <td>-0.673408</td>\n",
              "      <td>5</td>\n",
              "      <td>3</td>\n",
              "      <td>0</td>\n",
              "      <td>1</td>\n",
              "      <td>0</td>\n",
              "      <td>0</td>\n",
              "      <td>0</td>\n",
              "      <td>0</td>\n",
              "    </tr>\n",
              "    <tr>\n",
              "      <th>3</th>\n",
              "      <td>900000702</td>\n",
              "      <td>2003</td>\n",
              "      <td>0</td>\n",
              "      <td>0</td>\n",
              "      <td>0</td>\n",
              "      <td>1</td>\n",
              "      <td>0</td>\n",
              "      <td>0</td>\n",
              "      <td>0</td>\n",
              "      <td>0</td>\n",
              "      <td>0</td>\n",
              "      <td>1</td>\n",
              "      <td>0</td>\n",
              "      <td>0</td>\n",
              "      <td>0</td>\n",
              "      <td>0</td>\n",
              "      <td>6</td>\n",
              "      <td>0</td>\n",
              "      <td>0</td>\n",
              "      <td>1</td>\n",
              "      <td>0</td>\n",
              "      <td>0</td>\n",
              "      <td>1</td>\n",
              "      <td>0</td>\n",
              "      <td>0</td>\n",
              "      <td>0</td>\n",
              "      <td>1</td>\n",
              "      <td>0</td>\n",
              "      <td>0</td>\n",
              "      <td>0</td>\n",
              "      <td>0</td>\n",
              "      <td>0</td>\n",
              "      <td>0</td>\n",
              "      <td>0</td>\n",
              "      <td>0</td>\n",
              "      <td>0</td>\n",
              "      <td>0</td>\n",
              "      <td>0</td>\n",
              "      <td>0</td>\n",
              "      <td>0</td>\n",
              "      <td>0</td>\n",
              "      <td>0</td>\n",
              "      <td>135.283454</td>\n",
              "      <td>-0.673408</td>\n",
              "      <td>5</td>\n",
              "      <td>3</td>\n",
              "      <td>0</td>\n",
              "      <td>1</td>\n",
              "      <td>0</td>\n",
              "      <td>0</td>\n",
              "      <td>0</td>\n",
              "      <td>0</td>\n",
              "    </tr>\n",
              "    <tr>\n",
              "      <th>4</th>\n",
              "      <td>900000702</td>\n",
              "      <td>2003</td>\n",
              "      <td>0</td>\n",
              "      <td>0</td>\n",
              "      <td>0</td>\n",
              "      <td>1</td>\n",
              "      <td>0</td>\n",
              "      <td>0</td>\n",
              "      <td>0</td>\n",
              "      <td>0</td>\n",
              "      <td>0</td>\n",
              "      <td>1</td>\n",
              "      <td>0</td>\n",
              "      <td>0</td>\n",
              "      <td>0</td>\n",
              "      <td>0</td>\n",
              "      <td>6</td>\n",
              "      <td>0</td>\n",
              "      <td>0</td>\n",
              "      <td>1</td>\n",
              "      <td>0</td>\n",
              "      <td>0</td>\n",
              "      <td>1</td>\n",
              "      <td>0</td>\n",
              "      <td>0</td>\n",
              "      <td>0</td>\n",
              "      <td>1</td>\n",
              "      <td>0</td>\n",
              "      <td>0</td>\n",
              "      <td>0</td>\n",
              "      <td>0</td>\n",
              "      <td>0</td>\n",
              "      <td>0</td>\n",
              "      <td>0</td>\n",
              "      <td>0</td>\n",
              "      <td>0</td>\n",
              "      <td>0</td>\n",
              "      <td>0</td>\n",
              "      <td>0</td>\n",
              "      <td>0</td>\n",
              "      <td>0</td>\n",
              "      <td>0</td>\n",
              "      <td>135.283454</td>\n",
              "      <td>-0.673408</td>\n",
              "      <td>5</td>\n",
              "      <td>3</td>\n",
              "      <td>0</td>\n",
              "      <td>1</td>\n",
              "      <td>0</td>\n",
              "      <td>0</td>\n",
              "      <td>0</td>\n",
              "      <td>0</td>\n",
              "    </tr>\n",
              "  </tbody>\n",
              "</table>\n",
              "</div>"
            ],
            "text/plain": [
              "       eDWID   YRM  mssa  mrsa  ...  trunc03_2  trunc03_3  trunc03_4  trunc03_5\n",
              "0  900000702  2003     0     0  ...          0          0          0          0\n",
              "1  900000702  2003     0     0  ...          0          0          0          0\n",
              "2  900000702  2003     0     0  ...          0          0          0          0\n",
              "3  900000702  2003     0     0  ...          0          0          0          0\n",
              "4  900000702  2003     0     0  ...          0          0          0          0\n",
              "\n",
              "[5 rows x 52 columns]"
            ]
          },
          "metadata": {
            "tags": []
          },
          "execution_count": 9
        }
      ]
    },
    {
      "cell_type": "code",
      "metadata": {
        "id": "d9h5v-_fZ90a",
        "colab_type": "code",
        "outputId": "1cd9b5ba-82ea-4329-9031-7ddbef721b47",
        "colab": {
          "base_uri": "https://localhost:8080/",
          "height": 216
        }
      },
      "source": [
        "# Load the pandas dataframe containing the labels\n",
        "labels = pd.read_pickle('./cf-data/dflags.pkl')\n",
        "print('Labels Shape: {}'.format(labels.shape))\n",
        "num_obs = labels.shape[0]\n",
        "labels.head()"
      ],
      "execution_count": 11,
      "outputs": [
        {
          "output_type": "stream",
          "text": [
            "Labels Shape: (43454, 2)\n"
          ],
          "name": "stdout"
        },
        {
          "output_type": "execute_result",
          "data": {
            "text/html": [
              "<div>\n",
              "<style scoped>\n",
              "    .dataframe tbody tr th:only-of-type {\n",
              "        vertical-align: middle;\n",
              "    }\n",
              "\n",
              "    .dataframe tbody tr th {\n",
              "        vertical-align: top;\n",
              "    }\n",
              "\n",
              "    .dataframe thead th {\n",
              "        text-align: right;\n",
              "    }\n",
              "</style>\n",
              "<table border=\"1\" class=\"dataframe\">\n",
              "  <thead>\n",
              "    <tr style=\"text-align: right;\">\n",
              "      <th></th>\n",
              "      <th>eDWID</th>\n",
              "      <th>dflag</th>\n",
              "    </tr>\n",
              "  </thead>\n",
              "  <tbody>\n",
              "    <tr>\n",
              "      <th>0</th>\n",
              "      <td>900000702</td>\n",
              "      <td>0</td>\n",
              "    </tr>\n",
              "    <tr>\n",
              "      <th>99</th>\n",
              "      <td>900000736</td>\n",
              "      <td>0</td>\n",
              "    </tr>\n",
              "    <tr>\n",
              "      <th>106</th>\n",
              "      <td>900000742</td>\n",
              "      <td>1</td>\n",
              "    </tr>\n",
              "    <tr>\n",
              "      <th>196</th>\n",
              "      <td>900000776</td>\n",
              "      <td>0</td>\n",
              "    </tr>\n",
              "    <tr>\n",
              "      <th>200</th>\n",
              "      <td>900010702</td>\n",
              "      <td>1</td>\n",
              "    </tr>\n",
              "  </tbody>\n",
              "</table>\n",
              "</div>"
            ],
            "text/plain": [
              "         eDWID  dflag\n",
              "0    900000702      0\n",
              "99   900000736      0\n",
              "106  900000742      1\n",
              "196  900000776      0\n",
              "200  900010702      1"
            ]
          },
          "metadata": {
            "tags": []
          },
          "execution_count": 11
        }
      ]
    },
    {
      "cell_type": "code",
      "metadata": {
        "id": "PO-gf8tSk1Tc",
        "colab_type": "code",
        "colab": {
          "base_uri": "https://localhost:8080/",
          "height": 216
        },
        "outputId": "f7534abf-6201-4446-fe73-1a18d303dbc5"
      },
      "source": [
        "labels = data_total[['eDWID', 'dflag']].drop_duplicates()\n",
        "print('Labels Shape: {}'.format(labels.shape))\n",
        "num_obs = labels.shape[0]\n",
        "labels.head()"
      ],
      "execution_count": 12,
      "outputs": [
        {
          "output_type": "stream",
          "text": [
            "Labels Shape: (28199, 2)\n"
          ],
          "name": "stdout"
        },
        {
          "output_type": "execute_result",
          "data": {
            "text/html": [
              "<div>\n",
              "<style scoped>\n",
              "    .dataframe tbody tr th:only-of-type {\n",
              "        vertical-align: middle;\n",
              "    }\n",
              "\n",
              "    .dataframe tbody tr th {\n",
              "        vertical-align: top;\n",
              "    }\n",
              "\n",
              "    .dataframe thead th {\n",
              "        text-align: right;\n",
              "    }\n",
              "</style>\n",
              "<table border=\"1\" class=\"dataframe\">\n",
              "  <thead>\n",
              "    <tr style=\"text-align: right;\">\n",
              "      <th></th>\n",
              "      <th>eDWID</th>\n",
              "      <th>dflag</th>\n",
              "    </tr>\n",
              "  </thead>\n",
              "  <tbody>\n",
              "    <tr>\n",
              "      <th>0</th>\n",
              "      <td>900000702</td>\n",
              "      <td>0</td>\n",
              "    </tr>\n",
              "    <tr>\n",
              "      <th>61</th>\n",
              "      <td>900000742</td>\n",
              "      <td>1</td>\n",
              "    </tr>\n",
              "    <tr>\n",
              "      <th>75</th>\n",
              "      <td>900010778</td>\n",
              "      <td>0</td>\n",
              "    </tr>\n",
              "    <tr>\n",
              "      <th>90</th>\n",
              "      <td>900020752</td>\n",
              "      <td>0</td>\n",
              "    </tr>\n",
              "    <tr>\n",
              "      <th>97</th>\n",
              "      <td>900030752</td>\n",
              "      <td>0</td>\n",
              "    </tr>\n",
              "  </tbody>\n",
              "</table>\n",
              "</div>"
            ],
            "text/plain": [
              "        eDWID  dflag\n",
              "0   900000702      0\n",
              "61  900000742      1\n",
              "75  900010778      0\n",
              "90  900020752      0\n",
              "97  900030752      0"
            ]
          },
          "metadata": {
            "tags": []
          },
          "execution_count": 12
        }
      ]
    },
    {
      "cell_type": "code",
      "metadata": {
        "id": "S8tlOmz_wXBF",
        "colab_type": "code",
        "colab": {}
      },
      "source": [
        "# Define a class that generates batches of training and testing data\n",
        "class Dataset(object):\n",
        "    def __init__(self, labels, batch_size, shuffle=False):\n",
        "        self.X = labels['eDWID'].as_matrix()\n",
        "        self.y = labels['dflag'].as_matrix()\n",
        "        self.batch_size, self.shuffle = batch_size, shuffle\n",
        "\n",
        "    def __iter__(self):\n",
        "        N, B = self.X.shape[0], self.batch_size\n",
        "        idxs = np.arange(N)\n",
        "        if self.shuffle:\n",
        "          np.random.shuffle(idxs)\n",
        "        return iter((self.X[idxs[i:i+B]], self.y[idxs[i:i+B]]) for i in range(0, N, B))"
      ],
      "execution_count": 0,
      "outputs": []
    },
    {
      "cell_type": "code",
      "metadata": {
        "id": "S9pxUfIbcPhk",
        "colab_type": "code",
        "outputId": "2b626c44-5312-4568-b655-552cb180939b",
        "colab": {
          "base_uri": "https://localhost:8080/",
          "height": 146
        }
      },
      "source": [
        "# Split the data into training and testing sets and create Dataset objects \n",
        "# and oversample training data for class balance\n",
        "labels = labels.sample(frac=1)\n",
        "labels_train, labels_test = train_test_split(labels, test_size=0.2, shuffle=False)\n",
        "\n",
        "ros = RandomOverSampler()\n",
        "X, y = ros.fit_resample(labels_train['eDWID'].as_matrix().reshape((-1, 1)), \n",
        "                        labels_train['dflag'])\n",
        "labels_train = pd.DataFrame({'eDWID': X.reshape((-1,)), 'dflag': y})\n",
        "\n",
        "patient_batches_train = Dataset(labels_train, batch_size, shuffle=True)\n",
        "patient_batches_test = Dataset(labels_test, batch_size, shuffle=True)"
      ],
      "execution_count": 14,
      "outputs": [
        {
          "output_type": "stream",
          "text": [
            "/usr/local/lib/python3.6/dist-packages/ipykernel_launcher.py:5: FutureWarning: Method .as_matrix will be removed in a future version. Use .values instead.\n",
            "  \"\"\"\n",
            "/usr/local/lib/python3.6/dist-packages/ipykernel_launcher.py:3: FutureWarning: Method .as_matrix will be removed in a future version. Use .values instead.\n",
            "  This is separate from the ipykernel package so we can avoid doing imports until\n",
            "/usr/local/lib/python3.6/dist-packages/ipykernel_launcher.py:4: FutureWarning: Method .as_matrix will be removed in a future version. Use .values instead.\n",
            "  after removing the cwd from sys.path.\n"
          ],
          "name": "stderr"
        }
      ]
    },
    {
      "cell_type": "code",
      "metadata": {
        "id": "FQX4g_v6afU2",
        "colab_type": "code",
        "outputId": "f4d36044-4010-41c7-efe8-de59f4d0517e",
        "colab": {
          "base_uri": "https://localhost:8080/",
          "height": 331
        }
      },
      "source": [
        "deaths_per_batch = []\n",
        "batch_num = []\n",
        "for i, (patients, patient_labels) in enumerate(patient_batches_train):\n",
        "  deaths_per_batch.append(patient_labels.sum() / patient_labels.shape[0])\n",
        "  batch_num.append(i)\n",
        "\n",
        "plt.plot(batch_num, deaths_per_batch);\n",
        "mean_deaths_per_batch = np.array(deaths_per_batch).mean()\n",
        "print('Means Deaths per Batch {}\\n'.format(mean_deaths_per_batch))\n",
        "plt.title('Number of Class 1 Obsrvations in Each Training Batch');\n",
        "plt.xlabel('Batch Number');\n",
        "plt.ylabel('Portion of Samples that are Class 1');"
      ],
      "execution_count": 15,
      "outputs": [
        {
          "output_type": "stream",
          "text": [
            "Means Deaths per Batch 0.5\n",
            "\n"
          ],
          "name": "stdout"
        },
        {
          "output_type": "display_data",
          "data": {
            "image/png": "[encoded data removed]",
            "text/plain": [
              "<Figure size 432x288 with 1 Axes>"
            ]
          },
          "metadata": {
            "tags": []
          }
        }
      ]
    },
    {
      "cell_type": "code",
      "metadata": {
        "id": "hFEaVOtbxrdM",
        "colab_type": "code",
        "colab": {
          "base_uri": "https://localhost:8080/",
          "height": 54
        },
        "outputId": "e6f2f3fb-2d7f-4a8e-ac30-c9cf6ff98b10"
      },
      "source": [
        "one_class_freq_train = labels_train['dflag'].mean()\n",
        "one_class_freq_test = labels_test['dflag'].mean()\n",
        "print('1 Class Frequency for Training: {}'.format(one_class_freq_train))\n",
        "print('1 Class Frequency for Test: {}'.format(one_class_freq_test))"
      ],
      "execution_count": 16,
      "outputs": [
        {
          "output_type": "stream",
          "text": [
            "1 Class Frequency for Training: 0.5\n",
            "1 Class Frequency for Test: 0.14645390070921985\n"
          ],
          "name": "stdout"
        }
      ]
    },
    {
      "cell_type": "code",
      "metadata": {
        "id": "s-xj6RsHb86l",
        "colab_type": "code",
        "colab": {}
      },
      "source": [
        "# Method for computing testing accuracies \n",
        "def check_accuracy(sess, dset, x, scores, seq_mask, is_training=None):\n",
        "    num_correct, num_samples = 0, 0\n",
        "    num_pos, num_pos_correct = 0, 0\n",
        "    num_neg, num_neg_correct = 0, 0\n",
        "\n",
        "    for patients, patient_labels in dset:\n",
        "      x_batch, y_batch, mask_batch = generate_data(patients, patient_labels)\n",
        "      feed_dict = {x: x_batch, is_training: 0, seq_mask: mask_batch}\n",
        "\n",
        "      scores_np = sess.run(scores, feed_dict=feed_dict)\n",
        "      y_pred = scores_np.argmax(axis=1)\n",
        "\n",
        "      num_samples += x_batch.shape[0]\n",
        "      num_correct += (y_pred == y_batch).sum()\n",
        "\n",
        "      num_pos += y_batch.sum()\n",
        "      num_pos_correct += ((y_pred == y_batch) & (y_batch == 1)).sum()\n",
        "\n",
        "      num_neg += y_batch.shape[0] - y_batch.sum()\n",
        "      num_neg_correct += ((y_pred == y_batch) & (y_batch == 0)).sum()\n",
        "\n",
        "    acc = float(num_correct) / num_samples\n",
        "    prec = float(num_pos_correct) / num_pos\n",
        "    true_neg_rate = float(num_neg_correct) / num_neg\n",
        "\n",
        "    print('Accuracy: Got %d / %d correct (%.2f%%)' % (num_correct, num_samples, 100 * acc))\n",
        "    print('Precision: Got {} / {} correct ({}%)'.format(num_pos_correct, num_pos, 100*prec))\n",
        "    print('True Negative Rate: Got {} / {} correct ({}%)'.format(num_neg_correct, num_neg, 100*true_neg_rate))\n",
        "\n",
        "    return (acc + prec + true_neg_rate) / 3"
      ],
      "execution_count": 0,
      "outputs": []
    },
    {
      "cell_type": "code",
      "metadata": {
        "id": "ScM43zoLDf_C",
        "colab_type": "code",
        "colab": {}
      },
      "source": [
        "# Method for transforming the pandas dataframes into 3-D tensors for the RNN\n",
        "def generate_data(patients, patient_labels):\n",
        "  X = np.zeros((batch_size, max_seq_length, num_feats))\n",
        "  Y = np.zeros((batch_size))\n",
        "  mask = np.zeros((batch_size, max_seq_length))\n",
        "\n",
        "  for i, patient in enumerate(patients):\n",
        "    patient_feats = feats[feats.eDWID == patient].drop(drop_cols, axis=1)\n",
        "    patient_feats = patient_feats.as_matrix()\n",
        "    seq_length = patient_feats.shape[0]\n",
        "    X[i, :seq_length, :] = patient_feats\n",
        "    mask[i, :seq_length] = True\n",
        "    mask[i, seq_length:] = False \n",
        "    Y[i] = labels[labels.eDWID == patient]['dflag'].as_matrix()[0]\n",
        "  \n",
        "  return X, Y, mask"
      ],
      "execution_count": 0,
      "outputs": []
    },
    {
      "cell_type": "code",
      "metadata": {
        "id": "VE_59B0qdCHF",
        "colab_type": "code",
        "colab": {}
      },
      "source": [
        "# The training procedure\n",
        "def train(model_init_fn, optimizer_init_fn, num_epochs=1):\n",
        "    tf.reset_default_graph()    \n",
        "\n",
        "    x = tf.placeholder(tf.float32, [None,  max_seq_length, num_feats])\n",
        "    y = tf.placeholder(tf.int32, [None])\n",
        "    seq_mask = tf.placeholder(tf.bool, [None, max_seq_length])\n",
        "    is_training = tf.placeholder(tf.bool, name='is_training')\n",
        "    \n",
        "    scores = model_init_fn(x, is_training, seq_mask)\n",
        "\n",
        "    loss = tf.nn.sparse_softmax_cross_entropy_with_logits(labels=y, logits=scores)\n",
        "    loss = tf.reduce_mean(loss)\n",
        "\n",
        "    optimizer = optimizer_init_fn()\n",
        "    print('Current Learning Rate: {}'.format(optimizer._lr))\n",
        "    \n",
        "    update_ops = tf.get_collection(tf.GraphKeys.UPDATE_OPS)\n",
        "    with tf.control_dependencies(update_ops):\n",
        "        train_op = optimizer.minimize(loss)\n",
        "      \n",
        "    sess = tf.Session(config=tf.ConfigProto(allow_soft_placement=True, \n",
        "                                            log_device_placement=False))\n",
        "    with sess:\n",
        "      sess.run(tf.global_variables_initializer())\n",
        "      t = 0\n",
        "      loss_history = []\n",
        "      perf_history = []\n",
        "      for epoch in range(num_epochs):\n",
        "          print('Starting epoch %d' % epoch)\n",
        "          for (patients, patient_labels) in patient_batches_train:\n",
        "            x_np, y_np, mask_np = generate_data(patients, patient_labels)\n",
        "            feed_dict = {x: x_np, y: y_np, is_training: 1, seq_mask: mask_np}\n",
        "            score_np, loss_np, _ = sess.run([scores, loss, train_op], feed_dict=feed_dict)\n",
        "            loss_history.append(loss_np)\n",
        "            if t % print_every == 0:\n",
        "              print('Iteration %d, loss = %.4f' % (t, loss_np))\n",
        "              perf = check_accuracy(sess, patient_batches_test, x, scores, \n",
        "                                    seq_mask, is_training=is_training)\n",
        "              print()\n",
        "              perf_history.append(perf)  \n",
        "            t += 1\n",
        "      return loss_history, perf_history\n",
        "            "
      ],
      "execution_count": 0,
      "outputs": []
    },
    {
      "cell_type": "code",
      "metadata": {
        "id": "2UDYPoMbaFYZ",
        "colab_type": "code",
        "outputId": "74646e61-21a3-47c1-b904-dcf2347f2876",
        "colab": {
          "base_uri": "https://localhost:8080/",
          "height": 1000
        }
      },
      "source": [
        "def plot_train_history(loss_history, perf_history, learning_rate):\n",
        "  plt.figure()\n",
        "  plt.plot(range(len(loss_history)), loss_history);\n",
        "  plt.xlabel('Iteration');\n",
        "  plt.ylabel('Loss');\n",
        "  plt.title('Loss History: lr = {}'.format(learning_rate));\n",
        "\n",
        "  plt.figure();\n",
        "  plt.plot(np.array(range(len(perf_history)))*100, perf_history);\n",
        "  plt.xlabel('Iteration Number');\n",
        "  plt.ylabel('Performance Score');\n",
        "  plt.title('Performance History: lr = {}'.format(learning_rate))\n",
        "\n",
        "learning_rates = [1e-2, 1e-3, 1e-4, 1e-5]\n",
        "perf = []\n",
        "for learning_rate in learning_rates:\n",
        "  def model_init_fn(inputs, is_training, seq_filter):\n",
        "      layers = [tf.keras.layers.LSTM(500,\n",
        "                                    batch_input_shape=(None, max_seq_length, num_feats),\n",
        "                                    return_sequences=True), \n",
        "                tf.keras.layers.LSTM(500, return_sequences=False),\n",
        "                tf.keras.layers.Dense(500, activation='relu'),\n",
        "                tf.keras.layers.Dense(2)]\n",
        "      model = tf.keras.Sequential(layers)\n",
        "\n",
        "      return model(inputs, mask=seq_filter, training=is_training) \n",
        "\n",
        "  def optimizer_init_fn():\n",
        "      optimizer = tf.train.AdamOptimizer(learning_rate=learning_rate)\n",
        "      return optimizer\n",
        "\n",
        "  loss_history, perf_history = train(model_init_fn, optimizer_init_fn, num_epochs=2)\n",
        "  plot_train_history(loss_history, perf_history, learning_rate)\n",
        "  perf.append(np.max(perf_history))"
      ],
      "execution_count": 29,
      "outputs": [
        {
          "output_type": "stream",
          "text": [
            "Current Learning Rate: 0.01\n",
            "Starting epoch 0\n"
          ],
          "name": "stdout"
        },
        {
          "output_type": "stream",
          "text": [
            "/usr/local/lib/python3.6/dist-packages/ipykernel_launcher.py:8: FutureWarning: Method .as_matrix will be removed in a future version. Use .values instead.\n",
            "  \n",
            "/usr/local/lib/python3.6/dist-packages/ipykernel_launcher.py:13: FutureWarning: Method .as_matrix will be removed in a future version. Use .values instead.\n",
            "  del sys.path[0]\n"
          ],
          "name": "stderr"
        },
        {
          "output_type": "stream",
          "text": [
            "Iteration 0, loss = 0.6688\n",
            "Accuracy: Got 1881 / 5700 correct (33.00%)\n",
            "Precision: Got 819 / 826.0 correct (99.15254237288136%)\n",
            "True Negative Rate: Got 1062 / 4874.0 correct (21.789084940500615%)\n",
            "\n",
            "Iteration 100, loss = 0.5355\n",
            "Accuracy: Got 4892 / 5700 correct (85.82%)\n",
            "Precision: Got 535 / 826.0 correct (64.76997578692493%)\n",
            "True Negative Rate: Got 4357 / 4874.0 correct (89.39269593762823%)\n",
            "\n",
            "Iteration 200, loss = 0.5115\n",
            "Accuracy: Got 4749 / 5700 correct (83.32%)\n",
            "Precision: Got 678 / 826.0 correct (82.08232445520581%)\n",
            "True Negative Rate: Got 4071 / 4874.0 correct (83.52482560525236%)\n",
            "\n",
            "Iteration 300, loss = 0.2974\n",
            "Accuracy: Got 4727 / 5700 correct (82.93%)\n",
            "Precision: Got 690 / 826.0 correct (83.53510895883777%)\n",
            "True Negative Rate: Got 4037 / 4874.0 correct (82.8272466146902%)\n",
            "\n",
            "Starting epoch 1\n",
            "Iteration 400, loss = 0.3481\n",
            "Accuracy: Got 4908 / 5700 correct (86.11%)\n",
            "Precision: Got 627 / 826.0 correct (75.90799031476998%)\n",
            "True Negative Rate: Got 4281 / 4874.0 correct (87.83340172343046%)\n",
            "\n",
            "Iteration 500, loss = 0.3088\n",
            "Accuracy: Got 4738 / 5700 correct (83.12%)\n",
            "Precision: Got 680 / 826.0 correct (82.32445520581115%)\n",
            "True Negative Rate: Got 4058 / 4874.0 correct (83.258104226508%)\n",
            "\n",
            "Iteration 600, loss = 0.3704\n",
            "Accuracy: Got 4702 / 5700 correct (82.49%)\n",
            "Precision: Got 690 / 826.0 correct (83.53510895883777%)\n",
            "True Negative Rate: Got 4012 / 4874.0 correct (82.31432088633565%)\n",
            "\n",
            "Iteration 700, loss = 0.4071\n",
            "Accuracy: Got 4471 / 5700 correct (78.44%)\n",
            "Precision: Got 730 / 826.0 correct (88.37772397094432%)\n",
            "True Negative Rate: Got 3741 / 4874.0 correct (76.75420599097251%)\n",
            "\n",
            "Current Learning Rate: 0.001\n",
            "Starting epoch 0\n",
            "Iteration 0, loss = 0.6902\n",
            "Accuracy: Got 3433 / 5700 correct (60.23%)\n",
            "Precision: Got 763 / 826.0 correct (92.37288135593221%)\n",
            "True Negative Rate: Got 2670 / 4874.0 correct (54.78046778826426%)\n",
            "\n",
            "Iteration 100, loss = 0.3043\n",
            "Accuracy: Got 4577 / 5700 correct (80.30%)\n",
            "Precision: Got 719 / 826.0 correct (87.046004842615%)\n",
            "True Negative Rate: Got 3858 / 4874.0 correct (79.15469839967173%)\n",
            "\n",
            "Iteration 200, loss = 0.4366\n",
            "Accuracy: Got 4340 / 5700 correct (76.14%)\n",
            "Precision: Got 765 / 826.0 correct (92.61501210653753%)\n",
            "True Negative Rate: Got 3575 / 4874.0 correct (73.34837915469839%)\n",
            "\n",
            "Iteration 300, loss = 0.4492\n",
            "Accuracy: Got 4853 / 5700 correct (85.14%)\n",
            "Precision: Got 683 / 826.0 correct (82.68765133171912%)\n",
            "True Negative Rate: Got 4170 / 4874.0 correct (85.5560114895363%)\n",
            "\n",
            "Starting epoch 1\n",
            "Iteration 400, loss = 0.3328\n",
            "Accuracy: Got 4658 / 5700 correct (81.72%)\n",
            "Precision: Got 738 / 826.0 correct (89.34624697336562%)\n",
            "True Negative Rate: Got 3920 / 4874.0 correct (80.42675420599097%)\n",
            "\n",
            "Iteration 500, loss = 0.3539\n",
            "Accuracy: Got 4730 / 5700 correct (82.98%)\n",
            "Precision: Got 720 / 826.0 correct (87.16707021791767%)\n",
            "True Negative Rate: Got 4010 / 4874.0 correct (82.2732868280673%)\n",
            "\n",
            "Iteration 600, loss = 0.3753\n",
            "Accuracy: Got 4606 / 5700 correct (80.81%)\n",
            "Precision: Got 742 / 826.0 correct (89.83050847457628%)\n",
            "True Negative Rate: Got 3864 / 4874.0 correct (79.27780057447681%)\n",
            "\n",
            "Iteration 700, loss = 0.3369\n",
            "Accuracy: Got 4639 / 5700 correct (81.39%)\n",
            "Precision: Got 752 / 826.0 correct (91.0411622276029%)\n",
            "True Negative Rate: Got 3887 / 4874.0 correct (79.749692244563%)\n",
            "\n",
            "Current Learning Rate: 0.0001\n",
            "Starting epoch 0\n",
            "Iteration 0, loss = 0.7413\n",
            "Accuracy: Got 4091 / 5700 correct (71.77%)\n",
            "Precision: Got 691 / 826.0 correct (83.65617433414043%)\n",
            "True Negative Rate: Got 3400 / 4874.0 correct (69.75789905621666%)\n",
            "\n",
            "Iteration 100, loss = 0.4668\n",
            "Accuracy: Got 4696 / 5700 correct (82.39%)\n",
            "Precision: Got 659 / 826.0 correct (79.7820823244552%)\n",
            "True Negative Rate: Got 4037 / 4874.0 correct (82.8272466146902%)\n",
            "\n",
            "Iteration 200, loss = 0.3882\n",
            "Accuracy: Got 4771 / 5700 correct (83.70%)\n",
            "Precision: Got 661 / 826.0 correct (80.02421307506053%)\n",
            "True Negative Rate: Got 4110 / 4874.0 correct (84.32498974148544%)\n",
            "\n",
            "Iteration 300, loss = 0.4012\n",
            "Accuracy: Got 4821 / 5700 correct (84.58%)\n",
            "Precision: Got 687 / 826.0 correct (83.17191283292978%)\n",
            "True Negative Rate: Got 4134 / 4874.0 correct (84.81739844070579%)\n",
            "\n",
            "Starting epoch 1\n",
            "Iteration 400, loss = 0.3942\n",
            "Accuracy: Got 4581 / 5700 correct (80.37%)\n",
            "Precision: Got 737 / 826.0 correct (89.22518159806295%)\n",
            "True Negative Rate: Got 3844 / 4874.0 correct (78.86745999179318%)\n",
            "\n",
            "Iteration 500, loss = 0.4197\n",
            "Accuracy: Got 4678 / 5700 correct (82.07%)\n",
            "Precision: Got 733 / 826.0 correct (88.7409200968523%)\n",
            "True Negative Rate: Got 3945 / 4874.0 correct (80.9396799343455%)\n",
            "\n",
            "Iteration 600, loss = 0.3900\n",
            "Accuracy: Got 4933 / 5700 correct (86.54%)\n",
            "Precision: Got 629 / 826.0 correct (76.1501210653753%)\n",
            "True Negative Rate: Got 4304 / 4874.0 correct (88.30529339351662%)\n",
            "\n",
            "Iteration 700, loss = 0.3654\n",
            "Accuracy: Got 4518 / 5700 correct (79.26%)\n",
            "Precision: Got 751 / 826.0 correct (90.92009685230025%)\n",
            "True Negative Rate: Got 3767 / 4874.0 correct (77.28764874846122%)\n",
            "\n",
            "Current Learning Rate: 1e-05\n",
            "Starting epoch 0\n",
            "Iteration 0, loss = 0.6844\n",
            "Accuracy: Got 3526 / 5700 correct (61.86%)\n",
            "Precision: Got 518 / 826.0 correct (62.71186440677966%)\n",
            "True Negative Rate: Got 3008 / 4874.0 correct (61.71522363561757%)\n",
            "\n",
            "Iteration 100, loss = 0.4572\n",
            "Accuracy: Got 4353 / 5700 correct (76.37%)\n",
            "Precision: Got 662 / 826.0 correct (80.1452784503632%)\n",
            "True Negative Rate: Got 3691 / 4874.0 correct (75.72835453426345%)\n",
            "\n",
            "Iteration 200, loss = 0.5099\n",
            "Accuracy: Got 4485 / 5700 correct (78.68%)\n",
            "Precision: Got 651 / 826.0 correct (78.8135593220339%)\n",
            "True Negative Rate: Got 3834 / 4874.0 correct (78.66228970045137%)\n",
            "\n",
            "Iteration 300, loss = 0.4358\n",
            "Accuracy: Got 4277 / 5700 correct (75.04%)\n",
            "Precision: Got 712 / 826.0 correct (86.19854721549636%)\n",
            "True Negative Rate: Got 3565 / 4874.0 correct (73.14320886335659%)\n",
            "\n",
            "Starting epoch 1\n",
            "Iteration 400, loss = 0.3343\n",
            "Accuracy: Got 4376 / 5700 correct (76.77%)\n",
            "Precision: Got 703 / 826.0 correct (85.10895883777239%)\n",
            "True Negative Rate: Got 3673 / 4874.0 correct (75.35904800984817%)\n",
            "\n",
            "Iteration 500, loss = 0.4314\n",
            "Accuracy: Got 4395 / 5700 correct (77.11%)\n",
            "Precision: Got 701 / 826.0 correct (84.86682808716706%)\n",
            "True Negative Rate: Got 3694 / 4874.0 correct (75.78990562166598%)\n",
            "\n",
            "Iteration 600, loss = 0.3776\n",
            "Accuracy: Got 4526 / 5700 correct (79.40%)\n",
            "Precision: Got 692 / 826.0 correct (83.7772397094431%)\n",
            "True Negative Rate: Got 3834 / 4874.0 correct (78.66228970045137%)\n",
            "\n",
            "Iteration 700, loss = 0.4604\n",
            "Accuracy: Got 4634 / 5700 correct (81.30%)\n",
            "Precision: Got 666 / 826.0 correct (80.62953995157385%)\n",
            "True Negative Rate: Got 3968 / 4874.0 correct (81.41157160443167%)\n",
            "\n"
          ],
          "name": "stdout"
        },
        {
          "output_type": "display_data",
          "data": {
            "image/png": "[encoded data removed]",
            "text/plain": [
              "<Figure size 432x288 with 1 Axes>"
            ]
          },
          "metadata": {
            "tags": []
          }
        },
        {
          "output_type": "display_data",
          "data": {
            "image/png": "[encoded data removed]",
            "text/plain": [
              "<Figure size 432x288 with 1 Axes>"
            ]
          },
          "metadata": {
            "tags": []
          }
        },
        {
          "output_type": "display_data",
          "data": {
            "image/png": "[encoded data removed]",
            "text/plain": [
              "<Figure size 432x288 with 1 Axes>"
            ]
          },
          "metadata": {
            "tags": []
          }
        },
        {
          "output_type": "display_data",
          "data": {
            "image/png": "[encoded data removed]",
            "text/plain": [
              "<Figure size 432x288 with 1 Axes>"
            ]
          },
          "metadata": {
            "tags": []
          }
        },
        {
          "output_type": "display_data",
          "data": {
            "image/png": "[encoded data removed]",
            "text/plain": [
              "<Figure size 432x288 with 1 Axes>"
            ]
          },
          "metadata": {
            "tags": []
          }
        },
        {
          "output_type": "display_data",
          "data": {
            "image/png": "[encoded data removed]",
            "text/plain": [
              "<Figure size 432x288 with 1 Axes>"
            ]
          },
          "metadata": {
            "tags": []
          }
        },
        {
          "output_type": "display_data",
          "data": {
            "image/png": "[encoded data removed]",
            "text/plain": [
              "<Figure size 432x288 with 1 Axes>"
            ]
          },
          "metadata": {
            "tags": []
          }
        },
        {
          "output_type": "display_data",
          "data": {
            "image/png": "[encoded data removed]",
            "text/plain": [
              "<Figure size 432x288 with 1 Axes>"
            ]
          },
          "metadata": {
            "tags": []
          }
        }
      ]
    },
    {
      "cell_type": "code",
      "metadata": {
        "id": "0iZPte6CMiA7",
        "colab_type": "code",
        "outputId": "483c8536-e41e-432a-aa5a-dbf148cc3fc0",
        "colab": {
          "base_uri": "https://localhost:8080/",
          "height": 265
        }
      },
      "source": [
        "plt.plot(learning_rates, perf);\n",
        "plt.plot()"
      ],
      "execution_count": 31,
      "outputs": [
        {
          "output_type": "display_data",
          "data": {
            "image/png": "[encoded data removed]",
            "text/plain": [
              "<Figure size 432x288 with 1 Axes>"
            ]
          },
          "metadata": {
            "tags": []
          }
        }
      ]
    }
  ]
}
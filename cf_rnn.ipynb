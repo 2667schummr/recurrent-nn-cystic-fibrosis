{
  "nbformat": 4,
  "nbformat_minor": 0,
  "metadata": {
    "colab": {
      "name": "cf_rnn.ipynb",
      "provenance": [],
      "collapsed_sections": [],
      "machine_shape": "hm",
      "include_colab_link": true
    },
    "kernelspec": {
      "name": "python3",
      "display_name": "Python 3"
    },
    "accelerator": "GPU"
  },
  "cells": [
    {
      "cell_type": "markdown",
      "metadata": {
        "id": "view-in-github",
        "colab_type": "text"
      },
      "source": [
        "<a href=\"https://colab.research.google.com/github/2667schummr/recurrent-nn-cystic-fibrosis/blob/total-no-na/cf_rnn.ipynb\" target=\"_parent\"><img src=\"https://colab.research.google.com/assets/colab-badge.svg\" alt=\"Open In Colab\"/></a>"
      ]
    },
    {
      "cell_type": "code",
      "metadata": {
        "id": "I7QfOEzJbeM9",
        "colab_type": "code",
        "outputId": "7aae5bdd-b7e2-4b39-c4d7-5e2ece4f01c2",
        "colab": {
          "base_uri": "https://localhost:8080/",
          "height": 121
        }
      },
      "source": [
        "import numpy as np\n",
        "import pandas as pd\n",
        "import os\n",
        "import tensorflow as tf\n",
        "from sklearn.model_selection import train_test_split\n",
        "from sklearn.metrics import precision_score\n",
        "from google.colab import drive\n",
        "from imblearn.over_sampling import RandomOverSampler\n",
        "import matplotlib.pyplot as plt"
      ],
      "execution_count": 0,
      "outputs": [
        {
          "output_type": "display_data",
          "data": {
            "text/html": [
              "<p style=\"color: red;\">\n",
              "The default version of TensorFlow in Colab will soon switch to TensorFlow 2.x.<br>\n",
              "We recommend you <a href=\"https://www.tensorflow.org/guide/migrate\" target=\"_blank\">upgrade</a> now \n",
              "or ensure your notebook will continue to use TensorFlow 1.x via the <code>%tensorflow_version 1.x</code> magic:\n",
              "<a href=\"https://colab.research.google.com/notebooks/tensorflow_version.ipynb\" target=\"_blank\">more info</a>.</p>\n"
            ],
            "text/plain": [
              "<IPython.core.display.HTML object>"
            ]
          },
          "metadata": {
            "tags": []
          }
        },
        {
          "output_type": "stream",
          "text": [
            "/usr/local/lib/python3.6/dist-packages/sklearn/externals/six.py:31: DeprecationWarning: The module is deprecated in version 0.21 and will be removed in version 0.23 since we've dropped support for Python 2.7. Please rely on the official version of six (https://pypi.org/project/six/).\n",
            "  \"(https://pypi.org/project/six/).\", DeprecationWarning)\n"
          ],
          "name": "stderr"
        }
      ]
    },
    {
      "cell_type": "code",
      "metadata": {
        "id": "GeZsGz_s9vvG",
        "colab_type": "code",
        "colab": {}
      },
      "source": [
        "# Specify training parameters\n",
        "device = '/device:GPU:0'\n",
        "print_every = 100\n",
        "batch_size = 100"
      ],
      "execution_count": 0,
      "outputs": []
    },
    {
      "cell_type": "code",
      "metadata": {
        "id": "7swofaj1bwWw",
        "colab_type": "code",
        "outputId": "cf03048c-0dcb-4a20-82b7-36a026efdae7",
        "colab": {
          "base_uri": "https://localhost:8080/",
          "height": 146
        }
      },
      "source": [
        "# Make google drive files accessible\n",
        "drive.mount('/content/gdrive')\n",
        "path = '/content/gdrive/My Drive/Colab Notebooks/full-data-rnn'\n",
        "os.chdir(path)\n",
        "print('Current Working Directory: {}'.format(os.getcwd()))\n",
        "from utils import *"
      ],
      "execution_count": 0,
      "outputs": [
        {
          "output_type": "stream",
          "text": [
            "Go to this URL in a browser: https://accounts.google.com/o/oauth2/auth?client_id=947318989803-6bn6qk8qdgf4n4g3pfee6491hc0brc4i.apps.googleusercontent.com&redirect_uri=urn%3aietf%3awg%3aoauth%3a2.0%3aoob&response_type=code&scope=email%20https%3a%2f%2fwww.googleapis.com%2fauth%2fdocs.test%20https%3a%2f%2fwww.googleapis.com%2fauth%2fdrive%20https%3a%2f%2fwww.googleapis.com%2fauth%2fdrive.photos.readonly%20https%3a%2f%2fwww.googleapis.com%2fauth%2fpeopleapi.readonly\n",
            "\n",
            "Enter your authorization code:\n",
            "··········\n",
            "Mounted at /content/gdrive\n",
            "Current Working Directory: /content/gdrive/My Drive/Colab Notebooks/full-data-rnn\n"
          ],
          "name": "stdout"
        }
      ]
    },
    {
      "cell_type": "markdown",
      "metadata": {
        "id": "UOeHXr4Cw36B",
        "colab_type": "text"
      },
      "source": [
        "## Data Description\n",
        "This dataset consists of observations made throughout the entire time period patients were tracked like the dataset used in notebook 1.  But, instead of dropping all incomplete features, the features that were 80% complete were kept and time steps with missing data were dropped."
      ]
    },
    {
      "cell_type": "code",
      "metadata": {
        "id": "ixUv7UjteJ7w",
        "colab_type": "code",
        "outputId": "735561cf-c891-4df9-f401-4c1766eff1b3",
        "colab": {
          "base_uri": "https://localhost:8080/",
          "height": 236
        }
      },
      "source": [
        "# Load the panda dataframe containing the features used to train the simple RNN\n",
        "# and multi-layer LSTM in the previous notebook\n",
        "feats = pd.read_pickle('../cf-data/processed_data_complete_feats.pkl')\n",
        "print('Feature Shape: {}'.format(feats.shape))\n",
        "\n",
        "drop_cols = ['eDWID', 'YRM'] # These are identification columns\n",
        "feats.head()"
      ],
      "execution_count": 0,
      "outputs": [
        {
          "output_type": "stream",
          "text": [
            "Feature Shape: (513452, 34)\n"
          ],
          "name": "stdout"
        },
        {
          "output_type": "execute_result",
          "data": {
            "text/html": [
              "<div>\n",
              "<style scoped>\n",
              "    .dataframe tbody tr th:only-of-type {\n",
              "        vertical-align: middle;\n",
              "    }\n",
              "\n",
              "    .dataframe tbody tr th {\n",
              "        vertical-align: top;\n",
              "    }\n",
              "\n",
              "    .dataframe thead th {\n",
              "        text-align: right;\n",
              "    }\n",
              "</style>\n",
              "<table border=\"1\" class=\"dataframe\">\n",
              "  <thead>\n",
              "    <tr style=\"text-align: right;\">\n",
              "      <th></th>\n",
              "      <th>eDWID</th>\n",
              "      <th>YRM</th>\n",
              "      <th>mssa</th>\n",
              "      <th>mrsa</th>\n",
              "      <th>h_flu</th>\n",
              "      <th>pseudo</th>\n",
              "      <th>burkho_complex</th>\n",
              "      <th>alcalig</th>\n",
              "      <th>steno</th>\n",
              "      <th>enterobacter</th>\n",
              "      <th>serratia_marcescens</th>\n",
              "      <th>aspergillus</th>\n",
              "      <th>candida</th>\n",
              "      <th>scedosporium</th>\n",
              "      <th>mabscessus</th>\n",
              "      <th>mai</th>\n",
              "      <th>bd_age</th>\n",
              "      <th>sex</th>\n",
              "      <th>suff</th>\n",
              "      <th>trunc03</th>\n",
              "      <th>all_tob</th>\n",
              "      <th>all_mod</th>\n",
              "      <th>all_bd</th>\n",
              "      <th>dnase</th>\n",
              "      <th>inhcolistin</th>\n",
              "      <th>inhaztreonam</th>\n",
              "      <th>hypersaline</th>\n",
              "      <th>chronic_macrolide</th>\n",
              "      <th>oral_steroids</th>\n",
              "      <th>inh_steroids</th>\n",
              "      <th>inhsteroids_bronchodil</th>\n",
              "      <th>oral_other_abx</th>\n",
              "      <th>txflag</th>\n",
              "      <th>othertx</th>\n",
              "    </tr>\n",
              "  </thead>\n",
              "  <tbody>\n",
              "    <tr>\n",
              "      <th>0</th>\n",
              "      <td>900000702</td>\n",
              "      <td>2003</td>\n",
              "      <td>0</td>\n",
              "      <td>0</td>\n",
              "      <td>0</td>\n",
              "      <td>1</td>\n",
              "      <td>0</td>\n",
              "      <td>0</td>\n",
              "      <td>0</td>\n",
              "      <td>0</td>\n",
              "      <td>0</td>\n",
              "      <td>1</td>\n",
              "      <td>0</td>\n",
              "      <td>0</td>\n",
              "      <td>0</td>\n",
              "      <td>0</td>\n",
              "      <td>6</td>\n",
              "      <td>0</td>\n",
              "      <td>0</td>\n",
              "      <td>1</td>\n",
              "      <td>1</td>\n",
              "      <td>0</td>\n",
              "      <td>0</td>\n",
              "      <td>1</td>\n",
              "      <td>0</td>\n",
              "      <td>0</td>\n",
              "      <td>0</td>\n",
              "      <td>1</td>\n",
              "      <td>0</td>\n",
              "      <td>0</td>\n",
              "      <td>0</td>\n",
              "      <td>0</td>\n",
              "      <td>0</td>\n",
              "      <td>0</td>\n",
              "    </tr>\n",
              "    <tr>\n",
              "      <th>1</th>\n",
              "      <td>900000702</td>\n",
              "      <td>2004</td>\n",
              "      <td>0</td>\n",
              "      <td>0</td>\n",
              "      <td>0</td>\n",
              "      <td>1</td>\n",
              "      <td>0</td>\n",
              "      <td>0</td>\n",
              "      <td>0</td>\n",
              "      <td>0</td>\n",
              "      <td>0</td>\n",
              "      <td>0</td>\n",
              "      <td>0</td>\n",
              "      <td>0</td>\n",
              "      <td>0</td>\n",
              "      <td>0</td>\n",
              "      <td>7</td>\n",
              "      <td>0</td>\n",
              "      <td>0</td>\n",
              "      <td>0</td>\n",
              "      <td>1</td>\n",
              "      <td>0</td>\n",
              "      <td>0</td>\n",
              "      <td>1</td>\n",
              "      <td>0</td>\n",
              "      <td>0</td>\n",
              "      <td>0</td>\n",
              "      <td>1</td>\n",
              "      <td>0</td>\n",
              "      <td>0</td>\n",
              "      <td>0</td>\n",
              "      <td>0</td>\n",
              "      <td>0</td>\n",
              "      <td>0</td>\n",
              "    </tr>\n",
              "    <tr>\n",
              "      <th>2</th>\n",
              "      <td>900000702</td>\n",
              "      <td>2005</td>\n",
              "      <td>0</td>\n",
              "      <td>0</td>\n",
              "      <td>0</td>\n",
              "      <td>1</td>\n",
              "      <td>0</td>\n",
              "      <td>0</td>\n",
              "      <td>0</td>\n",
              "      <td>0</td>\n",
              "      <td>0</td>\n",
              "      <td>1</td>\n",
              "      <td>0</td>\n",
              "      <td>0</td>\n",
              "      <td>0</td>\n",
              "      <td>0</td>\n",
              "      <td>8</td>\n",
              "      <td>0</td>\n",
              "      <td>0</td>\n",
              "      <td>0</td>\n",
              "      <td>1</td>\n",
              "      <td>0</td>\n",
              "      <td>0</td>\n",
              "      <td>1</td>\n",
              "      <td>0</td>\n",
              "      <td>0</td>\n",
              "      <td>0</td>\n",
              "      <td>1</td>\n",
              "      <td>0</td>\n",
              "      <td>0</td>\n",
              "      <td>0</td>\n",
              "      <td>0</td>\n",
              "      <td>0</td>\n",
              "      <td>0</td>\n",
              "    </tr>\n",
              "    <tr>\n",
              "      <th>3</th>\n",
              "      <td>900000702</td>\n",
              "      <td>2006</td>\n",
              "      <td>0</td>\n",
              "      <td>0</td>\n",
              "      <td>0</td>\n",
              "      <td>1</td>\n",
              "      <td>0</td>\n",
              "      <td>0</td>\n",
              "      <td>0</td>\n",
              "      <td>0</td>\n",
              "      <td>0</td>\n",
              "      <td>1</td>\n",
              "      <td>0</td>\n",
              "      <td>0</td>\n",
              "      <td>0</td>\n",
              "      <td>0</td>\n",
              "      <td>9</td>\n",
              "      <td>0</td>\n",
              "      <td>0</td>\n",
              "      <td>0</td>\n",
              "      <td>1</td>\n",
              "      <td>0</td>\n",
              "      <td>1</td>\n",
              "      <td>1</td>\n",
              "      <td>0</td>\n",
              "      <td>0</td>\n",
              "      <td>0</td>\n",
              "      <td>1</td>\n",
              "      <td>0</td>\n",
              "      <td>1</td>\n",
              "      <td>0</td>\n",
              "      <td>0</td>\n",
              "      <td>0</td>\n",
              "      <td>0</td>\n",
              "    </tr>\n",
              "    <tr>\n",
              "      <th>4</th>\n",
              "      <td>900000702</td>\n",
              "      <td>2007</td>\n",
              "      <td>0</td>\n",
              "      <td>0</td>\n",
              "      <td>0</td>\n",
              "      <td>1</td>\n",
              "      <td>0</td>\n",
              "      <td>0</td>\n",
              "      <td>0</td>\n",
              "      <td>0</td>\n",
              "      <td>0</td>\n",
              "      <td>1</td>\n",
              "      <td>0</td>\n",
              "      <td>0</td>\n",
              "      <td>0</td>\n",
              "      <td>0</td>\n",
              "      <td>10</td>\n",
              "      <td>0</td>\n",
              "      <td>0</td>\n",
              "      <td>0</td>\n",
              "      <td>1</td>\n",
              "      <td>0</td>\n",
              "      <td>1</td>\n",
              "      <td>1</td>\n",
              "      <td>0</td>\n",
              "      <td>0</td>\n",
              "      <td>0</td>\n",
              "      <td>1</td>\n",
              "      <td>0</td>\n",
              "      <td>1</td>\n",
              "      <td>0</td>\n",
              "      <td>0</td>\n",
              "      <td>0</td>\n",
              "      <td>0</td>\n",
              "    </tr>\n",
              "  </tbody>\n",
              "</table>\n",
              "</div>"
            ],
            "text/plain": [
              "       eDWID   YRM  mssa  ...  oral_other_abx  txflag  othertx\n",
              "0  900000702  2003     0  ...               0       0        0\n",
              "1  900000702  2004     0  ...               0       0        0\n",
              "2  900000702  2005     0  ...               0       0        0\n",
              "3  900000702  2006     0  ...               0       0        0\n",
              "4  900000702  2007     0  ...               0       0        0\n",
              "\n",
              "[5 rows x 34 columns]"
            ]
          },
          "metadata": {
            "tags": []
          },
          "execution_count": 4
        }
      ]
    },
    {
      "cell_type": "code",
      "metadata": {
        "id": "yDsVOuCNiYDP",
        "colab_type": "code",
        "outputId": "c584ab73-fa97-402f-a5c9-42a66477d168",
        "colab": {
          "base_uri": "https://localhost:8080/",
          "height": 35
        }
      },
      "source": [
        "# Load the total dataset\n",
        "data_train = pd.read_csv('../cf-data/total_training_no_na.csv')\n",
        "data_test = pd.read_csv('../cf-data/total_testing_no_na.csv')\n",
        "data_total = pd.concat([data_train, data_test], axis=0)\n",
        "print('Feature Shape: {}'.format(data_total.shape))"
      ],
      "execution_count": 0,
      "outputs": [
        {
          "output_type": "stream",
          "text": [
            "Feature Shape: (1728227, 56)\n"
          ],
          "name": "stdout"
        }
      ]
    },
    {
      "cell_type": "code",
      "metadata": {
        "id": "q5X3mkP8iqGB",
        "colab_type": "code",
        "outputId": "211b0f50-bbcb-4504-f645-44dc54109a06",
        "colab": {
          "base_uri": "https://localhost:8080/",
          "height": 35
        }
      },
      "source": [
        "# Keep only original features\n",
        "feats = data_total[feats.columns]\n",
        "max_seq_length = feats.groupby('eDWID').count()['YRM'].max()\n",
        "print(feats.shape)"
      ],
      "execution_count": 0,
      "outputs": [
        {
          "output_type": "stream",
          "text": [
            "(1728227, 34)\n"
          ],
          "name": "stdout"
        }
      ]
    },
    {
      "cell_type": "code",
      "metadata": {
        "id": "W932-6hPwkkq",
        "colab_type": "code",
        "outputId": "c62dc08e-69ff-4718-c066-41692a0f4ca7",
        "colab": {
          "base_uri": "https://localhost:8080/",
          "height": 126
        }
      },
      "source": [
        "# Extract the binary features\n",
        "excluded_cols = ['dflag', 'dflag5']\n",
        "for col in data_total.columns:\n",
        "  num_unique = data_total[col].nunique()\n",
        "  if col not in feats.columns and num_unique == 2 and col not in excluded_cols:\n",
        "    feats[col] = data_total[col]"
      ],
      "execution_count": 0,
      "outputs": [
        {
          "output_type": "stream",
          "text": [
            "/usr/local/lib/python3.6/dist-packages/ipykernel_launcher.py:5: SettingWithCopyWarning: \n",
            "A value is trying to be set on a copy of a slice from a DataFrame.\n",
            "Try using .loc[row_indexer,col_indexer] = value instead\n",
            "\n",
            "See the caveats in the documentation: http://pandas.pydata.org/pandas-docs/stable/user_guide/indexing.html#returning-a-view-versus-a-copy\n",
            "  \"\"\"\n"
          ],
          "name": "stderr"
        }
      ]
    },
    {
      "cell_type": "code",
      "metadata": {
        "id": "957TTC0PPfQD",
        "colab_type": "code",
        "outputId": "0af23bf9-c31b-43a3-d6b2-d5303c4959d3",
        "colab": {
          "base_uri": "https://localhost:8080/",
          "height": 126
        }
      },
      "source": [
        "# Add non-categorical features\n",
        "cols = ['fev1pct_best', 'zscore_best', 'NumCult', 'nextNumCult']\n",
        "for col in cols:\n",
        "  feats[col] = data_total[col]"
      ],
      "execution_count": 0,
      "outputs": [
        {
          "output_type": "stream",
          "text": [
            "/usr/local/lib/python3.6/dist-packages/ipykernel_launcher.py:3: SettingWithCopyWarning: \n",
            "A value is trying to be set on a copy of a slice from a DataFrame.\n",
            "Try using .loc[row_indexer,col_indexer] = value instead\n",
            "\n",
            "See the caveats in the documentation: http://pandas.pydata.org/pandas-docs/stable/user_guide/indexing.html#returning-a-view-versus-a-copy\n",
            "  This is separate from the ipykernel package so we can avoid doing imports until\n"
          ],
          "name": "stderr"
        }
      ]
    },
    {
      "cell_type": "code",
      "metadata": {
        "id": "Er3cY74m3mE3",
        "colab_type": "code",
        "outputId": "9ad29a03-1653-4ff2-b84e-1f6a8b9ec150",
        "colab": {
          "base_uri": "https://localhost:8080/",
          "height": 218
        }
      },
      "source": [
        "# one-hot-encode trunc03 feature\n",
        "feats = pd.get_dummies(feats, columns=['trunc03'])\n",
        "num_feats = feats.shape[1] - 2\n",
        "feats.head()"
      ],
      "execution_count": 0,
      "outputs": [
        {
          "output_type": "execute_result",
          "data": {
            "text/html": [
              "<div>\n",
              "<style scoped>\n",
              "    .dataframe tbody tr th:only-of-type {\n",
              "        vertical-align: middle;\n",
              "    }\n",
              "\n",
              "    .dataframe tbody tr th {\n",
              "        vertical-align: top;\n",
              "    }\n",
              "\n",
              "    .dataframe thead th {\n",
              "        text-align: right;\n",
              "    }\n",
              "</style>\n",
              "<table border=\"1\" class=\"dataframe\">\n",
              "  <thead>\n",
              "    <tr style=\"text-align: right;\">\n",
              "      <th></th>\n",
              "      <th>eDWID</th>\n",
              "      <th>YRM</th>\n",
              "      <th>mssa</th>\n",
              "      <th>mrsa</th>\n",
              "      <th>h_flu</th>\n",
              "      <th>pseudo</th>\n",
              "      <th>burkho_complex</th>\n",
              "      <th>alcalig</th>\n",
              "      <th>steno</th>\n",
              "      <th>enterobacter</th>\n",
              "      <th>serratia_marcescens</th>\n",
              "      <th>aspergillus</th>\n",
              "      <th>candida</th>\n",
              "      <th>scedosporium</th>\n",
              "      <th>mabscessus</th>\n",
              "      <th>mai</th>\n",
              "      <th>bd_age</th>\n",
              "      <th>sex</th>\n",
              "      <th>suff</th>\n",
              "      <th>all_tob</th>\n",
              "      <th>all_mod</th>\n",
              "      <th>all_bd</th>\n",
              "      <th>dnase</th>\n",
              "      <th>inhcolistin</th>\n",
              "      <th>inhaztreonam</th>\n",
              "      <th>hypersaline</th>\n",
              "      <th>chronic_macrolide</th>\n",
              "      <th>oral_steroids</th>\n",
              "      <th>inh_steroids</th>\n",
              "      <th>inhsteroids_bronchodil</th>\n",
              "      <th>oral_other_abx</th>\n",
              "      <th>txflag</th>\n",
              "      <th>othertx</th>\n",
              "      <th>diabet</th>\n",
              "      <th>impglu</th>\n",
              "      <th>gainburkho_complex</th>\n",
              "      <th>gainalcalig</th>\n",
              "      <th>gainenterobacter</th>\n",
              "      <th>gainserratia_marcescens</th>\n",
              "      <th>gainscedosporium</th>\n",
              "      <th>gainmabscessus</th>\n",
              "      <th>gainmai</th>\n",
              "      <th>fev1pct_best</th>\n",
              "      <th>zscore_best</th>\n",
              "      <th>NumCult</th>\n",
              "      <th>nextNumCult</th>\n",
              "      <th>trunc03_0</th>\n",
              "      <th>trunc03_1</th>\n",
              "      <th>trunc03_2</th>\n",
              "      <th>trunc03_3</th>\n",
              "      <th>trunc03_4</th>\n",
              "      <th>trunc03_5</th>\n",
              "    </tr>\n",
              "  </thead>\n",
              "  <tbody>\n",
              "    <tr>\n",
              "      <th>0</th>\n",
              "      <td>900000702</td>\n",
              "      <td>2003</td>\n",
              "      <td>0</td>\n",
              "      <td>0</td>\n",
              "      <td>0</td>\n",
              "      <td>1</td>\n",
              "      <td>0</td>\n",
              "      <td>0</td>\n",
              "      <td>0</td>\n",
              "      <td>0</td>\n",
              "      <td>0</td>\n",
              "      <td>1</td>\n",
              "      <td>0</td>\n",
              "      <td>0</td>\n",
              "      <td>0</td>\n",
              "      <td>0</td>\n",
              "      <td>6</td>\n",
              "      <td>0</td>\n",
              "      <td>0</td>\n",
              "      <td>1</td>\n",
              "      <td>0</td>\n",
              "      <td>0</td>\n",
              "      <td>1</td>\n",
              "      <td>0</td>\n",
              "      <td>0</td>\n",
              "      <td>0</td>\n",
              "      <td>1</td>\n",
              "      <td>0</td>\n",
              "      <td>0</td>\n",
              "      <td>0</td>\n",
              "      <td>0</td>\n",
              "      <td>0</td>\n",
              "      <td>0</td>\n",
              "      <td>0</td>\n",
              "      <td>0</td>\n",
              "      <td>0</td>\n",
              "      <td>0</td>\n",
              "      <td>0</td>\n",
              "      <td>0</td>\n",
              "      <td>0</td>\n",
              "      <td>0</td>\n",
              "      <td>0</td>\n",
              "      <td>135.283454</td>\n",
              "      <td>-0.673408</td>\n",
              "      <td>5</td>\n",
              "      <td>3</td>\n",
              "      <td>0</td>\n",
              "      <td>1</td>\n",
              "      <td>0</td>\n",
              "      <td>0</td>\n",
              "      <td>0</td>\n",
              "      <td>0</td>\n",
              "    </tr>\n",
              "    <tr>\n",
              "      <th>1</th>\n",
              "      <td>900000702</td>\n",
              "      <td>2003</td>\n",
              "      <td>0</td>\n",
              "      <td>0</td>\n",
              "      <td>0</td>\n",
              "      <td>1</td>\n",
              "      <td>0</td>\n",
              "      <td>0</td>\n",
              "      <td>0</td>\n",
              "      <td>0</td>\n",
              "      <td>0</td>\n",
              "      <td>1</td>\n",
              "      <td>0</td>\n",
              "      <td>0</td>\n",
              "      <td>0</td>\n",
              "      <td>0</td>\n",
              "      <td>6</td>\n",
              "      <td>0</td>\n",
              "      <td>0</td>\n",
              "      <td>1</td>\n",
              "      <td>0</td>\n",
              "      <td>0</td>\n",
              "      <td>1</td>\n",
              "      <td>0</td>\n",
              "      <td>0</td>\n",
              "      <td>0</td>\n",
              "      <td>1</td>\n",
              "      <td>0</td>\n",
              "      <td>0</td>\n",
              "      <td>0</td>\n",
              "      <td>0</td>\n",
              "      <td>0</td>\n",
              "      <td>0</td>\n",
              "      <td>0</td>\n",
              "      <td>0</td>\n",
              "      <td>0</td>\n",
              "      <td>0</td>\n",
              "      <td>0</td>\n",
              "      <td>0</td>\n",
              "      <td>0</td>\n",
              "      <td>0</td>\n",
              "      <td>0</td>\n",
              "      <td>135.283454</td>\n",
              "      <td>-0.673408</td>\n",
              "      <td>5</td>\n",
              "      <td>3</td>\n",
              "      <td>0</td>\n",
              "      <td>1</td>\n",
              "      <td>0</td>\n",
              "      <td>0</td>\n",
              "      <td>0</td>\n",
              "      <td>0</td>\n",
              "    </tr>\n",
              "    <tr>\n",
              "      <th>2</th>\n",
              "      <td>900000702</td>\n",
              "      <td>2003</td>\n",
              "      <td>0</td>\n",
              "      <td>0</td>\n",
              "      <td>0</td>\n",
              "      <td>1</td>\n",
              "      <td>0</td>\n",
              "      <td>0</td>\n",
              "      <td>0</td>\n",
              "      <td>0</td>\n",
              "      <td>0</td>\n",
              "      <td>1</td>\n",
              "      <td>0</td>\n",
              "      <td>0</td>\n",
              "      <td>0</td>\n",
              "      <td>0</td>\n",
              "      <td>6</td>\n",
              "      <td>0</td>\n",
              "      <td>0</td>\n",
              "      <td>1</td>\n",
              "      <td>0</td>\n",
              "      <td>0</td>\n",
              "      <td>1</td>\n",
              "      <td>0</td>\n",
              "      <td>0</td>\n",
              "      <td>0</td>\n",
              "      <td>1</td>\n",
              "      <td>0</td>\n",
              "      <td>0</td>\n",
              "      <td>0</td>\n",
              "      <td>0</td>\n",
              "      <td>0</td>\n",
              "      <td>0</td>\n",
              "      <td>0</td>\n",
              "      <td>0</td>\n",
              "      <td>0</td>\n",
              "      <td>0</td>\n",
              "      <td>0</td>\n",
              "      <td>0</td>\n",
              "      <td>0</td>\n",
              "      <td>0</td>\n",
              "      <td>0</td>\n",
              "      <td>135.283454</td>\n",
              "      <td>-0.673408</td>\n",
              "      <td>5</td>\n",
              "      <td>3</td>\n",
              "      <td>0</td>\n",
              "      <td>1</td>\n",
              "      <td>0</td>\n",
              "      <td>0</td>\n",
              "      <td>0</td>\n",
              "      <td>0</td>\n",
              "    </tr>\n",
              "    <tr>\n",
              "      <th>3</th>\n",
              "      <td>900000702</td>\n",
              "      <td>2003</td>\n",
              "      <td>0</td>\n",
              "      <td>0</td>\n",
              "      <td>0</td>\n",
              "      <td>1</td>\n",
              "      <td>0</td>\n",
              "      <td>0</td>\n",
              "      <td>0</td>\n",
              "      <td>0</td>\n",
              "      <td>0</td>\n",
              "      <td>1</td>\n",
              "      <td>0</td>\n",
              "      <td>0</td>\n",
              "      <td>0</td>\n",
              "      <td>0</td>\n",
              "      <td>6</td>\n",
              "      <td>0</td>\n",
              "      <td>0</td>\n",
              "      <td>1</td>\n",
              "      <td>0</td>\n",
              "      <td>0</td>\n",
              "      <td>1</td>\n",
              "      <td>0</td>\n",
              "      <td>0</td>\n",
              "      <td>0</td>\n",
              "      <td>1</td>\n",
              "      <td>0</td>\n",
              "      <td>0</td>\n",
              "      <td>0</td>\n",
              "      <td>0</td>\n",
              "      <td>0</td>\n",
              "      <td>0</td>\n",
              "      <td>0</td>\n",
              "      <td>0</td>\n",
              "      <td>0</td>\n",
              "      <td>0</td>\n",
              "      <td>0</td>\n",
              "      <td>0</td>\n",
              "      <td>0</td>\n",
              "      <td>0</td>\n",
              "      <td>0</td>\n",
              "      <td>135.283454</td>\n",
              "      <td>-0.673408</td>\n",
              "      <td>5</td>\n",
              "      <td>3</td>\n",
              "      <td>0</td>\n",
              "      <td>1</td>\n",
              "      <td>0</td>\n",
              "      <td>0</td>\n",
              "      <td>0</td>\n",
              "      <td>0</td>\n",
              "    </tr>\n",
              "    <tr>\n",
              "      <th>4</th>\n",
              "      <td>900000702</td>\n",
              "      <td>2003</td>\n",
              "      <td>0</td>\n",
              "      <td>0</td>\n",
              "      <td>0</td>\n",
              "      <td>1</td>\n",
              "      <td>0</td>\n",
              "      <td>0</td>\n",
              "      <td>0</td>\n",
              "      <td>0</td>\n",
              "      <td>0</td>\n",
              "      <td>1</td>\n",
              "      <td>0</td>\n",
              "      <td>0</td>\n",
              "      <td>0</td>\n",
              "      <td>0</td>\n",
              "      <td>6</td>\n",
              "      <td>0</td>\n",
              "      <td>0</td>\n",
              "      <td>1</td>\n",
              "      <td>0</td>\n",
              "      <td>0</td>\n",
              "      <td>1</td>\n",
              "      <td>0</td>\n",
              "      <td>0</td>\n",
              "      <td>0</td>\n",
              "      <td>1</td>\n",
              "      <td>0</td>\n",
              "      <td>0</td>\n",
              "      <td>0</td>\n",
              "      <td>0</td>\n",
              "      <td>0</td>\n",
              "      <td>0</td>\n",
              "      <td>0</td>\n",
              "      <td>0</td>\n",
              "      <td>0</td>\n",
              "      <td>0</td>\n",
              "      <td>0</td>\n",
              "      <td>0</td>\n",
              "      <td>0</td>\n",
              "      <td>0</td>\n",
              "      <td>0</td>\n",
              "      <td>135.283454</td>\n",
              "      <td>-0.673408</td>\n",
              "      <td>5</td>\n",
              "      <td>3</td>\n",
              "      <td>0</td>\n",
              "      <td>1</td>\n",
              "      <td>0</td>\n",
              "      <td>0</td>\n",
              "      <td>0</td>\n",
              "      <td>0</td>\n",
              "    </tr>\n",
              "  </tbody>\n",
              "</table>\n",
              "</div>"
            ],
            "text/plain": [
              "       eDWID   YRM  mssa  mrsa  ...  trunc03_2  trunc03_3  trunc03_4  trunc03_5\n",
              "0  900000702  2003     0     0  ...          0          0          0          0\n",
              "1  900000702  2003     0     0  ...          0          0          0          0\n",
              "2  900000702  2003     0     0  ...          0          0          0          0\n",
              "3  900000702  2003     0     0  ...          0          0          0          0\n",
              "4  900000702  2003     0     0  ...          0          0          0          0\n",
              "\n",
              "[5 rows x 52 columns]"
            ]
          },
          "metadata": {
            "tags": []
          },
          "execution_count": 9
        }
      ]
    },
    {
      "cell_type": "code",
      "metadata": {
        "id": "PO-gf8tSk1Tc",
        "colab_type": "code",
        "outputId": "08320c5b-8e27-4270-cfb3-7835b82791fe",
        "colab": {
          "base_uri": "https://localhost:8080/",
          "height": 216
        }
      },
      "source": [
        "# Extract the patient labels\n",
        "labels = data_total[['eDWID', 'dflag']].drop_duplicates()\n",
        "print('Labels Shape: {}'.format(labels.shape))\n",
        "num_obs = labels.shape[0]\n",
        "labels.head()"
      ],
      "execution_count": 0,
      "outputs": [
        {
          "output_type": "stream",
          "text": [
            "Labels Shape: (38111, 2)\n"
          ],
          "name": "stdout"
        },
        {
          "output_type": "execute_result",
          "data": {
            "text/html": [
              "<div>\n",
              "<style scoped>\n",
              "    .dataframe tbody tr th:only-of-type {\n",
              "        vertical-align: middle;\n",
              "    }\n",
              "\n",
              "    .dataframe tbody tr th {\n",
              "        vertical-align: top;\n",
              "    }\n",
              "\n",
              "    .dataframe thead th {\n",
              "        text-align: right;\n",
              "    }\n",
              "</style>\n",
              "<table border=\"1\" class=\"dataframe\">\n",
              "  <thead>\n",
              "    <tr style=\"text-align: right;\">\n",
              "      <th></th>\n",
              "      <th>eDWID</th>\n",
              "      <th>dflag</th>\n",
              "    </tr>\n",
              "  </thead>\n",
              "  <tbody>\n",
              "    <tr>\n",
              "      <th>0</th>\n",
              "      <td>900000702</td>\n",
              "      <td>0</td>\n",
              "    </tr>\n",
              "    <tr>\n",
              "      <th>61</th>\n",
              "      <td>900000736</td>\n",
              "      <td>0</td>\n",
              "    </tr>\n",
              "    <tr>\n",
              "      <th>65</th>\n",
              "      <td>900000742</td>\n",
              "      <td>1</td>\n",
              "    </tr>\n",
              "    <tr>\n",
              "      <th>125</th>\n",
              "      <td>900000776</td>\n",
              "      <td>0</td>\n",
              "    </tr>\n",
              "    <tr>\n",
              "      <th>126</th>\n",
              "      <td>900010736</td>\n",
              "      <td>0</td>\n",
              "    </tr>\n",
              "  </tbody>\n",
              "</table>\n",
              "</div>"
            ],
            "text/plain": [
              "         eDWID  dflag\n",
              "0    900000702      0\n",
              "61   900000736      0\n",
              "65   900000742      1\n",
              "125  900000776      0\n",
              "126  900010736      0"
            ]
          },
          "metadata": {
            "tags": []
          },
          "execution_count": 10
        }
      ]
    },
    {
      "cell_type": "code",
      "metadata": {
        "id": "S9pxUfIbcPhk",
        "colab_type": "code",
        "outputId": "129f3ed6-233a-4706-e568-f70c3f9298c1",
        "colab": {
          "base_uri": "https://localhost:8080/",
          "height": 146
        }
      },
      "source": [
        "# Split the data into training and testing sets and create Dataset objects \n",
        "# and oversample training data for class balance\n",
        "labels = labels.sample(frac=1)\n",
        "labels_train, labels_test = train_test_split(labels, test_size=0.2, shuffle=False)\n",
        "\n",
        "ros = RandomOverSampler()\n",
        "X, y = ros.fit_resample(labels_train['eDWID'].as_matrix().reshape((-1, 1)), \n",
        "                        labels_train['dflag'])\n",
        "labels_train = pd.DataFrame({'eDWID': X.reshape((-1,)), 'dflag': y})\n",
        "\n",
        "patient_batches_train = Dataset(labels_train, batch_size, shuffle=True)\n",
        "patient_batches_test = Dataset(labels_test, batch_size, shuffle=True)"
      ],
      "execution_count": 0,
      "outputs": [
        {
          "output_type": "stream",
          "text": [
            "/usr/local/lib/python3.6/dist-packages/ipykernel_launcher.py:5: FutureWarning: Method .as_matrix will be removed in a future version. Use .values instead.\n",
            "  \"\"\"\n",
            "/content/gdrive/My Drive/Colab Notebooks/full-data-rnn/utils.py:12: FutureWarning: Method .as_matrix will be removed in a future version. Use .values instead.\n",
            "  self.X = labels['eDWID'].as_matrix()\n",
            "/content/gdrive/My Drive/Colab Notebooks/full-data-rnn/utils.py:13: FutureWarning: Method .as_matrix will be removed in a future version. Use .values instead.\n",
            "  self.y = labels['dflag'].as_matrix()\n"
          ],
          "name": "stderr"
        }
      ]
    },
    {
      "cell_type": "code",
      "metadata": {
        "id": "FQX4g_v6afU2",
        "colab_type": "code",
        "outputId": "44284b10-37c0-45bb-a527-6fd89b28121a",
        "colab": {
          "base_uri": "https://localhost:8080/",
          "height": 331
        }
      },
      "source": [
        "deaths_per_batch = []\n",
        "batch_num = []\n",
        "for i, (patients, patient_labels) in enumerate(patient_batches_train):\n",
        "  deaths_per_batch.append(patient_labels.sum() / patient_labels.shape[0])\n",
        "  batch_num.append(i)\n",
        "\n",
        "plt.plot(batch_num, deaths_per_batch);\n",
        "mean_deaths_per_batch = np.array(deaths_per_batch).mean()\n",
        "print('Means Deaths per Batch {}\\n'.format(mean_deaths_per_batch))\n",
        "plt.title('Number of Class 1 Obsrvations in Each Training Batch');\n",
        "plt.xlabel('Batch Number');\n",
        "plt.ylabel('Portion of Samples that are Class 1');"
      ],
      "execution_count": 0,
      "outputs": [
        {
          "output_type": "stream",
          "text": [
            "Means Deaths per Batch 0.5001163542340012\n",
            "\n"
          ],
          "name": "stdout"
        },
        {
          "output_type": "display_data",
          "data": {
            "image/png": "[encoded data removed]",
            "text/plain": [
              "<Figure size 432x288 with 1 Axes>"
            ]
          },
          "metadata": {
            "tags": []
          }
        }
      ]
    },
    {
      "cell_type": "code",
      "metadata": {
        "id": "hFEaVOtbxrdM",
        "colab_type": "code",
        "outputId": "8d61e6c7-a44d-4ed7-d874-bb7b85034ca0",
        "colab": {
          "base_uri": "https://localhost:8080/",
          "height": 54
        }
      },
      "source": [
        "one_class_freq_train = labels_train['dflag'].mean()\n",
        "one_class_freq_test = labels_test['dflag'].mean()\n",
        "print('1 Class Frequency for Training: {}'.format(one_class_freq_train))\n",
        "print('1 Class Frequency for Test: {}'.format(one_class_freq_test))"
      ],
      "execution_count": 0,
      "outputs": [
        {
          "output_type": "stream",
          "text": [
            "1 Class Frequency for Training: 0.5\n",
            "1 Class Frequency for Test: 0.2784992784992785\n"
          ],
          "name": "stdout"
        }
      ]
    },
    {
      "cell_type": "markdown",
      "metadata": {
        "id": "TUAIwF8VxpKp",
        "colab_type": "text"
      },
      "source": [
        "## Multi-Layer LSTM RNN plus a Fully Connected Network\n",
        "This architecture consists of two RNN layers with LSTM cells.  The first layer outputs a sequence of vectors of size 500.  The second layer processes the vector sequence and outputs a single vector also of size 500.  This vector is then passed to a fully-connected network with one hidden layer of size 500 with ReLU activations.  The output space of the fully-connected network has a size of 2 corresponding to the class scores. "
      ]
    },
    {
      "cell_type": "code",
      "metadata": {
        "id": "2UDYPoMbaFYZ",
        "colab_type": "code",
        "outputId": "3e8445ca-e85e-4f38-e2c2-988dbe9775b2",
        "colab": {
          "base_uri": "https://localhost:8080/",
          "height": 946
        }
      },
      "source": [
        "# Define the model and optimize and train the model\n",
        "def model_init_fn(inputs, is_training, seq_filter):\n",
        "    layers = [tf.keras.layers.LSTM(500,\n",
        "                                   batch_input_shape=(None, max_seq_length, num_feats),\n",
        "                                   return_sequences=True), \n",
        "              tf.keras.layers.LSTM(500, return_sequences=False),\n",
        "              tf.keras.layers.Dense(500, activation='relu'),\n",
        "              tf.keras.layers.Dense(2)]\n",
        "    model = tf.keras.Sequential(layers)\n",
        "\n",
        "    return model(inputs, mask=seq_filter, training=is_training) \n",
        "\n",
        "learning_rate = 1e-3\n",
        "def optimizer_init_fn():\n",
        "    optimizer = tf.train.AdamOptimizer(learning_rate=learning_rate)\n",
        "    return optimizer\n",
        "\n",
        "loss_history, perf_history = train(model_init_fn, optimizer_init_fn, \n",
        "                                   max_seq_length, num_feats, patient_batches_train, \n",
        "                                   patient_batches_test, batch_size, \n",
        "                                   feats, drop_cols, labels, print_every, num_epochs=1)"
      ],
      "execution_count": 0,
      "outputs": [
        {
          "output_type": "stream",
          "text": [
            "WARNING:tensorflow:From /content/gdrive/My Drive/Colab Notebooks/full-data-rnn/utils.py:94: The name tf.reset_default_graph is deprecated. Please use tf.compat.v1.reset_default_graph instead.\n",
            "\n",
            "WARNING:tensorflow:From /content/gdrive/My Drive/Colab Notebooks/full-data-rnn/utils.py:96: The name tf.placeholder is deprecated. Please use tf.compat.v1.placeholder instead.\n",
            "\n",
            "WARNING:tensorflow:From /usr/local/lib/python3.6/dist-packages/tensorflow_core/python/ops/resource_variable_ops.py:1630: calling BaseResourceVariable.__init__ (from tensorflow.python.ops.resource_variable_ops) with constraint is deprecated and will be removed in a future version.\n",
            "Instructions for updating:\n",
            "If using Keras pass *_constraint arguments to layers.\n",
            "WARNING:tensorflow:From /usr/local/lib/python3.6/dist-packages/tensorflow_core/python/keras/backend.py:3994: where (from tensorflow.python.ops.array_ops) is deprecated and will be removed in a future version.\n",
            "Instructions for updating:\n",
            "Use tf.where in 2.0, which has the same broadcast rule as np.where\n",
            "WARNING:tensorflow:From /content/gdrive/My Drive/Colab Notebooks/full-data-rnn/utils.py:107: The name tf.get_collection is deprecated. Please use tf.compat.v1.get_collection instead.\n",
            "\n",
            "WARNING:tensorflow:From /content/gdrive/My Drive/Colab Notebooks/full-data-rnn/utils.py:107: The name tf.GraphKeys is deprecated. Please use tf.compat.v1.GraphKeys instead.\n",
            "\n",
            "WARNING:tensorflow:From /content/gdrive/My Drive/Colab Notebooks/full-data-rnn/utils.py:111: The name tf.Session is deprecated. Please use tf.compat.v1.Session instead.\n",
            "\n",
            "WARNING:tensorflow:From /content/gdrive/My Drive/Colab Notebooks/full-data-rnn/utils.py:111: The name tf.ConfigProto is deprecated. Please use tf.compat.v1.ConfigProto instead.\n",
            "\n",
            "WARNING:tensorflow:From /content/gdrive/My Drive/Colab Notebooks/full-data-rnn/utils.py:114: The name tf.global_variables_initializer is deprecated. Please use tf.compat.v1.global_variables_initializer instead.\n",
            "\n",
            "Starting epoch 0\n"
          ],
          "name": "stdout"
        },
        {
          "output_type": "stream",
          "text": [
            "/content/gdrive/My Drive/Colab Notebooks/full-data-rnn/utils.py:36: FutureWarning: Method .as_matrix will be removed in a future version. Use .values instead.\n",
            "  patient_feats = patient_feats.as_matrix()\n",
            "/content/gdrive/My Drive/Colab Notebooks/full-data-rnn/utils.py:41: FutureWarning: Method .as_matrix will be removed in a future version. Use .values instead.\n",
            "  Y[i] = labels[labels.eDWID == patient]['dflag'].as_matrix()[0]\n"
          ],
          "name": "stderr"
        },
        {
          "output_type": "stream",
          "text": [
            "Iteration 0, loss = 0.6677\n",
            "Accuracy: Got 5273 / 7700 correct (68.48%)\n",
            "Precision: Got 1869 / 2123.0 correct (88.0357983984927%)\n",
            "True Negative Rate: Got 3404 / 5577.0 correct (61.03639949793796%)\n",
            "\n",
            "Iteration 100, loss = 0.3054\n",
            "Accuracy: Got 6317 / 7700 correct (82.04%)\n",
            "Precision: Got 1700 / 2123.0 correct (80.07536504945831%)\n",
            "True Negative Rate: Got 4617 / 5577.0 correct (82.78644432490586%)\n",
            "\n",
            "Iteration 200, loss = 0.4491\n",
            "Accuracy: Got 6329 / 7700 correct (82.19%)\n",
            "Precision: Got 1912 / 2123.0 correct (90.06123410268488%)\n",
            "True Negative Rate: Got 4417 / 5577.0 correct (79.20028689259459%)\n",
            "\n",
            "Iteration 300, loss = 0.3689\n",
            "Accuracy: Got 6491 / 7700 correct (84.30%)\n",
            "Precision: Got 1860 / 2123.0 correct (87.61186999528968%)\n",
            "True Negative Rate: Got 4631 / 5577.0 correct (83.03747534516765%)\n",
            "\n",
            "Iteration 400, loss = 0.2995\n",
            "Accuracy: Got 6492 / 7700 correct (84.31%)\n",
            "Precision: Got 1817 / 2123.0 correct (85.5864342910975%)\n",
            "True Negative Rate: Got 4675 / 5577.0 correct (83.82642998027613%)\n",
            "\n"
          ],
          "name": "stdout"
        }
      ]
    },
    {
      "cell_type": "markdown",
      "metadata": {
        "id": "9H3qetyWzgBd",
        "colab_type": "text"
      },
      "source": [
        "## Performance Evaluation  \n",
        "Like the multi-layer LSTM in notebook 1, the model converged rapidly.  The added features from the data did not appear to improve performance nor did the addition of the fully-connected layers."
      ]
    },
    {
      "cell_type": "code",
      "metadata": {
        "id": "0iZPte6CMiA7",
        "colab_type": "code",
        "outputId": "09e5d574-897d-43b5-c542-f85468e824ef",
        "colab": {
          "base_uri": "https://localhost:8080/",
          "height": 573
        }
      },
      "source": [
        "plt.figure()\n",
        "plt.plot(range(len(loss_history)), loss_history);\n",
        "plt.xlabel('Iteration Number');\n",
        "plt.ylabel('Loss')\n",
        "plt.title('Loss History');\n",
        "\n",
        "plt.figure();\n",
        "iterations = 100*np.array(range(len(perf_history)))\n",
        "plt.plot(iterations, perf_history);\n",
        "plt.title('Validation Performance History');\n",
        "plt.xlabel('Iteration Number');\n",
        "plt.ylabel('Performance');"
      ],
      "execution_count": 0,
      "outputs": [
        {
          "output_type": "display_data",
          "data": {
            "image/png": "[encoded data removed]",
            "text/plain": [
              "<Figure size 432x288 with 1 Axes>"
            ]
          },
          "metadata": {
            "tags": []
          }
        },
        {
          "output_type": "display_data",
          "data": {
            "image/png": "[encoded data removed]",
            "text/plain": [
              "<Figure size 432x288 with 1 Axes>"
            ]
          },
          "metadata": {
            "tags": []
          }
        }
      ]
    }
  ]
}
{
  "nbformat": 4,
  "nbformat_minor": 0,
  "metadata": {
    "colab": {
      "name": "cf_rnn.ipynb",
      "provenance": [],
      "collapsed_sections": [],
      "include_colab_link": true
    },
    "kernelspec": {
      "name": "python3",
      "display_name": "Python 3"
    },
    "accelerator": "GPU"
  },
  "cells": [
    {
      "cell_type": "markdown",
      "metadata": {
        "id": "view-in-github",
        "colab_type": "text"
      },
      "source": [
        "<a href=\"https://colab.research.google.com/github/2667schummr/recurrent-nn-cystic-fibrosis/blob/master/cf_rnn.ipynb\" target=\"_parent\"><img src=\"https://colab.research.google.com/assets/colab-badge.svg\" alt=\"Open In Colab\"/></a>"
      ]
    },
    {
      "cell_type": "code",
      "metadata": {
        "id": "I7QfOEzJbeM9",
        "colab_type": "code",
        "outputId": "4c4ac7ac-5092-4fa6-e28a-92cb1b609bac",
        "colab": {
          "base_uri": "https://localhost:8080/",
          "height": 121
        }
      },
      "source": [
        "import numpy as np\n",
        "import pandas as pd\n",
        "import os\n",
        "import tensorflow as tf\n",
        "from sklearn.model_selection import train_test_split\n",
        "from sklearn.metrics import precision_score\n",
        "from google.colab import drive, files\n",
        "from imblearn.over_sampling import RandomOverSampler\n",
        "import matplotlib.pyplot as plt"
      ],
      "execution_count": 0,
      "outputs": [
        {
          "output_type": "display_data",
          "data": {
            "text/html": [
              "<p style=\"color: red;\">\n",
              "The default version of TensorFlow in Colab will soon switch to TensorFlow 2.x.<br>\n",
              "We recommend you <a href=\"https://www.tensorflow.org/guide/migrate\" target=\"_blank\">upgrade</a> now \n",
              "or ensure your notebook will continue to use TensorFlow 1.x via the <code>%tensorflow_version 1.x</code> magic:\n",
              "<a href=\"https://colab.research.google.com/notebooks/tensorflow_version.ipynb\" target=\"_blank\">more info</a>.</p>\n"
            ],
            "text/plain": [
              "<IPython.core.display.HTML object>"
            ]
          },
          "metadata": {
            "tags": []
          }
        },
        {
          "output_type": "stream",
          "text": [
            "/usr/local/lib/python3.6/dist-packages/sklearn/externals/six.py:31: DeprecationWarning: The module is deprecated in version 0.21 and will be removed in version 0.23 since we've dropped support for Python 2.7. Please rely on the official version of six (https://pypi.org/project/six/).\n",
            "  \"(https://pypi.org/project/six/).\", DeprecationWarning)\n"
          ],
          "name": "stderr"
        }
      ]
    },
    {
      "cell_type": "code",
      "metadata": {
        "id": "GeZsGz_s9vvG",
        "colab_type": "code",
        "colab": {}
      },
      "source": [
        "# Specify training parameters\n",
        "device = '/device:GPU:0'\n",
        "print_every = 100\n",
        "batch_size = 100"
      ],
      "execution_count": 0,
      "outputs": []
    },
    {
      "cell_type": "code",
      "metadata": {
        "id": "7swofaj1bwWw",
        "colab_type": "code",
        "outputId": "4822fcc3-1bcf-4b40-cd59-4cfade703a71",
        "colab": {
          "base_uri": "https://localhost:8080/",
          "height": 146
        }
      },
      "source": [
        "# Make google drive files accessible and import utils module\n",
        "drive.mount('/content/gdrive')\n",
        "path = '/content/gdrive/My Drive/Colab Notebooks/notebook1-reduced-data'\n",
        "os.chdir(path)\n",
        "print('Current Working Directory: {}'.format(os.getcwd()))\n",
        "from utils import *"
      ],
      "execution_count": 0,
      "outputs": [
        {
          "output_type": "stream",
          "text": [
            "Go to this URL in a browser: https://accounts.google.com/o/oauth2/auth?client_id=947318989803-6bn6qk8qdgf4n4g3pfee6491hc0brc4i.apps.googleusercontent.com&redirect_uri=urn%3aietf%3awg%3aoauth%3a2.0%3aoob&response_type=code&scope=email%20https%3a%2f%2fwww.googleapis.com%2fauth%2fdocs.test%20https%3a%2f%2fwww.googleapis.com%2fauth%2fdrive%20https%3a%2f%2fwww.googleapis.com%2fauth%2fdrive.photos.readonly%20https%3a%2f%2fwww.googleapis.com%2fauth%2fpeopleapi.readonly\n",
            "\n",
            "Enter your authorization code:\n",
            "··········\n",
            "Mounted at /content/gdrive\n",
            "Current Working Directory: /content/gdrive/My Drive/Colab Notebooks/notebook1-reduced-data\n"
          ],
          "name": "stdout"
        }
      ]
    },
    {
      "cell_type": "markdown",
      "metadata": {
        "id": "aEVfgbOd0KiQ",
        "colab_type": "text"
      },
      "source": [
        "## Data Description  \n",
        "The dataset used to train this network utilizes observations from the entire time period over which patients were tracked but only those features which have no missing values were included.\n",
        "\n"
      ]
    },
    {
      "cell_type": "code",
      "metadata": {
        "id": "ixUv7UjteJ7w",
        "colab_type": "code",
        "outputId": "e3cc416b-25d2-4fd2-f953-9e1ee5cb7c41",
        "colab": {
          "base_uri": "https://localhost:8080/",
          "height": 236
        }
      },
      "source": [
        "# Load the panda dataframe containing the features\n",
        "feats = pd.read_pickle('../cf-data/processed_data_complete_feats.pkl')\n",
        "print('Feature Shape: {}'.format(feats.shape))\n",
        "\n",
        "num_feats = feats.shape[1] - 2\n",
        "max_seq_length = feats.groupby('eDWID').count()['YRM'].max()\n",
        "\n",
        "drop_cols = ['eDWID', 'YRM'] # These are identification columns\n",
        "feats.head()"
      ],
      "execution_count": 0,
      "outputs": [
        {
          "output_type": "stream",
          "text": [
            "Feature Shape: (513452, 34)\n"
          ],
          "name": "stdout"
        },
        {
          "output_type": "execute_result",
          "data": {
            "text/html": [
              "<div>\n",
              "<style scoped>\n",
              "    .dataframe tbody tr th:only-of-type {\n",
              "        vertical-align: middle;\n",
              "    }\n",
              "\n",
              "    .dataframe tbody tr th {\n",
              "        vertical-align: top;\n",
              "    }\n",
              "\n",
              "    .dataframe thead th {\n",
              "        text-align: right;\n",
              "    }\n",
              "</style>\n",
              "<table border=\"1\" class=\"dataframe\">\n",
              "  <thead>\n",
              "    <tr style=\"text-align: right;\">\n",
              "      <th></th>\n",
              "      <th>eDWID</th>\n",
              "      <th>YRM</th>\n",
              "      <th>mssa</th>\n",
              "      <th>mrsa</th>\n",
              "      <th>h_flu</th>\n",
              "      <th>pseudo</th>\n",
              "      <th>burkho_complex</th>\n",
              "      <th>alcalig</th>\n",
              "      <th>steno</th>\n",
              "      <th>enterobacter</th>\n",
              "      <th>serratia_marcescens</th>\n",
              "      <th>aspergillus</th>\n",
              "      <th>candida</th>\n",
              "      <th>scedosporium</th>\n",
              "      <th>mabscessus</th>\n",
              "      <th>mai</th>\n",
              "      <th>bd_age</th>\n",
              "      <th>sex</th>\n",
              "      <th>suff</th>\n",
              "      <th>trunc03</th>\n",
              "      <th>all_tob</th>\n",
              "      <th>all_mod</th>\n",
              "      <th>all_bd</th>\n",
              "      <th>dnase</th>\n",
              "      <th>inhcolistin</th>\n",
              "      <th>inhaztreonam</th>\n",
              "      <th>hypersaline</th>\n",
              "      <th>chronic_macrolide</th>\n",
              "      <th>oral_steroids</th>\n",
              "      <th>inh_steroids</th>\n",
              "      <th>inhsteroids_bronchodil</th>\n",
              "      <th>oral_other_abx</th>\n",
              "      <th>txflag</th>\n",
              "      <th>othertx</th>\n",
              "    </tr>\n",
              "  </thead>\n",
              "  <tbody>\n",
              "    <tr>\n",
              "      <th>0</th>\n",
              "      <td>900000702</td>\n",
              "      <td>2003</td>\n",
              "      <td>0</td>\n",
              "      <td>0</td>\n",
              "      <td>0</td>\n",
              "      <td>1</td>\n",
              "      <td>0</td>\n",
              "      <td>0</td>\n",
              "      <td>0</td>\n",
              "      <td>0</td>\n",
              "      <td>0</td>\n",
              "      <td>1</td>\n",
              "      <td>0</td>\n",
              "      <td>0</td>\n",
              "      <td>0</td>\n",
              "      <td>0</td>\n",
              "      <td>6</td>\n",
              "      <td>0</td>\n",
              "      <td>0</td>\n",
              "      <td>1</td>\n",
              "      <td>1</td>\n",
              "      <td>0</td>\n",
              "      <td>0</td>\n",
              "      <td>1</td>\n",
              "      <td>0</td>\n",
              "      <td>0</td>\n",
              "      <td>0</td>\n",
              "      <td>1</td>\n",
              "      <td>0</td>\n",
              "      <td>0</td>\n",
              "      <td>0</td>\n",
              "      <td>0</td>\n",
              "      <td>0</td>\n",
              "      <td>0</td>\n",
              "    </tr>\n",
              "    <tr>\n",
              "      <th>1</th>\n",
              "      <td>900000702</td>\n",
              "      <td>2004</td>\n",
              "      <td>0</td>\n",
              "      <td>0</td>\n",
              "      <td>0</td>\n",
              "      <td>1</td>\n",
              "      <td>0</td>\n",
              "      <td>0</td>\n",
              "      <td>0</td>\n",
              "      <td>0</td>\n",
              "      <td>0</td>\n",
              "      <td>0</td>\n",
              "      <td>0</td>\n",
              "      <td>0</td>\n",
              "      <td>0</td>\n",
              "      <td>0</td>\n",
              "      <td>7</td>\n",
              "      <td>0</td>\n",
              "      <td>0</td>\n",
              "      <td>0</td>\n",
              "      <td>1</td>\n",
              "      <td>0</td>\n",
              "      <td>0</td>\n",
              "      <td>1</td>\n",
              "      <td>0</td>\n",
              "      <td>0</td>\n",
              "      <td>0</td>\n",
              "      <td>1</td>\n",
              "      <td>0</td>\n",
              "      <td>0</td>\n",
              "      <td>0</td>\n",
              "      <td>0</td>\n",
              "      <td>0</td>\n",
              "      <td>0</td>\n",
              "    </tr>\n",
              "    <tr>\n",
              "      <th>2</th>\n",
              "      <td>900000702</td>\n",
              "      <td>2005</td>\n",
              "      <td>0</td>\n",
              "      <td>0</td>\n",
              "      <td>0</td>\n",
              "      <td>1</td>\n",
              "      <td>0</td>\n",
              "      <td>0</td>\n",
              "      <td>0</td>\n",
              "      <td>0</td>\n",
              "      <td>0</td>\n",
              "      <td>1</td>\n",
              "      <td>0</td>\n",
              "      <td>0</td>\n",
              "      <td>0</td>\n",
              "      <td>0</td>\n",
              "      <td>8</td>\n",
              "      <td>0</td>\n",
              "      <td>0</td>\n",
              "      <td>0</td>\n",
              "      <td>1</td>\n",
              "      <td>0</td>\n",
              "      <td>0</td>\n",
              "      <td>1</td>\n",
              "      <td>0</td>\n",
              "      <td>0</td>\n",
              "      <td>0</td>\n",
              "      <td>1</td>\n",
              "      <td>0</td>\n",
              "      <td>0</td>\n",
              "      <td>0</td>\n",
              "      <td>0</td>\n",
              "      <td>0</td>\n",
              "      <td>0</td>\n",
              "    </tr>\n",
              "    <tr>\n",
              "      <th>3</th>\n",
              "      <td>900000702</td>\n",
              "      <td>2006</td>\n",
              "      <td>0</td>\n",
              "      <td>0</td>\n",
              "      <td>0</td>\n",
              "      <td>1</td>\n",
              "      <td>0</td>\n",
              "      <td>0</td>\n",
              "      <td>0</td>\n",
              "      <td>0</td>\n",
              "      <td>0</td>\n",
              "      <td>1</td>\n",
              "      <td>0</td>\n",
              "      <td>0</td>\n",
              "      <td>0</td>\n",
              "      <td>0</td>\n",
              "      <td>9</td>\n",
              "      <td>0</td>\n",
              "      <td>0</td>\n",
              "      <td>0</td>\n",
              "      <td>1</td>\n",
              "      <td>0</td>\n",
              "      <td>1</td>\n",
              "      <td>1</td>\n",
              "      <td>0</td>\n",
              "      <td>0</td>\n",
              "      <td>0</td>\n",
              "      <td>1</td>\n",
              "      <td>0</td>\n",
              "      <td>1</td>\n",
              "      <td>0</td>\n",
              "      <td>0</td>\n",
              "      <td>0</td>\n",
              "      <td>0</td>\n",
              "    </tr>\n",
              "    <tr>\n",
              "      <th>4</th>\n",
              "      <td>900000702</td>\n",
              "      <td>2007</td>\n",
              "      <td>0</td>\n",
              "      <td>0</td>\n",
              "      <td>0</td>\n",
              "      <td>1</td>\n",
              "      <td>0</td>\n",
              "      <td>0</td>\n",
              "      <td>0</td>\n",
              "      <td>0</td>\n",
              "      <td>0</td>\n",
              "      <td>1</td>\n",
              "      <td>0</td>\n",
              "      <td>0</td>\n",
              "      <td>0</td>\n",
              "      <td>0</td>\n",
              "      <td>10</td>\n",
              "      <td>0</td>\n",
              "      <td>0</td>\n",
              "      <td>0</td>\n",
              "      <td>1</td>\n",
              "      <td>0</td>\n",
              "      <td>1</td>\n",
              "      <td>1</td>\n",
              "      <td>0</td>\n",
              "      <td>0</td>\n",
              "      <td>0</td>\n",
              "      <td>1</td>\n",
              "      <td>0</td>\n",
              "      <td>1</td>\n",
              "      <td>0</td>\n",
              "      <td>0</td>\n",
              "      <td>0</td>\n",
              "      <td>0</td>\n",
              "    </tr>\n",
              "  </tbody>\n",
              "</table>\n",
              "</div>"
            ],
            "text/plain": [
              "       eDWID   YRM  mssa  ...  oral_other_abx  txflag  othertx\n",
              "0  900000702  2003     0  ...               0       0        0\n",
              "1  900000702  2004     0  ...               0       0        0\n",
              "2  900000702  2005     0  ...               0       0        0\n",
              "3  900000702  2006     0  ...               0       0        0\n",
              "4  900000702  2007     0  ...               0       0        0\n",
              "\n",
              "[5 rows x 34 columns]"
            ]
          },
          "metadata": {
            "tags": []
          },
          "execution_count": 4
        }
      ]
    },
    {
      "cell_type": "code",
      "metadata": {
        "id": "d9h5v-_fZ90a",
        "colab_type": "code",
        "outputId": "01c8cc2e-f492-41b7-b644-a4b91e41eb43",
        "colab": {
          "base_uri": "https://localhost:8080/",
          "height": 216
        }
      },
      "source": [
        "# Load the pandas dataframe containing the labels\n",
        "labels = pd.read_pickle('../cf-data/dflags.pkl')\n",
        "print('Labels Shape: {}'.format(labels.shape))\n",
        "num_obs = labels.shape[0]\n",
        "labels.head()"
      ],
      "execution_count": 0,
      "outputs": [
        {
          "output_type": "stream",
          "text": [
            "Labels Shape: (43454, 2)\n"
          ],
          "name": "stdout"
        },
        {
          "output_type": "execute_result",
          "data": {
            "text/html": [
              "<div>\n",
              "<style scoped>\n",
              "    .dataframe tbody tr th:only-of-type {\n",
              "        vertical-align: middle;\n",
              "    }\n",
              "\n",
              "    .dataframe tbody tr th {\n",
              "        vertical-align: top;\n",
              "    }\n",
              "\n",
              "    .dataframe thead th {\n",
              "        text-align: right;\n",
              "    }\n",
              "</style>\n",
              "<table border=\"1\" class=\"dataframe\">\n",
              "  <thead>\n",
              "    <tr style=\"text-align: right;\">\n",
              "      <th></th>\n",
              "      <th>eDWID</th>\n",
              "      <th>dflag</th>\n",
              "    </tr>\n",
              "  </thead>\n",
              "  <tbody>\n",
              "    <tr>\n",
              "      <th>0</th>\n",
              "      <td>900000702</td>\n",
              "      <td>0</td>\n",
              "    </tr>\n",
              "    <tr>\n",
              "      <th>99</th>\n",
              "      <td>900000736</td>\n",
              "      <td>0</td>\n",
              "    </tr>\n",
              "    <tr>\n",
              "      <th>106</th>\n",
              "      <td>900000742</td>\n",
              "      <td>1</td>\n",
              "    </tr>\n",
              "    <tr>\n",
              "      <th>196</th>\n",
              "      <td>900000776</td>\n",
              "      <td>0</td>\n",
              "    </tr>\n",
              "    <tr>\n",
              "      <th>200</th>\n",
              "      <td>900010702</td>\n",
              "      <td>1</td>\n",
              "    </tr>\n",
              "  </tbody>\n",
              "</table>\n",
              "</div>"
            ],
            "text/plain": [
              "         eDWID  dflag\n",
              "0    900000702      0\n",
              "99   900000736      0\n",
              "106  900000742      1\n",
              "196  900000776      0\n",
              "200  900010702      1"
            ]
          },
          "metadata": {
            "tags": []
          },
          "execution_count": 5
        }
      ]
    },
    {
      "cell_type": "markdown",
      "metadata": {
        "id": "GD1aOcECX8YK",
        "colab_type": "text"
      },
      "source": [
        "## Oversampling  \n",
        "The original attempts to train the networks failed because the networks would learn to predict 0 for every observation.  About 73% of the data has a 0-label so the accuracy was high but the true positive rate was nearly 0.  To correct this problem, the observations in the training data with labels of 1 were selected at random more than once such that the resulting training data had 50% of its observations as class 1.  The data used to test the network was unaltered.  "
      ]
    },
    {
      "cell_type": "code",
      "metadata": {
        "id": "S9pxUfIbcPhk",
        "colab_type": "code",
        "outputId": "dee4ef91-1336-4264-89ac-1d79ee4c1624",
        "colab": {
          "base_uri": "https://localhost:8080/",
          "height": 146
        }
      },
      "source": [
        "# Split the data into training and testing sets and create Dataset objects \n",
        "# and oversample training data for class balance\n",
        "labels = labels.sample(frac=1)\n",
        "labels_train, labels_test = train_test_split(labels, test_size=0.2, shuffle=False)\n",
        "\n",
        "ros = RandomOverSampler()\n",
        "X, y = ros.fit_resample(labels_train['eDWID'].as_matrix().reshape((-1, 1)), \n",
        "                        labels_train['dflag'])\n",
        "labels_train = pd.DataFrame({'eDWID': X.reshape((-1,)), 'dflag': y})\n",
        "\n",
        "patient_batches_train = Dataset(labels_train, batch_size, shuffle=True)\n",
        "patient_batches_test = Dataset(labels_test, batch_size, shuffle=True)"
      ],
      "execution_count": 0,
      "outputs": [
        {
          "output_type": "stream",
          "text": [
            "/usr/local/lib/python3.6/dist-packages/ipykernel_launcher.py:5: FutureWarning: Method .as_matrix will be removed in a future version. Use .values instead.\n",
            "  \"\"\"\n",
            "/content/gdrive/My Drive/Colab Notebooks/notebook1-reduced-data/utils.py:12: FutureWarning: Method .as_matrix will be removed in a future version. Use .values instead.\n",
            "  self.X = labels['eDWID'].as_matrix()\n",
            "/content/gdrive/My Drive/Colab Notebooks/notebook1-reduced-data/utils.py:13: FutureWarning: Method .as_matrix will be removed in a future version. Use .values instead.\n",
            "  self.y = labels['dflag'].as_matrix()\n"
          ],
          "name": "stderr"
        }
      ]
    },
    {
      "cell_type": "code",
      "metadata": {
        "id": "FQX4g_v6afU2",
        "colab_type": "code",
        "outputId": "6087767f-97ad-4f11-a3f4-9f3d0fbc70c0",
        "colab": {
          "base_uri": "https://localhost:8080/",
          "height": 313
        }
      },
      "source": [
        "# Compute the 1-class frequency for the training data batches\n",
        "deaths_per_batch = []\n",
        "batch_num = []\n",
        "for i, (patients, patient_labels) in enumerate(patient_batches_train):\n",
        "  deaths_per_batch.append(patient_labels.sum() / patient_labels.shape[0])\n",
        "  batch_num.append(i)\n",
        "\n",
        "plt.figure()\n",
        "plt.plot(batch_num, deaths_per_batch);\n",
        "plt.title('Batch Class 1 Frequency')\n",
        "plt.xlabel('Batch Number')\n",
        "plt.ylabel('Class 1 Frequency')\n",
        "\n",
        "mean_deaths_per_batch = np.array(deaths_per_batch).mean()\n",
        "print('Means Deaths per Batch {}'.format(mean_deaths_per_batch))"
      ],
      "execution_count": 0,
      "outputs": [
        {
          "output_type": "stream",
          "text": [
            "Means Deaths per Batch 0.49964497041420125\n"
          ],
          "name": "stdout"
        },
        {
          "output_type": "display_data",
          "data": {
            "image/png": "[encoded data removed]",
            "text/plain": [
              "<Figure size 432x288 with 1 Axes>"
            ]
          },
          "metadata": {
            "tags": []
          }
        }
      ]
    },
    {
      "cell_type": "code",
      "metadata": {
        "id": "sP4m0_a_oPZD",
        "colab_type": "code",
        "outputId": "55a0ac90-c88d-44b1-8d2d-a1e2acced00e",
        "colab": {
          "base_uri": "https://localhost:8080/",
          "height": 54
        }
      },
      "source": [
        "one_class_freq_train = labels_train['dflag'].mean()\n",
        "one_class_freq_test = labels_test['dflag'].mean()\n",
        "print('1 Class Frequency for Training: {}'.format(one_class_freq_train))\n",
        "print('1 Class Frequency for Test: {}'.format(one_class_freq_test))"
      ],
      "execution_count": 0,
      "outputs": [
        {
          "output_type": "stream",
          "text": [
            "1 Class Frequency for Training: 0.5\n",
            "1 Class Frequency for Test: 0.27522724657691866\n"
          ],
          "name": "stdout"
        }
      ]
    },
    {
      "cell_type": "markdown",
      "metadata": {
        "id": "sXos49ta0_KH",
        "colab_type": "text"
      },
      "source": [
        "## Simple RNN Network Architecture  \n",
        "The purpose of this network is to see if a RNN can learn effectively on this dataset.  The network consists of a single vanilla RNN layer with two outputs corresponding to the class scores.  "
      ]
    },
    {
      "cell_type": "code",
      "metadata": {
        "id": "2UDYPoMbaFYZ",
        "colab_type": "code",
        "outputId": "9c46ca50-b43b-4e80-e45b-f62f9826d82c",
        "colab": {
          "base_uri": "https://localhost:8080/",
          "height": 674
        }
      },
      "source": [
        "def model_init_fn(inputs, is_training, seq_filter):\n",
        "    model = tf.keras.Sequential()\n",
        "    model.add(\n",
        "        tf.keras.layers.SimpleRNN(2, \n",
        "                                  batch_input_shape=(None, max_seq_length, num_feats),\n",
        "                                  return_sequences=False))\n",
        "    return model(inputs, mask=seq_filter, training=is_training) \n",
        "\n",
        "learning_rate = 1e-3\n",
        "def optimizer_init_fn():\n",
        "    optimizer = tf.train.AdamOptimizer(learning_rate=learning_rate)\n",
        "    return optimizer\n",
        "\n",
        "loss_history_rnn, perf_history_rnn = train(model_init_fn, optimizer_init_fn, \n",
        "                                          max_seq_length, num_feats, patient_batches_train, \n",
        "                                          patient_batches_test, batch_size, feats, \n",
        "                                          drop_cols, labels, print_every, num_epochs=1)"
      ],
      "execution_count": 0,
      "outputs": [
        {
          "output_type": "stream",
          "text": [
            "Starting epoch 0\n"
          ],
          "name": "stdout"
        },
        {
          "output_type": "stream",
          "text": [
            "/content/gdrive/My Drive/Colab Notebooks/notebook1-reduced-data/utils.py:36: FutureWarning: Method .as_matrix will be removed in a future version. Use .values instead.\n",
            "  patient_feats = patient_feats.as_matrix()\n",
            "/content/gdrive/My Drive/Colab Notebooks/notebook1-reduced-data/utils.py:41: FutureWarning: Method .as_matrix will be removed in a future version. Use .values instead.\n",
            "  Y[i] = labels[labels.eDWID == patient]['dflag'].as_matrix()[0]\n"
          ],
          "name": "stderr"
        },
        {
          "output_type": "stream",
          "text": [
            "Iteration 0, loss = 0.9719\n",
            "Accuracy: Got 6297 / 8700 correct (72.38%)\n",
            "Precision: Got 1 / 2392.0 correct (0.04180602006688963%)\n",
            "True Negative Rate: Got 6296 / 6308.0 correct (99.80976537729866%)\n",
            "\n",
            "Iteration 100, loss = 0.6909\n",
            "Accuracy: Got 6292 / 8700 correct (72.32%)\n",
            "Precision: Got 37 / 2392.0 correct (1.5468227424749164%)\n",
            "True Negative Rate: Got 6255 / 6308.0 correct (99.15979708306912%)\n",
            "\n",
            "Iteration 200, loss = 0.6124\n",
            "Accuracy: Got 6585 / 8700 correct (75.69%)\n",
            "Precision: Got 489 / 2392.0 correct (20.44314381270903%)\n",
            "True Negative Rate: Got 6096 / 6308.0 correct (96.63918833227648%)\n",
            "\n",
            "Iteration 300, loss = 0.4549\n",
            "Accuracy: Got 7131 / 8700 correct (81.97%)\n",
            "Precision: Got 1932 / 2392.0 correct (80.76923076923077%)\n",
            "True Negative Rate: Got 5199 / 6308.0 correct (82.41915028535193%)\n",
            "\n",
            "Iteration 400, loss = 0.3653\n",
            "Accuracy: Got 7168 / 8700 correct (82.39%)\n",
            "Precision: Got 2020 / 2392.0 correct (84.44816053511705%)\n",
            "True Negative Rate: Got 5148 / 6308.0 correct (81.61065313887127%)\n",
            "\n",
            "Iteration 500, loss = 0.4503\n",
            "Accuracy: Got 7172 / 8700 correct (82.44%)\n",
            "Precision: Got 2072 / 2392.0 correct (86.62207357859532%)\n",
            "True Negative Rate: Got 5100 / 6308.0 correct (80.84971464806596%)\n",
            "\n"
          ],
          "name": "stdout"
        }
      ]
    },
    {
      "cell_type": "markdown",
      "metadata": {
        "id": "3oC0IS6YWcvG",
        "colab_type": "text"
      },
      "source": [
        "## Multi-Layer LSTM Network Architecture  \n",
        "The next architecture trained consisted of three RNN layers with LSTM cells.  The outputs of the first two layers are sequences of vectors of size 100.  The final RNN layer outputs a single vector of size two corresponding to the class scores.  "
      ]
    },
    {
      "cell_type": "code",
      "metadata": {
        "id": "bkl2T6kWVuDw",
        "colab_type": "code",
        "outputId": "396c5912-e000-452f-b321-4e7749f5aa4c",
        "colab": {
          "base_uri": "https://localhost:8080/",
          "height": 674
        }
      },
      "source": [
        "def model_init_fn(inputs, is_training, seq_filter):\n",
        "    layers = [tf.keras.layers.LSTM(100,\n",
        "                                   batch_input_shape=(None, max_seq_length, num_feats),\n",
        "                                   return_sequences=True), \n",
        "              tf.keras.layers.LSTM(100, return_sequences=True),\n",
        "              tf.keras.layers.LSTM(2, return_sequences=False)]\n",
        "    model = tf.keras.Sequential(layers)\n",
        "\n",
        "    return model(inputs, mask=seq_filter, training=is_training) \n",
        "\n",
        "learning_rate = 1e-3\n",
        "def optimizer_init_fn():\n",
        "    optimizer = tf.train.AdamOptimizer(learning_rate=learning_rate)\n",
        "    return optimizer\n",
        "\n",
        "loss_history_lstm, perf_history_lstm = train(model_init_fn, optimizer_init_fn, \n",
        "                                             max_seq_length, num_feats, patient_batches_train, \n",
        "                                             patient_batches_test, batch_size, \n",
        "                                             feats, drop_cols, labels, print_every, \n",
        "                                             num_epochs=1)"
      ],
      "execution_count": 0,
      "outputs": [
        {
          "output_type": "stream",
          "text": [
            "Starting epoch 0\n"
          ],
          "name": "stdout"
        },
        {
          "output_type": "stream",
          "text": [
            "/content/gdrive/My Drive/Colab Notebooks/notebook1-reduced-data/utils.py:36: FutureWarning: Method .as_matrix will be removed in a future version. Use .values instead.\n",
            "  patient_feats = patient_feats.as_matrix()\n",
            "/content/gdrive/My Drive/Colab Notebooks/notebook1-reduced-data/utils.py:41: FutureWarning: Method .as_matrix will be removed in a future version. Use .values instead.\n",
            "  Y[i] = labels[labels.eDWID == patient]['dflag'].as_matrix()[0]\n"
          ],
          "name": "stderr"
        },
        {
          "output_type": "stream",
          "text": [
            "Iteration 0, loss = 0.6913\n",
            "Accuracy: Got 2401 / 8700 correct (27.60%)\n",
            "Precision: Got 2392 / 2392.0 correct (100.0%)\n",
            "True Negative Rate: Got 9 / 6308.0 correct (0.14267596702599875%)\n",
            "\n",
            "Iteration 100, loss = 0.4887\n",
            "Accuracy: Got 7440 / 8700 correct (85.52%)\n",
            "Precision: Got 1955 / 2392.0 correct (81.73076923076923%)\n",
            "True Negative Rate: Got 5485 / 6308.0 correct (86.95307545973367%)\n",
            "\n",
            "Iteration 200, loss = 0.3368\n",
            "Accuracy: Got 7432 / 8700 correct (85.43%)\n",
            "Precision: Got 2076 / 2392.0 correct (86.78929765886288%)\n",
            "True Negative Rate: Got 5356 / 6308.0 correct (84.90805326569436%)\n",
            "\n",
            "Iteration 300, loss = 0.4767\n",
            "Accuracy: Got 7209 / 8700 correct (82.86%)\n",
            "Precision: Got 2194 / 2392.0 correct (91.72240802675586%)\n",
            "True Negative Rate: Got 5015 / 6308.0 correct (79.50221940393152%)\n",
            "\n",
            "Iteration 400, loss = 0.3520\n",
            "Accuracy: Got 7485 / 8700 correct (86.03%)\n",
            "Precision: Got 2104 / 2392.0 correct (87.95986622073578%)\n",
            "True Negative Rate: Got 5381 / 6308.0 correct (85.30437539632213%)\n",
            "\n",
            "Iteration 500, loss = 0.4213\n",
            "Accuracy: Got 7408 / 8700 correct (85.15%)\n",
            "Precision: Got 2164 / 2392.0 correct (90.46822742474916%)\n",
            "True Negative Rate: Got 5244 / 6308.0 correct (83.13253012048193%)\n",
            "\n"
          ],
          "name": "stdout"
        }
      ]
    },
    {
      "cell_type": "markdown",
      "metadata": {
        "id": "qCryZPZ7sWtj",
        "colab_type": "text"
      },
      "source": [
        "## Multi-Layer LSTM RNN plus a Fully Connected Network\n",
        "This architecture consists of two RNN layers with LSTM cells.  The first layer outputs a sequence of vectors of size 500.  The second layer processes the vector sequence and outputs a single vector also of size 500.  This vector is then passed to a fully-connected network with one hidden layer of size 500 with ReLU activations.  The output space of the fully-connected network has a size of 2 corresponding to the class scores. "
      ]
    },
    {
      "cell_type": "code",
      "metadata": {
        "id": "BxXVi0qrsYzu",
        "colab_type": "code",
        "outputId": "63e7fa53-9b5d-49bf-b3a8-1f9c4a8d8abc",
        "colab": {
          "base_uri": "https://localhost:8080/",
          "height": 1000
        }
      },
      "source": [
        "def model_init_fn(inputs, is_training, seq_filter):\n",
        "    layers = [tf.keras.layers.LSTM(500,\n",
        "                                   batch_input_shape=(None, max_seq_length, num_feats),\n",
        "                                   return_sequences=True), \n",
        "              tf.keras.layers.LSTM(500, return_sequences=False),\n",
        "              tf.keras.layers.Dense(500, activation='relu'),\n",
        "              tf.keras.layers.Dense(2)]\n",
        "    model = tf.keras.Sequential(layers)\n",
        "\n",
        "    return model(inputs, mask=seq_filter, training=is_training) \n",
        "\n",
        "learning_rate = 1e-3\n",
        "def optimizer_init_fn():\n",
        "    optimizer = tf.train.AdamOptimizer(learning_rate=learning_rate)\n",
        "    return optimizer\n",
        "\n",
        "loss_history_lstm_dense, perf_history_lstm_dense = train(model_init_fn, optimizer_init_fn, \n",
        "                                                         max_seq_length, num_feats, patient_batches_train, \n",
        "                                                         patient_batches_test, batch_size, \n",
        "                                                         feats, drop_cols, labels, print_every, num_epochs=1)"
      ],
      "execution_count": 0,
      "outputs": [
        {
          "output_type": "stream",
          "text": [
            "WARNING:tensorflow:From /content/gdrive/My Drive/Colab Notebooks/notebook1-reduced-data/utils.py:94: The name tf.reset_default_graph is deprecated. Please use tf.compat.v1.reset_default_graph instead.\n",
            "\n",
            "WARNING:tensorflow:From /content/gdrive/My Drive/Colab Notebooks/notebook1-reduced-data/utils.py:96: The name tf.placeholder is deprecated. Please use tf.compat.v1.placeholder instead.\n",
            "\n",
            "WARNING:tensorflow:From /usr/local/lib/python3.6/dist-packages/tensorflow_core/python/ops/resource_variable_ops.py:1630: calling BaseResourceVariable.__init__ (from tensorflow.python.ops.resource_variable_ops) with constraint is deprecated and will be removed in a future version.\n",
            "Instructions for updating:\n",
            "If using Keras pass *_constraint arguments to layers.\n",
            "WARNING:tensorflow:From /usr/local/lib/python3.6/dist-packages/tensorflow_core/python/keras/backend.py:3994: where (from tensorflow.python.ops.array_ops) is deprecated and will be removed in a future version.\n",
            "Instructions for updating:\n",
            "Use tf.where in 2.0, which has the same broadcast rule as np.where\n",
            "WARNING:tensorflow:From /content/gdrive/My Drive/Colab Notebooks/notebook1-reduced-data/utils.py:107: The name tf.get_collection is deprecated. Please use tf.compat.v1.get_collection instead.\n",
            "\n",
            "WARNING:tensorflow:From /content/gdrive/My Drive/Colab Notebooks/notebook1-reduced-data/utils.py:107: The name tf.GraphKeys is deprecated. Please use tf.compat.v1.GraphKeys instead.\n",
            "\n",
            "WARNING:tensorflow:From /content/gdrive/My Drive/Colab Notebooks/notebook1-reduced-data/utils.py:111: The name tf.Session is deprecated. Please use tf.compat.v1.Session instead.\n",
            "\n",
            "WARNING:tensorflow:From /content/gdrive/My Drive/Colab Notebooks/notebook1-reduced-data/utils.py:111: The name tf.ConfigProto is deprecated. Please use tf.compat.v1.ConfigProto instead.\n",
            "\n",
            "WARNING:tensorflow:From /content/gdrive/My Drive/Colab Notebooks/notebook1-reduced-data/utils.py:114: The name tf.global_variables_initializer is deprecated. Please use tf.compat.v1.global_variables_initializer instead.\n",
            "\n",
            "Starting epoch 0\n"
          ],
          "name": "stdout"
        },
        {
          "output_type": "stream",
          "text": [
            "/content/gdrive/My Drive/Colab Notebooks/notebook1-reduced-data/utils.py:36: FutureWarning: Method .as_matrix will be removed in a future version. Use .values instead.\n",
            "  patient_feats = patient_feats.as_matrix()\n",
            "/content/gdrive/My Drive/Colab Notebooks/notebook1-reduced-data/utils.py:41: FutureWarning: Method .as_matrix will be removed in a future version. Use .values instead.\n",
            "  Y[i] = labels[labels.eDWID == patient]['dflag'].as_matrix()[0]\n"
          ],
          "name": "stderr"
        },
        {
          "output_type": "stream",
          "text": [
            "Iteration 0, loss = 0.6883\n",
            "Accuracy: Got 2392 / 8700 correct (27.49%)\n",
            "Precision: Got 2392 / 2392.0 correct (100.0%)\n",
            "True Negative Rate: Got 0 / 6308.0 correct (0.0%)\n",
            "\n",
            "Iteration 100, loss = 0.3711\n",
            "Accuracy: Got 6839 / 8700 correct (78.61%)\n",
            "Precision: Got 2261 / 2392.0 correct (94.52341137123746%)\n",
            "True Negative Rate: Got 4578 / 6308.0 correct (72.57450856055803%)\n",
            "\n",
            "Iteration 200, loss = 0.2357\n",
            "Accuracy: Got 7652 / 8700 correct (87.95%)\n",
            "Precision: Got 1876 / 2392.0 correct (78.42809364548495%)\n",
            "True Negative Rate: Got 5776 / 6308.0 correct (91.56626506024097%)\n",
            "\n",
            "Iteration 300, loss = 0.2681\n",
            "Accuracy: Got 7454 / 8700 correct (85.68%)\n",
            "Precision: Got 2127 / 2392.0 correct (88.92140468227426%)\n",
            "True Negative Rate: Got 5327 / 6308.0 correct (84.44831959416615%)\n",
            "\n",
            "Iteration 400, loss = 0.2889\n",
            "Accuracy: Got 7582 / 8700 correct (87.15%)\n",
            "Precision: Got 2073 / 2392.0 correct (86.6638795986622%)\n",
            "True Negative Rate: Got 5509 / 6308.0 correct (87.33354470513633%)\n",
            "\n",
            "Iteration 500, loss = 0.2365\n",
            "Accuracy: Got 7566 / 8700 correct (86.97%)\n",
            "Precision: Got 2120 / 2392.0 correct (88.62876254180601%)\n",
            "True Negative Rate: Got 5446 / 6308.0 correct (86.33481293595435%)\n",
            "\n"
          ],
          "name": "stdout"
        }
      ]
    },
    {
      "cell_type": "markdown",
      "metadata": {
        "id": "J_ndMj14UcIl",
        "colab_type": "text"
      },
      "source": [
        "## Performance Evaluation  \n",
        "Since the data is unbalanced, both the true positive and true negative rates were used as performance metrics along side accuracy.  The simple RNN was able to obtain about 80% accuracy, precision, and true negative rates after 1 epoch.  The performance metrics improved by about 6% with the multi-layer LSTM architectures and the convergence rates were higher. The multi-layer LSTM RNN with the fully-connected network performed the best.\n",
        "\n"
      ]
    },
    {
      "cell_type": "code",
      "metadata": {
        "id": "TL-RiU5vye3T",
        "colab_type": "code",
        "outputId": "495cdbe5-53f3-486f-ffee-1f9dcf9db5d8",
        "colab": {
          "base_uri": "https://localhost:8080/",
          "height": 295
        }
      },
      "source": [
        "plt.figure()\n",
        "\n",
        "plt.plot(range(len(loss_history_rnn)), loss_history_rnn, label='Simple RNN');\n",
        "plt.plot(range(len(loss_history_lstm)), loss_history_lstm, label='Multi-Layer LSTM');\n",
        "plt.plot(range(len(loss_history_lstm_dense)), loss_history_lstm_dense, \n",
        "         label='Multi-Layer LSTM and Dense Net');\n",
        "\n",
        "plt.xlabel('Iteration Number');\n",
        "plt.ylabel('Loss')\n",
        "plt.title('Loss History');\n",
        "plt.legend(loc='upper right');"
      ],
      "execution_count": 0,
      "outputs": [
        {
          "output_type": "display_data",
          "data": {
            "image/png": "[encoded data removed]",
            "text/plain": [
              "<Figure size 432x288 with 1 Axes>"
            ]
          },
          "metadata": {
            "tags": []
          }
        }
      ]
    },
    {
      "cell_type": "code",
      "metadata": {
        "id": "b8JlElgQ0BUF",
        "colab_type": "code",
        "outputId": "e5d0fac1-9043-480c-f1b7-3160d8f72a1e",
        "colab": {
          "base_uri": "https://localhost:8080/",
          "height": 295
        }
      },
      "source": [
        "plt.figure()\n",
        "\n",
        "plt.plot(range(len(perf_history_rnn)), perf_history_rnn, label='Simple RNN');\n",
        "plt.plot(range(len(perf_history_lstm)), perf_history_lstm, label='Multi-Layer LSTM');\n",
        "plt.plot(range(len(perf_history_lstm_dense)), perf_history_lstm_dense, \n",
        "         label='Multi-Layer LSTM and Dense Net');\n",
        "\n",
        "plt.xlabel('Iteration Number');\n",
        "plt.ylabel('Loss')\n",
        "plt.title('Loss History');\n",
        "plt.legend(loc='lower right');"
      ],
      "execution_count": 0,
      "outputs": [
        {
          "output_type": "display_data",
          "data": {
            "image/png": "[encoded data removed]",
            "text/plain": [
              "<Figure size 432x288 with 1 Axes>"
            ]
          },
          "metadata": {
            "tags": []
          }
        }
      ]
    }
  ]
}
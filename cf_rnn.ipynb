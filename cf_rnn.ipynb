{
  "nbformat": 4,
  "nbformat_minor": 0,
  "metadata": {
    "colab": {
      "name": "cf_rnn.ipynb",
      "provenance": [],
      "collapsed_sections": [],
      "include_colab_link": true
    },
    "kernelspec": {
      "name": "python3",
      "display_name": "Python 3"
    },
    "accelerator": "GPU"
  },
  "cells": [
    {
      "cell_type": "markdown",
      "metadata": {
        "id": "view-in-github",
        "colab_type": "text"
      },
      "source": [
        "<a href=\"https://colab.research.google.com/github/2667schummr/recurrent-nn-cystic-fibrosis/blob/master/cf_rnn.ipynb\" target=\"_parent\"><img src=\"https://colab.research.google.com/assets/colab-badge.svg\" alt=\"Open In Colab\"/></a>"
      ]
    },
    {
      "cell_type": "code",
      "metadata": {
        "id": "I7QfOEzJbeM9",
        "colab_type": "code",
        "colab": {
          "base_uri": "https://localhost:8080/",
          "height": 121
        },
        "outputId": "bcc41f7e-3a27-4197-c678-aa70f23c389a"
      },
      "source": [
        "import numpy as np\n",
        "import pandas as pd\n",
        "import os\n",
        "import tensorflow as tf\n",
        "from sklearn.model_selection import train_test_split\n",
        "from sklearn.metrics import precision_score\n",
        "from google.colab import drive\n",
        "from imblearn.over_sampling import RandomOverSampler\n",
        "import matplotlib.pyplot as plt"
      ],
      "execution_count": 1,
      "outputs": [
        {
          "output_type": "display_data",
          "data": {
            "text/html": [
              "<p style=\"color: red;\">\n",
              "The default version of TensorFlow in Colab will soon switch to TensorFlow 2.x.<br>\n",
              "We recommend you <a href=\"https://www.tensorflow.org/guide/migrate\" target=\"_blank\">upgrade</a> now \n",
              "or ensure your notebook will continue to use TensorFlow 1.x via the <code>%tensorflow_version 1.x</code> magic:\n",
              "<a href=\"https://colab.research.google.com/notebooks/tensorflow_version.ipynb\" target=\"_blank\">more info</a>.</p>\n"
            ],
            "text/plain": [
              "<IPython.core.display.HTML object>"
            ]
          },
          "metadata": {
            "tags": []
          }
        },
        {
          "output_type": "stream",
          "text": [
            "/usr/local/lib/python3.6/dist-packages/sklearn/externals/six.py:31: DeprecationWarning: The module is deprecated in version 0.21 and will be removed in version 0.23 since we've dropped support for Python 2.7. Please rely on the official version of six (https://pypi.org/project/six/).\n",
            "  \"(https://pypi.org/project/six/).\", DeprecationWarning)\n"
          ],
          "name": "stderr"
        }
      ]
    },
    {
      "cell_type": "code",
      "metadata": {
        "id": "GeZsGz_s9vvG",
        "colab_type": "code",
        "colab": {}
      },
      "source": [
        "# Specify training parameters\n",
        "device = '/device:GPU:0'\n",
        "print_every = 100\n",
        "batch_size = 100"
      ],
      "execution_count": 0,
      "outputs": []
    },
    {
      "cell_type": "code",
      "metadata": {
        "id": "7swofaj1bwWw",
        "colab_type": "code",
        "outputId": "b592222b-b7c4-492f-f157-f0e6d3286c59",
        "colab": {
          "base_uri": "https://localhost:8080/",
          "height": 146
        }
      },
      "source": [
        "# Make google drive files accessible\n",
        "drive.mount('/content/gdrive')\n",
        "path = '/content/gdrive/My Drive/Colab Notebooks'\n",
        "os.chdir(path)\n",
        "print('Current Working Directory: {}'.format(os.getcwd()))"
      ],
      "execution_count": 3,
      "outputs": [
        {
          "output_type": "stream",
          "text": [
            "Go to this URL in a browser: https://accounts.google.com/o/oauth2/auth?client_id=947318989803-6bn6qk8qdgf4n4g3pfee6491hc0brc4i.apps.googleusercontent.com&redirect_uri=urn%3aietf%3awg%3aoauth%3a2.0%3aoob&response_type=code&scope=email%20https%3a%2f%2fwww.googleapis.com%2fauth%2fdocs.test%20https%3a%2f%2fwww.googleapis.com%2fauth%2fdrive%20https%3a%2f%2fwww.googleapis.com%2fauth%2fdrive.photos.readonly%20https%3a%2f%2fwww.googleapis.com%2fauth%2fpeopleapi.readonly\n",
            "\n",
            "Enter your authorization code:\n",
            "··········\n",
            "Mounted at /content/gdrive\n",
            "Current Working Directory: /content/gdrive/My Drive/Colab Notebooks\n"
          ],
          "name": "stdout"
        }
      ]
    },
    {
      "cell_type": "code",
      "metadata": {
        "id": "ixUv7UjteJ7w",
        "colab_type": "code",
        "outputId": "28362187-9eb6-46f9-bf6d-427ac5198d49",
        "colab": {
          "base_uri": "https://localhost:8080/",
          "height": 236
        }
      },
      "source": [
        "# Load the panda dataframe containing the features\n",
        "feats = pd.read_pickle('./processed_data_complete_feats.pkl')\n",
        "print('Feature Shape: {}'.format(feats.shape))\n",
        "\n",
        "num_feats = feats.shape[1] - 2\n",
        "max_seq_length = feats.groupby('eDWID').count()['YRM'].max()\n",
        "\n",
        "drop_cols = ['eDWID', 'YRM'] # These are identification columns\n",
        "feats.head()"
      ],
      "execution_count": 4,
      "outputs": [
        {
          "output_type": "stream",
          "text": [
            "Feature Shape: (513452, 34)\n"
          ],
          "name": "stdout"
        },
        {
          "output_type": "execute_result",
          "data": {
            "text/html": [
              "<div>\n",
              "<style scoped>\n",
              "    .dataframe tbody tr th:only-of-type {\n",
              "        vertical-align: middle;\n",
              "    }\n",
              "\n",
              "    .dataframe tbody tr th {\n",
              "        vertical-align: top;\n",
              "    }\n",
              "\n",
              "    .dataframe thead th {\n",
              "        text-align: right;\n",
              "    }\n",
              "</style>\n",
              "<table border=\"1\" class=\"dataframe\">\n",
              "  <thead>\n",
              "    <tr style=\"text-align: right;\">\n",
              "      <th></th>\n",
              "      <th>eDWID</th>\n",
              "      <th>YRM</th>\n",
              "      <th>mssa</th>\n",
              "      <th>mrsa</th>\n",
              "      <th>h_flu</th>\n",
              "      <th>pseudo</th>\n",
              "      <th>burkho_complex</th>\n",
              "      <th>alcalig</th>\n",
              "      <th>steno</th>\n",
              "      <th>enterobacter</th>\n",
              "      <th>serratia_marcescens</th>\n",
              "      <th>aspergillus</th>\n",
              "      <th>candida</th>\n",
              "      <th>scedosporium</th>\n",
              "      <th>mabscessus</th>\n",
              "      <th>mai</th>\n",
              "      <th>bd_age</th>\n",
              "      <th>sex</th>\n",
              "      <th>suff</th>\n",
              "      <th>trunc03</th>\n",
              "      <th>all_tob</th>\n",
              "      <th>all_mod</th>\n",
              "      <th>all_bd</th>\n",
              "      <th>dnase</th>\n",
              "      <th>inhcolistin</th>\n",
              "      <th>inhaztreonam</th>\n",
              "      <th>hypersaline</th>\n",
              "      <th>chronic_macrolide</th>\n",
              "      <th>oral_steroids</th>\n",
              "      <th>inh_steroids</th>\n",
              "      <th>inhsteroids_bronchodil</th>\n",
              "      <th>oral_other_abx</th>\n",
              "      <th>txflag</th>\n",
              "      <th>othertx</th>\n",
              "    </tr>\n",
              "  </thead>\n",
              "  <tbody>\n",
              "    <tr>\n",
              "      <th>0</th>\n",
              "      <td>900000702</td>\n",
              "      <td>2003</td>\n",
              "      <td>0</td>\n",
              "      <td>0</td>\n",
              "      <td>0</td>\n",
              "      <td>1</td>\n",
              "      <td>0</td>\n",
              "      <td>0</td>\n",
              "      <td>0</td>\n",
              "      <td>0</td>\n",
              "      <td>0</td>\n",
              "      <td>1</td>\n",
              "      <td>0</td>\n",
              "      <td>0</td>\n",
              "      <td>0</td>\n",
              "      <td>0</td>\n",
              "      <td>6</td>\n",
              "      <td>0</td>\n",
              "      <td>0</td>\n",
              "      <td>1</td>\n",
              "      <td>1</td>\n",
              "      <td>0</td>\n",
              "      <td>0</td>\n",
              "      <td>1</td>\n",
              "      <td>0</td>\n",
              "      <td>0</td>\n",
              "      <td>0</td>\n",
              "      <td>1</td>\n",
              "      <td>0</td>\n",
              "      <td>0</td>\n",
              "      <td>0</td>\n",
              "      <td>0</td>\n",
              "      <td>0</td>\n",
              "      <td>0</td>\n",
              "    </tr>\n",
              "    <tr>\n",
              "      <th>1</th>\n",
              "      <td>900000702</td>\n",
              "      <td>2004</td>\n",
              "      <td>0</td>\n",
              "      <td>0</td>\n",
              "      <td>0</td>\n",
              "      <td>1</td>\n",
              "      <td>0</td>\n",
              "      <td>0</td>\n",
              "      <td>0</td>\n",
              "      <td>0</td>\n",
              "      <td>0</td>\n",
              "      <td>0</td>\n",
              "      <td>0</td>\n",
              "      <td>0</td>\n",
              "      <td>0</td>\n",
              "      <td>0</td>\n",
              "      <td>7</td>\n",
              "      <td>0</td>\n",
              "      <td>0</td>\n",
              "      <td>0</td>\n",
              "      <td>1</td>\n",
              "      <td>0</td>\n",
              "      <td>0</td>\n",
              "      <td>1</td>\n",
              "      <td>0</td>\n",
              "      <td>0</td>\n",
              "      <td>0</td>\n",
              "      <td>1</td>\n",
              "      <td>0</td>\n",
              "      <td>0</td>\n",
              "      <td>0</td>\n",
              "      <td>0</td>\n",
              "      <td>0</td>\n",
              "      <td>0</td>\n",
              "    </tr>\n",
              "    <tr>\n",
              "      <th>2</th>\n",
              "      <td>900000702</td>\n",
              "      <td>2005</td>\n",
              "      <td>0</td>\n",
              "      <td>0</td>\n",
              "      <td>0</td>\n",
              "      <td>1</td>\n",
              "      <td>0</td>\n",
              "      <td>0</td>\n",
              "      <td>0</td>\n",
              "      <td>0</td>\n",
              "      <td>0</td>\n",
              "      <td>1</td>\n",
              "      <td>0</td>\n",
              "      <td>0</td>\n",
              "      <td>0</td>\n",
              "      <td>0</td>\n",
              "      <td>8</td>\n",
              "      <td>0</td>\n",
              "      <td>0</td>\n",
              "      <td>0</td>\n",
              "      <td>1</td>\n",
              "      <td>0</td>\n",
              "      <td>0</td>\n",
              "      <td>1</td>\n",
              "      <td>0</td>\n",
              "      <td>0</td>\n",
              "      <td>0</td>\n",
              "      <td>1</td>\n",
              "      <td>0</td>\n",
              "      <td>0</td>\n",
              "      <td>0</td>\n",
              "      <td>0</td>\n",
              "      <td>0</td>\n",
              "      <td>0</td>\n",
              "    </tr>\n",
              "    <tr>\n",
              "      <th>3</th>\n",
              "      <td>900000702</td>\n",
              "      <td>2006</td>\n",
              "      <td>0</td>\n",
              "      <td>0</td>\n",
              "      <td>0</td>\n",
              "      <td>1</td>\n",
              "      <td>0</td>\n",
              "      <td>0</td>\n",
              "      <td>0</td>\n",
              "      <td>0</td>\n",
              "      <td>0</td>\n",
              "      <td>1</td>\n",
              "      <td>0</td>\n",
              "      <td>0</td>\n",
              "      <td>0</td>\n",
              "      <td>0</td>\n",
              "      <td>9</td>\n",
              "      <td>0</td>\n",
              "      <td>0</td>\n",
              "      <td>0</td>\n",
              "      <td>1</td>\n",
              "      <td>0</td>\n",
              "      <td>1</td>\n",
              "      <td>1</td>\n",
              "      <td>0</td>\n",
              "      <td>0</td>\n",
              "      <td>0</td>\n",
              "      <td>1</td>\n",
              "      <td>0</td>\n",
              "      <td>1</td>\n",
              "      <td>0</td>\n",
              "      <td>0</td>\n",
              "      <td>0</td>\n",
              "      <td>0</td>\n",
              "    </tr>\n",
              "    <tr>\n",
              "      <th>4</th>\n",
              "      <td>900000702</td>\n",
              "      <td>2007</td>\n",
              "      <td>0</td>\n",
              "      <td>0</td>\n",
              "      <td>0</td>\n",
              "      <td>1</td>\n",
              "      <td>0</td>\n",
              "      <td>0</td>\n",
              "      <td>0</td>\n",
              "      <td>0</td>\n",
              "      <td>0</td>\n",
              "      <td>1</td>\n",
              "      <td>0</td>\n",
              "      <td>0</td>\n",
              "      <td>0</td>\n",
              "      <td>0</td>\n",
              "      <td>10</td>\n",
              "      <td>0</td>\n",
              "      <td>0</td>\n",
              "      <td>0</td>\n",
              "      <td>1</td>\n",
              "      <td>0</td>\n",
              "      <td>1</td>\n",
              "      <td>1</td>\n",
              "      <td>0</td>\n",
              "      <td>0</td>\n",
              "      <td>0</td>\n",
              "      <td>1</td>\n",
              "      <td>0</td>\n",
              "      <td>1</td>\n",
              "      <td>0</td>\n",
              "      <td>0</td>\n",
              "      <td>0</td>\n",
              "      <td>0</td>\n",
              "    </tr>\n",
              "  </tbody>\n",
              "</table>\n",
              "</div>"
            ],
            "text/plain": [
              "       eDWID   YRM  mssa  ...  oral_other_abx  txflag  othertx\n",
              "0  900000702  2003     0  ...               0       0        0\n",
              "1  900000702  2004     0  ...               0       0        0\n",
              "2  900000702  2005     0  ...               0       0        0\n",
              "3  900000702  2006     0  ...               0       0        0\n",
              "4  900000702  2007     0  ...               0       0        0\n",
              "\n",
              "[5 rows x 34 columns]"
            ]
          },
          "metadata": {
            "tags": []
          },
          "execution_count": 4
        }
      ]
    },
    {
      "cell_type": "code",
      "metadata": {
        "id": "d9h5v-_fZ90a",
        "colab_type": "code",
        "outputId": "64f0ceaa-8ebb-4599-84ed-81afeeb6e88b",
        "colab": {
          "base_uri": "https://localhost:8080/",
          "height": 216
        }
      },
      "source": [
        "# Load the pandas dataframe containing the labels\n",
        "labels = pd.read_pickle('./dflags.pkl')\n",
        "print('Labels Shape: {}'.format(labels.shape))\n",
        "num_obs = labels.shape[0]\n",
        "labels.head()"
      ],
      "execution_count": 28,
      "outputs": [
        {
          "output_type": "stream",
          "text": [
            "Labels Shape: (43454, 2)\n"
          ],
          "name": "stdout"
        },
        {
          "output_type": "execute_result",
          "data": {
            "text/html": [
              "<div>\n",
              "<style scoped>\n",
              "    .dataframe tbody tr th:only-of-type {\n",
              "        vertical-align: middle;\n",
              "    }\n",
              "\n",
              "    .dataframe tbody tr th {\n",
              "        vertical-align: top;\n",
              "    }\n",
              "\n",
              "    .dataframe thead th {\n",
              "        text-align: right;\n",
              "    }\n",
              "</style>\n",
              "<table border=\"1\" class=\"dataframe\">\n",
              "  <thead>\n",
              "    <tr style=\"text-align: right;\">\n",
              "      <th></th>\n",
              "      <th>eDWID</th>\n",
              "      <th>dflag</th>\n",
              "    </tr>\n",
              "  </thead>\n",
              "  <tbody>\n",
              "    <tr>\n",
              "      <th>0</th>\n",
              "      <td>900000702</td>\n",
              "      <td>0</td>\n",
              "    </tr>\n",
              "    <tr>\n",
              "      <th>99</th>\n",
              "      <td>900000736</td>\n",
              "      <td>0</td>\n",
              "    </tr>\n",
              "    <tr>\n",
              "      <th>106</th>\n",
              "      <td>900000742</td>\n",
              "      <td>1</td>\n",
              "    </tr>\n",
              "    <tr>\n",
              "      <th>196</th>\n",
              "      <td>900000776</td>\n",
              "      <td>0</td>\n",
              "    </tr>\n",
              "    <tr>\n",
              "      <th>200</th>\n",
              "      <td>900010702</td>\n",
              "      <td>1</td>\n",
              "    </tr>\n",
              "  </tbody>\n",
              "</table>\n",
              "</div>"
            ],
            "text/plain": [
              "         eDWID  dflag\n",
              "0    900000702      0\n",
              "99   900000736      0\n",
              "106  900000742      1\n",
              "196  900000776      0\n",
              "200  900010702      1"
            ]
          },
          "metadata": {
            "tags": []
          },
          "execution_count": 28
        }
      ]
    },
    {
      "cell_type": "code",
      "metadata": {
        "id": "S8tlOmz_wXBF",
        "colab_type": "code",
        "colab": {}
      },
      "source": [
        "# Define a class that generates batches of training and testing data\n",
        "class Dataset(object):\n",
        "    def __init__(self, labels, batch_size, shuffle=False):\n",
        "        self.X = labels['eDWID'].as_matrix()\n",
        "        self.y = labels['dflag'].as_matrix()\n",
        "        self.batch_size, self.shuffle = batch_size, shuffle\n",
        "\n",
        "    def __iter__(self):\n",
        "        N, B = self.X.shape[0], self.batch_size\n",
        "        idxs = np.arange(N)\n",
        "        if self.shuffle:\n",
        "          np.random.shuffle(idxs)\n",
        "        return iter((self.X[idxs[i:i+B]], self.y[idxs[i:i+B]]) for i in range(0, N, B))"
      ],
      "execution_count": 0,
      "outputs": []
    },
    {
      "cell_type": "code",
      "metadata": {
        "id": "S9pxUfIbcPhk",
        "colab_type": "code",
        "outputId": "4779348f-1841-49e3-db32-3fcc2cc8f39b",
        "colab": {
          "base_uri": "https://localhost:8080/",
          "height": 146
        }
      },
      "source": [
        "# Split the data into training and testing sets and create Dataset objects \n",
        "# and oversample training data for class balance\n",
        "labels = labels.sample(frac=1)\n",
        "labels_train, labels_test = train_test_split(labels, test_size=0.2, shuffle=False)\n",
        "\n",
        "ros = RandomOverSampler()\n",
        "X, y = ros.fit_resample(labels_train['eDWID'].as_matrix().reshape((-1, 1)), \n",
        "                        labels_train['dflag'])\n",
        "labels_train = pd.DataFrame({'eDWID': X.reshape((-1,)), 'dflag': y})\n",
        "\n",
        "patient_batches_train = Dataset(labels_train, batch_size, shuffle=True)\n",
        "patient_batches_test = Dataset(labels_test, batch_size, shuffle=True)"
      ],
      "execution_count": 29,
      "outputs": [
        {
          "output_type": "stream",
          "text": [
            "/usr/local/lib/python3.6/dist-packages/ipykernel_launcher.py:5: FutureWarning: Method .as_matrix will be removed in a future version. Use .values instead.\n",
            "  \"\"\"\n",
            "/usr/local/lib/python3.6/dist-packages/ipykernel_launcher.py:3: FutureWarning: Method .as_matrix will be removed in a future version. Use .values instead.\n",
            "  This is separate from the ipykernel package so we can avoid doing imports until\n",
            "/usr/local/lib/python3.6/dist-packages/ipykernel_launcher.py:4: FutureWarning: Method .as_matrix will be removed in a future version. Use .values instead.\n",
            "  after removing the cwd from sys.path.\n"
          ],
          "name": "stderr"
        }
      ]
    },
    {
      "cell_type": "code",
      "metadata": {
        "id": "FQX4g_v6afU2",
        "colab_type": "code",
        "outputId": "22416ee0-be2e-4092-f3d2-8ed40b0afba3",
        "colab": {
          "base_uri": "https://localhost:8080/",
          "height": 283
        }
      },
      "source": [
        "deaths_per_batch = []\n",
        "batch_num = []\n",
        "for i, (patients, patient_labels) in enumerate(patient_batches_train):\n",
        "  deaths_per_batch.append(patient_labels.sum() / patient_labels.shape[0])\n",
        "  batch_num.append(i)\n",
        "\n",
        "plt.plot(batch_num, deaths_per_batch);\n",
        "mean_deaths_per_batch = np.array(deaths_per_batch).mean()\n",
        "print('Means Deaths per Batch {}'.format(mean_deaths_per_batch))"
      ],
      "execution_count": 30,
      "outputs": [
        {
          "output_type": "stream",
          "text": [
            "Means Deaths per Batch 0.4999757745760551\n"
          ],
          "name": "stdout"
        },
        {
          "output_type": "display_data",
          "data": {
            "image/png": "[encoded data removed]",
            "text/plain": [
              "<Figure size 432x288 with 1 Axes>"
            ]
          },
          "metadata": {
            "tags": []
          }
        }
      ]
    },
    {
      "cell_type": "code",
      "metadata": {
        "id": "s-xj6RsHb86l",
        "colab_type": "code",
        "colab": {}
      },
      "source": [
        "# Method for computing testing accuracies \n",
        "def check_accuracy(sess, dset, x, scores, seq_mask, is_training=None):\n",
        "    num_correct, num_samples = 0, 0\n",
        "    num_pos, num_pos_correct = 0, 0\n",
        "    num_neg, num_neg_correct = 0, 0\n",
        "\n",
        "    for patients, patient_labels in dset:\n",
        "      x_batch, y_batch, mask_batch = generate_data(patients, patient_labels)\n",
        "      feed_dict = {x: x_batch, is_training: 0, seq_mask: mask_batch}\n",
        "\n",
        "      scores_np = sess.run(scores, feed_dict=feed_dict)\n",
        "      y_pred = scores_np.argmax(axis=1)\n",
        "\n",
        "      num_samples += x_batch.shape[0]\n",
        "      num_correct += (y_pred == y_batch).sum()\n",
        "\n",
        "      num_pos += y_batch.sum()\n",
        "      num_pos_correct += ((y_pred == y_batch) & (y_batch == 1)).sum()\n",
        "\n",
        "      num_neg += y_batch.shape[0] - y_batch.sum()\n",
        "      num_neg_correct += ((y_pred == y_batch) & (y_batch == 0)).sum()\n",
        "\n",
        "    acc = float(num_correct) / num_samples\n",
        "    prec = float(num_pos_correct) / num_pos\n",
        "    true_neg_rate = float(num_neg_correct) / num_neg\n",
        "\n",
        "    print('Accuracy: Got %d / %d correct (%.2f%%)' % (num_correct, num_samples, 100 * acc))\n",
        "    print('Precision: Got {} / {} correct ({}%)'.format(num_pos_correct, num_pos, 100*prec))\n",
        "    print('True Negative Rate: Got {} / {} correct ({}%)'.format(num_neg_correct, num_pos, 100*true_neg_rate))"
      ],
      "execution_count": 0,
      "outputs": []
    },
    {
      "cell_type": "code",
      "metadata": {
        "id": "ScM43zoLDf_C",
        "colab_type": "code",
        "colab": {}
      },
      "source": [
        "# Method for transforming the pandas dataframes into 3-D tensors for the RNN\n",
        "def generate_data(patients, patient_labels):\n",
        "  X = np.zeros((batch_size, max_seq_length, num_feats))\n",
        "  Y = np.zeros((batch_size))\n",
        "  mask = np.zeros((batch_size, max_seq_length))\n",
        "\n",
        "  for i, patient in enumerate(patients):\n",
        "    patient_feats = feats[feats.eDWID == patient].drop(drop_cols, axis=1)\n",
        "    patient_feats = patient_feats.as_matrix()\n",
        "    seq_length = patient_feats.shape[0]\n",
        "    X[i, :seq_length, :] = patient_feats\n",
        "    mask[i, :seq_length] = True\n",
        "    mask[i, seq_length:] = False \n",
        "    Y[i] = labels[labels.eDWID == patient]['dflag'].as_matrix()[0]\n",
        "  \n",
        "  return X, Y, mask"
      ],
      "execution_count": 0,
      "outputs": []
    },
    {
      "cell_type": "code",
      "metadata": {
        "id": "VE_59B0qdCHF",
        "colab_type": "code",
        "colab": {}
      },
      "source": [
        "# The training procedure\n",
        "def train(model_init_fn, optimizer_init_fn, num_epochs=1):\n",
        "    tf.reset_default_graph()    \n",
        "\n",
        "    x = tf.placeholder(tf.float32, [None,  max_seq_length, num_feats])\n",
        "    y = tf.placeholder(tf.int32, [None])\n",
        "    seq_mask = tf.placeholder(tf.bool, [None, max_seq_length])\n",
        "    is_training = tf.placeholder(tf.bool, name='is_training')\n",
        "    \n",
        "    scores = model_init_fn(x, is_training, seq_mask)\n",
        "\n",
        "    loss = tf.nn.sparse_softmax_cross_entropy_with_logits(labels=y, logits=scores)\n",
        "    loss = tf.reduce_mean(loss)\n",
        "\n",
        "    optimizer = optimizer_init_fn()\n",
        "    update_ops = tf.get_collection(tf.GraphKeys.UPDATE_OPS)\n",
        "    with tf.control_dependencies(update_ops):\n",
        "        train_op = optimizer.minimize(loss)\n",
        "      \n",
        "    sess = tf.Session(config=tf.ConfigProto(allow_soft_placement=True, \n",
        "                                            log_device_placement=False))\n",
        "    with sess:\n",
        "      sess.run(tf.global_variables_initializer())\n",
        "      t = 0\n",
        "      for epoch in range(num_epochs):\n",
        "          print('Starting epoch %d' % epoch)\n",
        "          for (patients, patient_labels) in patient_batches_train:\n",
        "            x_np, y_np, mask_np = generate_data(patients, patient_labels)\n",
        "            feed_dict = {x: x_np, y: y_np, is_training: 1, seq_mask: mask_np}\n",
        "            score_np, loss_np, _ = sess.run([scores, loss, train_op], feed_dict=feed_dict)\n",
        "            \n",
        "            if t % print_every == 0:\n",
        "              print('Iteration %d, loss = %.4f' % (t, loss_np))\n",
        "              check_accuracy(sess, patient_batches_test, x, scores, seq_mask,\n",
        "                             is_training=is_training)\n",
        "              print()\n",
        "            t += 1\n",
        "            "
      ],
      "execution_count": 0,
      "outputs": []
    },
    {
      "cell_type": "code",
      "metadata": {
        "id": "2UDYPoMbaFYZ",
        "colab_type": "code",
        "outputId": "57edb928-a0e8-4ba3-8f7b-7636a371cbe4",
        "colab": {
          "base_uri": "https://localhost:8080/",
          "height": 674
        }
      },
      "source": [
        "# Define the model and optimize and train the model\n",
        "def model_init_fn(inputs, is_training, seq_filter):\n",
        "    model = tf.keras.Sequential()\n",
        "    model.add(\n",
        "        tf.keras.layers.SimpleRNN(2, \n",
        "                                  batch_input_shape=(None, max_seq_length, num_feats),\n",
        "                                  return_sequences=False))\n",
        "    return model(inputs, mask=seq_filter, training=is_training) \n",
        "\n",
        "learning_rate = 1e-3\n",
        "def optimizer_init_fn():\n",
        "    optimizer = tf.train.AdamOptimizer(learning_rate=learning_rate)\n",
        "    return optimizer\n",
        "\n",
        "train(model_init_fn, optimizer_init_fn, num_epochs=1)"
      ],
      "execution_count": 50,
      "outputs": [
        {
          "output_type": "stream",
          "text": [
            "Starting epoch 0\n"
          ],
          "name": "stdout"
        },
        {
          "output_type": "stream",
          "text": [
            "/usr/local/lib/python3.6/dist-packages/ipykernel_launcher.py:8: FutureWarning: Method .as_matrix will be removed in a future version. Use .values instead.\n",
            "  \n",
            "/usr/local/lib/python3.6/dist-packages/ipykernel_launcher.py:13: FutureWarning: Method .as_matrix will be removed in a future version. Use .values instead.\n",
            "  del sys.path[0]\n"
          ],
          "name": "stderr"
        },
        {
          "output_type": "stream",
          "text": [
            "Iteration 0, loss = 1.0261\n",
            "Accuracy: Got 2693 / 8700 correct (30.95%)\n",
            "Precision: Got 2135 / 2368.0 correct (90.16047297297297%)\n",
            "True Negative Rate: Got 558 / 2368.0 correct (8.81238155401137%)\n",
            "\n",
            "Iteration 100, loss = 0.5896\n",
            "Accuracy: Got 6151 / 8700 correct (70.70%)\n",
            "Precision: Got 1494 / 2368.0 correct (63.09121621621622%)\n",
            "True Negative Rate: Got 4657 / 2368.0 correct (73.547062539482%)\n",
            "\n",
            "Iteration 200, loss = 0.5268\n",
            "Accuracy: Got 6775 / 8700 correct (77.87%)\n",
            "Precision: Got 2024 / 2368.0 correct (85.47297297297297%)\n",
            "True Negative Rate: Got 4751 / 2368.0 correct (75.03158559696779%)\n",
            "\n",
            "Iteration 300, loss = 0.4579\n",
            "Accuracy: Got 7167 / 8700 correct (82.38%)\n",
            "Precision: Got 2027 / 2368.0 correct (85.59966216216216%)\n",
            "True Negative Rate: Got 5140 / 2368.0 correct (81.17498420720152%)\n",
            "\n",
            "Iteration 400, loss = 0.4323\n",
            "Accuracy: Got 7190 / 8700 correct (82.64%)\n",
            "Precision: Got 2094 / 2368.0 correct (88.42905405405406%)\n",
            "True Negative Rate: Got 5096 / 2368.0 correct (80.48010107391029%)\n",
            "\n",
            "Iteration 500, loss = 0.3779\n",
            "Accuracy: Got 7426 / 8700 correct (85.36%)\n",
            "Precision: Got 2029 / 2368.0 correct (85.68412162162163%)\n",
            "True Negative Rate: Got 5397 / 2368.0 correct (85.2337334175616%)\n",
            "\n"
          ],
          "name": "stdout"
        }
      ]
    }
  ]
}